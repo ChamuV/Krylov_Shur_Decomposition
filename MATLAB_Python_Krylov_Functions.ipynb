{
 "cells": [
  {
   "cell_type": "code",
   "execution_count": 11,
   "id": "f135139f-4010-4f46-83dd-b3367fd3f3cb",
   "metadata": {},
   "outputs": [],
   "source": [
    "import numpy as np\n",
    "import scipy.linalg as sln\n",
    "import matplotlib.pyplot as plt\n",
    "import warnings\n",
    "np.set_printoptions(formatter={'float': '{: 0.3f}'.format})"
   ]
  },
  {
   "cell_type": "markdown",
   "id": "bfa71706-9b71-46b4-94d2-c55e4222513d",
   "metadata": {},
   "source": [
    "Points\n",
    "<br># -> Doc(Main)\n",
    "<br>## -> My Notes\n",
    "<br>### -> Missing, Corrections to do"
   ]
  },
  {
   "cell_type": "code",
   "execution_count": 64,
   "id": "a4446c87-b69e-4194-bec0-fdb59009f708",
   "metadata": {},
   "outputs": [],
   "source": [
    "def mat_col_order(a):\n",
    "    m,n = a.shape\n",
    "    lst = []\n",
    "    for c in range(n):\n",
    "        for r in range(m):\n",
    "            lst.append(a[r][c])\n",
    "    return lst"
   ]
  },
  {
   "cell_type": "code",
   "execution_count": null,
   "id": "83fb99fc-f060-47f9-af9d-9f0bcf1b9386",
   "metadata": {},
   "outputs": [],
   "source": [
    "def element_chooser(a,x):\n",
    "    lst1 = mat_col_order(a)\n",
    "    if max(x) <= len(lst):\n",
    "        for i in x:\n",
    "            lst2.append(lst1[x])\n",
    "        return lst2\n",
    "    else:\n",
    "        return (\"Out of bounds index\")"
   ]
  },
  {
   "cell_type": "markdown",
   "id": "833d7666-bce6-4419-8898-e3adc9476c59",
   "metadata": {},
   "source": [
    "Main Functions"
   ]
  },
  {
   "cell_type": "code",
   "execution_count": null,
   "id": "4bc06fce-4c73-433f-b6c9-90e9b82c145a",
   "metadata": {},
   "outputs": [],
   "source": [
    "def unv(j, n):\n",
    "    e = np.zeros(n)\n",
    "    e[j] = 1\n",
    "    return e"
   ]
  },
  {
   "cell_type": "code",
   "execution_count": 7,
   "id": "1f0bd4df-648e-4ac0-816e-714bdb26b722",
   "metadata": {},
   "outputs": [],
   "source": [
    "def mv(A,x,transp_flag=0):\n",
    "    if np.issubdtype(A.dtype, np.number):\n",
    "\n",
    "        ##Check this def in matlab as well\n",
    "        if np.any(A):\n",
    "            if transp_flag == 0:\n",
    "                x = A @ x\n",
    "            else:\n",
    "                x = A.T @ x\n",
    "    else:\n",
    "        \n",
    "        ##Check the logic here as well\n",
    "        if transp_flag == 0:\n",
    "            x = element_chooser(A,x)\n",
    "            #print('Transpose flag set for function with 1 argument')\n",
    "        ###Something happens here \n",
    "    return x"
   ]
  },
  {
   "cell_type": "code",
   "execution_count": null,
   "id": "3902bf7d-f6ca-479a-9350-e1d69db6ddc2",
   "metadata": {},
   "outputs": [],
   "source": [
    "def element(A, i=None, j=None, n=None):\n",
    "\n",
    "    # Handling default arguments\n",
    "    if i is None:\n",
    "        i = []\n",
    "    if j is None:\n",
    "        j = []\n",
    "\n",
    "    if isinstance(A, np.ndarray):  # Matrix\n",
    "        if min(A.shape) > 1:\n",
    "            if not i:\n",
    "                e = A[:, j]\n",
    "            elif not j:\n",
    "                e = A[i, :]\n",
    "            else:\n",
    "                e = A[i, j]\n",
    "        else:\n",
    "            e = A[i]  # Vector\n",
    "    else:  # Function\n",
    "        if not j:\n",
    "            raise ValueError(\"j has to be nonempty when A is a function\")\n",
    "        e = mv(A, unv(j, n), 0)\n",
    "        if i:\n",
    "            e = e[i]\n",
    "\n",
    "    return e"
   ]
  },
  {
   "cell_type": "code",
   "execution_count": null,
   "id": "ca7a5f54-4cd1-4044-9511-b214415b0c3e",
   "metadata": {},
   "outputs": [],
   "source": [
    "def unv(j, n):\n",
    "    e = np.zeros(n)\n",
    "    e[j] = 1\n",
    "    return e\n",
    "\n",
    "def element(A, i=None, j=None, n=None):\n",
    "\n",
    "    # Handling default arguments\n",
    "    if i is None:\n",
    "        i = slice(None)  # Selecting all rows\n",
    "    if j is None:\n",
    "        j = slice(None)  # Selecting all columns\n",
    "\n",
    "    if isinstance(A, np.ndarray):  # Matrix\n",
    "        if isinstance(i, list) and isinstance(j, list):\n",
    "            e = A[np.ix_(i, j)]\n",
    "        else:\n",
    "            e = A[i, j]\n",
    "    else:  # Function\n",
    "        if j is None:\n",
    "            raise ValueError(\"j has to be nonempty when A is a function\")\n",
    "        e = mv(A, unv(j, n), 0)\n",
    "        if i is not None:\n",
    "            e = e[i]\n",
    "\n",
    "    return e"
   ]
  },
  {
   "cell_type": "code",
   "execution_count": 43,
   "id": "f62b6a31-c6cb-43ea-af54-36ee7db2fc4b",
   "metadata": {},
   "outputs": [],
   "source": [
    "def krylov_ata(A, **kwargs):\n",
    "\n",
    "    #Unpacking kwargs to collect the parameters\n",
    "    v1 = kwargs.get('v1',None)\n",
    "    k = kwargs.get('k',None)\n",
    "    full = kwargs.get('full',None)\n",
    "    reortho = kwargs.get('reortho',None)\n",
    "\n",
    "    #Checking is A is numeric\n",
    "    if not (np.issubdtype(A.dtype, np.number)):\n",
    "        return (\"matrix entered is not numeric in nature\")\n",
    "\n",
    "    #Giving a value for the unpacked parameters in kwargs\n",
    "    if v1 is None:\n",
    "        v1 = np.random.rand(A.shape[1])\n",
    "    if k is None:\n",
    "        k = 10\n",
    "    if full is None:\n",
    "        full = 1\n",
    "    if reortho is None:\n",
    "        reortho = 2\n",
    "\n",
    "    #Preallocation of matrices Alpha and Beta\n",
    "    alpha = np.zeros(k)\n",
    "    if full:\n",
    "        beta = np.zeros(k)\n",
    "    else:\n",
    "        beta = np.zeros(k-1)\n",
    "\n",
    "    #If we want to reorthogonalise the vectors(opt 1 or 2)\n",
    "    if reortho:\n",
    "        V = np.zeros((len(v1),k))\n",
    "        V[:,0] = v1 / np.linalg.norm(v1)\n",
    "        ##Check: Made only in the python version\n",
    "        U = np.zeros((A.shape[0],k))\n",
    "    else:\n",
    "        v = v1 / np.linalg.norm(v1) ##vector which will not be orthogonalised\n",
    "\n",
    "    #Creating the matrices U and V using the vectors u and v\n",
    "    #Will reorthogonalise if reortho = 2\n",
    "    for j in range(0,k):\n",
    "        if reortho:\n",
    "            r = mv(A,V[:, j - 1],0)\n",
    "            if (j == 0) and (reortho == 2):\n",
    "                #Initialising matrix U which will be reorthogonalised\n",
    "                U = np.zeros((len(r),k))\n",
    "        else: \n",
    "            r = mv(A,v,0)\n",
    "        if j >= 1:\n",
    "            if reortho == 2:\n",
    "                r = r - beta[j - 2] * U[:, j - 2]\n",
    "                r = r - U[:, 0:j - 1] @ (U[:, 0:j - 1].T @ r)\n",
    "            else:\n",
    "                r = r - beta[j - 2] * u\n",
    "        \n",
    "        alpha[j - 1] = np.linalg.norm(r)\n",
    "        if reortho == 2:\n",
    "            U[:, j - 1] = r / alpha[j - 1]\n",
    "            ##Look at how the transp_flag parameter being 1 affects the result\n",
    "            r = mv(A.T, U[:, j - 1], 1)\n",
    "        else:\n",
    "            u = r / alpha[j - 1]\n",
    "            r = mv(A.T, u, 1)\n",
    "        if reortho:\n",
    "            r = r - alpha[j - 1] * V[:, j - 1]\n",
    "            r = r - V[:, 0:j] @ (V[:, 0:j].T @ r)\n",
    "        else:\n",
    "            r = r - alpha[j - 1] * v\n",
    "\n",
    "        if (j < k):\n",
    "            beta[0][j - 1] = np.linalg.norm(r)\n",
    "            if reortho:\n",
    "                V[:, j] = r / beta[j - 1]\n",
    "            else:\n",
    "                v = r / beta[j - 1]\n",
    "    if not (reortho):\n",
    "        V = v\n",
    "    if reortho < 2:\n",
    "        U = u\n",
    "\n",
    "    #Return U, V, alpha & beta\n",
    "    return V, U, alpha, beta"
   ]
  },
  {
   "cell_type": "code",
   "execution_count": 44,
   "id": "ecc6bc6e-065b-468b-83b5-ab81281ff17c",
   "metadata": {},
   "outputs": [],
   "source": [
    "def krylov_ata_expand(A, V, U, c, k = 10):\n",
    "    m = V.shape[1]\n",
    "    V = np.concatenate(V, np.zeros((V.shape[0],k)))\n",
    "    U = np.concatenate(U, np.zeros((U.shape[0],k)))\n",
    "    alpha = np.zeros(k)\n",
    "    beta = np.zeros(k)\n",
    "\n",
    "    for j in range(m - 1, k + m):\n",
    "        if j == m - 1:\n",
    "            r = mv(A, V[:, j - 1], 0) - U[:, 1:j - 2] @ c\n",
    "        else:\n",
    "            r = mv(A, V[:, j - 1],0) - beta[j - m - 1] * U[:, j - 2]\n",
    "\n",
    "        r = r - U[:, :j - 2] @ (U[:, :j - 2].T @ r)\n",
    "        alpha[j - m] = np.linalg.norm(r)\n",
    "        U[:, j - 1] = r / alpha[j - m]\n",
    "        r = mv(A.T, U[:, j - 1]) - alpha[j - m] * V[:, j - 1]\n",
    "        r = r - V[:, :j] @ (V[:, :j].T @ r)\n",
    "        beta[j - m] = np.linalg.norm(r)\n",
    "        V[:, j] = r / beta[j - m]\n",
    "\n",
    "    return V, U, alpha, beta"
   ]
  },
  {
   "cell_type": "code",
   "execution_count": 52,
   "id": "9fd24b40-128f-4ef0-9c5c-0f1ca7b996d3",
   "metadata": {},
   "outputs": [
    {
     "ename": "SyntaxError",
     "evalue": "invalid syntax (358128681.py, line 67)",
     "output_type": "error",
     "traceback": [
      "\u001b[0;36m  Cell \u001b[0;32mIn[52], line 67\u001b[0;36m\u001b[0m\n\u001b[0;31m    V = np.concatenate(((element(V[:, :m2] @ Y, 0:n, 0:m1), V[:, m2])))\u001b[0m\n\u001b[0m                                                 ^\u001b[0m\n\u001b[0;31mSyntaxError\u001b[0m\u001b[0;31m:\u001b[0m invalid syntax\n"
     ]
    }
   ],
   "source": [
    "def krylov_shur_svd(A, **kwargs):\n",
    "    #Unpacking kwargs to collect the parameters\n",
    "    nr = kwargs.get('nr',None)\n",
    "    v1 = kwargs.get('v1',None)\n",
    "    tol = kwargs.get('absrel',None)\n",
    "    absrel = kwargs.get('absrel',None)\n",
    "    mindim = kwargs.get('mindim',None)\n",
    "    maxdim = kwargs.get('maxdim',None)\n",
    "    maxit = kwargs.get('maxit',None)\n",
    "    target = kwargs.get('target',None)\n",
    "    info = kwargs.get('info',None)\n",
    "\n",
    "    #Checking is A is numeric\n",
    "    ###Need to fix when A is a function\n",
    "    if not (np.issubdtype(A.dtype, np.number)):\n",
    "        return (\"matrix entered is not numeric in nature\")\n",
    "\n",
    "    #Giving a value for the unpacked parameters in kwargs\n",
    "    if nr is None:\n",
    "        nr = 1\n",
    "    if v1 is None:\n",
    "        v1 = np.random.rand(A.shape[1])\n",
    "    if tol is None:\n",
    "        tol = 1e-6\n",
    "    if absrel is None:\n",
    "        absrel = 'rel'\n",
    "    if mindim is None:\n",
    "        mindim = 10\n",
    "    if maxdim is None:\n",
    "        maxdim = 20\n",
    "    if maxit is None:\n",
    "        maxit = 1000\n",
    "    if target is None:\n",
    "        target = np.inf\n",
    "    if info is None:\n",
    "        info = 0\n",
    "\n",
    "    #Reassigning maxdim and mindim to shorter variables\n",
    "    m1 = mindim\n",
    "    m2 = maxdim\n",
    "\n",
    "    #Fixing some of the parameters\n",
    "    if m1 < nr:\n",
    "        m1 = nr\n",
    "    if m2 < m1:\n",
    "        m2 = 2 * m1\n",
    "    if (absrel == 'rel') and (np.issubdtype(A.dtype, np.number)):\n",
    "        ##Multiplying the tol with the 1-norm of A\n",
    "        tol = tol * np.linalg.norm(A, 1)\n",
    "\n",
    "    B = np.zeros((m2,m2 + 1))\n",
    "    V, U, alpha, beta = krylov_ata(A, v1, m1)\n",
    "    B[:m1 + 1, :m1 +1] = np.diag(np.append(alpha, [0])) + np.diag(beta, 1)\n",
    "    hist = np.zeros(maxit - 1)\n",
    "    \n",
    "    for k in range(maxit):\n",
    "        V, U, alpha, beta = krylov_ata_expand(A, V, U, B[:m1, m1], m2 - m1)\n",
    "        ##Subtracting to match the 'm2-m1' index in MATLAB\n",
    "        B[m1:, m1: m2 + 1] = np.diag(alpha) + np.diag(beta[:m2 - m1 -1], 1) \n",
    "        B[m2 - 1, m2] = beta[m2 - m1 - 1]\n",
    "        X, sigma, Y = np.linalg.svd(B[:m2, :m2])\n",
    "    \n",
    "        ####No need to attempt the target == 0 section####\n",
    "            \n",
    "        \n",
    "        #Restarts of Lancos algorithm\n",
    "        result = element(A, list(np.arange(1, 3)), list(np.arange(2)))\n",
    "        ###V = np.concatenate(((element(V[:, :m2] @ Y, 0:n, 0:m1), V[:, m2])))\n",
    "        ###U = element(U[:, :m2] @ X, 0:m, 0:m1)\n",
    "        ###e = element(B[:, m2].T @ X, 0:m1)\n",
    "        V = np.concatenate(((element(V[:, :m2] @ Y, list(np.arange(0,n)), list(np.arange(0,m1))), V[:, m2])))\n",
    "        U = element(U[:, :m2] @ X, list(np.arange(0,m)), list(np.arange(0,m1)))\n",
    "        e = element(B[:, m2].T @ X, list(np.arange(0,m1)))\n",
    "        ###Check the axis of concatenation\n",
    "        B[:m1, :m1 + 1] = np.concatenate((np.diag(sigma[:m1]), e.T))\n",
    "    \n",
    "        err = np.linalg.norm(e[:nr])\n",
    "        hist[k] = err\n",
    "    \n",
    "        if (info > 1):\n",
    "            print(f'{k:4d}  {err:6.2e}')\n",
    "            print(f'{sigma[:min(3,nr)]:6.2e}')\n",
    "    \n",
    "        if (err < tol):\n",
    "            sigma = sigma[:nr]\n",
    "            V = V[:, :nr]\n",
    "            U = U[:, :nr]\n",
    "            mvs = np.arange(1, k + 1) * (m2 - m1) + m1\n",
    "            print(\"Found after {k} iterations with residual = {err:6.2e}\".format(k, err))\n",
    "            return sigma, V, U, hist, mvs\n",
    "    if info:\n",
    "            print(\"Quit after max {k} iterations with residual = {err:6.2e}\".format(k, err))\n",
    "            sigma = sigma[:m1]\n",
    "            V = V[:, :m1]\n",
    "    return sigma, V, U, hist, mvs\n",
    "            "
   ]
  },
  {
   "cell_type": "code",
   "execution_count": 31,
   "id": "88940f16-cdcf-4c65-9bab-0bd2ae287466",
   "metadata": {},
   "outputs": [],
   "source": [
    "S1 = np.append(S, [0])"
   ]
  },
  {
   "cell_type": "code",
   "execution_count": 32,
   "id": "56c6e305-0fad-493b-ad32-451d84b9c0c1",
   "metadata": {},
   "outputs": [
    {
     "data": {
      "text/plain": [
       "array([ 16.848,  1.068,  0.000,  0.000])"
      ]
     },
     "execution_count": 32,
     "metadata": {},
     "output_type": "execute_result"
    }
   ],
   "source": [
    "S1"
   ]
  },
  {
   "cell_type": "code",
   "execution_count": 33,
   "id": "ff4d90c4-baed-4a0a-97c4-d10f8b43ccab",
   "metadata": {},
   "outputs": [
    {
     "data": {
      "text/plain": [
       "array([[ 16.848,  0.000,  0.000,  0.000],\n",
       "       [ 0.000,  1.068,  0.000,  0.000],\n",
       "       [ 0.000,  0.000,  0.000,  0.000],\n",
       "       [ 0.000,  0.000,  0.000,  0.000]])"
      ]
     },
     "execution_count": 33,
     "metadata": {},
     "output_type": "execute_result"
    }
   ],
   "source": [
    "np.diag(S1)"
   ]
  },
  {
   "cell_type": "code",
   "execution_count": 34,
   "id": "b87be614-b63e-47c5-ad16-e1b65205a5dd",
   "metadata": {},
   "outputs": [],
   "source": [
    "a = np.array([[]])"
   ]
  },
  {
   "cell_type": "code",
   "execution_count": 35,
   "id": "df205d83-de30-491a-9b1a-7503dadbdd61",
   "metadata": {},
   "outputs": [
    {
     "data": {
      "text/plain": [
       "array([], shape=(1, 0), dtype=float64)"
      ]
     },
     "execution_count": 35,
     "metadata": {},
     "output_type": "execute_result"
    }
   ],
   "source": [
    "a"
   ]
  },
  {
   "cell_type": "code",
   "execution_count": 47,
   "id": "2f6e059a-cd04-4ef6-8f3c-06f28c97db8a",
   "metadata": {},
   "outputs": [],
   "source": [
    "def unv(j, n):\n",
    "    e = np.zeros(n)\n",
    "    e[j] = 1\n",
    "    return e\n",
    "\n",
    "def element(A, i=None, j=None, n=None):\n",
    "\n",
    "    # Handling default arguments\n",
    "    if i is None:\n",
    "        i = []\n",
    "    if j is None:\n",
    "        j = []\n",
    "\n",
    "    if isinstance(A, np.ndarray):  # Matrix\n",
    "        if min(A.shape) > 1:\n",
    "            if not i:\n",
    "                e = A[:, j]\n",
    "            elif not j:\n",
    "                e = A[i, :]\n",
    "            else:\n",
    "                e = A[i, j]\n",
    "        else:\n",
    "            e = A[i]  # Vector\n",
    "    else:  # Function\n",
    "        if not j:\n",
    "            raise ValueError(\"j has to be nonempty when A is a function\")\n",
    "        e = mv(A, unv(j, n), 0)\n",
    "        if i:\n",
    "            e = e[i]\n",
    "\n",
    "    return e"
   ]
  }
 ],
 "metadata": {
  "kernelspec": {
   "display_name": "Python 3 (ipykernel)",
   "language": "python",
   "name": "python3"
  },
  "language_info": {
   "codemirror_mode": {
    "name": "ipython",
    "version": 3
   },
   "file_extension": ".py",
   "mimetype": "text/x-python",
   "name": "python",
   "nbconvert_exporter": "python",
   "pygments_lexer": "ipython3",
   "version": "3.12.4"
  }
 },
 "nbformat": 4,
 "nbformat_minor": 5
}
