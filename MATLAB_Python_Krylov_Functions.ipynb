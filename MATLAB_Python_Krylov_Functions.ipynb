{
 "cells": [
  {
   "cell_type": "code",
   "execution_count": 40,
   "id": "f135139f-4010-4f46-83dd-b3367fd3f3cb",
   "metadata": {},
   "outputs": [],
   "source": [
    "import numpy as np\n",
    "import scipy.linalg as sln\n",
    "import matplotlib.pyplot as plt\n",
    "import warnings\n",
    "import mpmath as mp\n",
    "np.set_printoptions(formatter={'float': '{: 0.4f}'.format})"
   ]
  },
  {
   "cell_type": "markdown",
   "id": "bfa71706-9b71-46b4-94d2-c55e4222513d",
   "metadata": {},
   "source": [
    "Points\n",
    "<br># -> Doc(Main)\n",
    "<br>## -> My Notes\n",
    "<br>### -> Missing, Corrections to do"
   ]
  },
  {
   "cell_type": "code",
   "execution_count": 41,
   "id": "1f0bd4df-648e-4ac0-816e-714bdb26b722",
   "metadata": {},
   "outputs": [],
   "source": [
    "def mv(A, v, transp_flag):\n",
    "    if transp_flag == 0:\n",
    "        return A @ v\n",
    "    else:\n",
    "        return A.T @ v"
   ]
  },
  {
   "cell_type": "code",
   "execution_count": 42,
   "id": "f562c0e4-d71a-4cb4-81c9-b53c477cdd3a",
   "metadata": {},
   "outputs": [],
   "source": [
    "def unv(j, n):\n",
    "    e = np.zeros(n)\n",
    "    e[j] = 1\n",
    "    return e"
   ]
  },
  {
   "cell_type": "code",
   "execution_count": 43,
   "id": "8f33ff24-44a9-4337-8222-346b1f32a113",
   "metadata": {},
   "outputs": [],
   "source": [
    "###Get rid of function aspect\n",
    "def element(A, i=None, j=None, n=None):\n",
    "    # Handling default arguments\n",
    "    if i is None:\n",
    "        i = slice(None)  # Selecting all rows\n",
    "    if j is None:\n",
    "        j = slice(None)  # Selecting all columns\n",
    "\n",
    "    if isinstance(A, np.ndarray):  # Matrix\n",
    "        if min(A.shape) > 1:  # Check if A is not a vector\n",
    "            if isinstance(i, list) and isinstance(j, list):\n",
    "                e = A[np.ix_(i, j)]\n",
    "            else:\n",
    "                e = A[i, j]\n",
    "        else:\n",
    "            e = A[i] if isinstance(i, list) else A[i]\n",
    "    else:  # Function\n",
    "        if j is None:\n",
    "            raise ValueError(\"j has to be nonempty when A is a function\")\n",
    "        e = mv(A, unv(j, n), 0)\n",
    "        if i is not None:\n",
    "            e = e[i]\n",
    "\n",
    "    return e"
   ]
  },
  {
   "cell_type": "code",
   "execution_count": 44,
   "id": "418bdf4f-196b-4920-a3d5-4c2f8dfd6897",
   "metadata": {},
   "outputs": [],
   "source": [
    "def krylov_ata(A, v1=None, k=10, full=1, reortho=2):\n",
    "    if v1 is None:\n",
    "        v1 = np.random.randn(A.shape[1])\n",
    "\n",
    "    if not np.issubdtype(A.dtype, np.number):\n",
    "        raise ValueError(\"Matrix A should be numeric\")\n",
    "\n",
    "    if (k > min(A.shape)):\n",
    "        k = min(A.shape)\n",
    "\n",
    "    alpha = np.zeros(k)\n",
    "    beta = np.zeros(k if full else k-1)\n",
    "\n",
    "    if reortho:\n",
    "        V = np.zeros((len(v1), k + 1))\n",
    "        V[:, 0] = v1 / np.linalg.norm(v1)\n",
    "        U = np.zeros((A.shape[0], k))\n",
    "    else:\n",
    "        v = v1 / np.linalg.norm(v1)\n",
    "\n",
    "    for j in range(k):\n",
    "        if reortho:\n",
    "            r = mv(A, V[:, j], 0)\n",
    "            print(r)\n",
    "            if j == 0 and reortho == 2:\n",
    "                U = np.zeros((len(r), k))\n",
    "        else:\n",
    "            r = mv(A, v, 0)\n",
    "\n",
    "        if j > 0:\n",
    "            if reortho == 2:\n",
    "                r -= beta[j-1] * U[:, j-1]\n",
    "                r -= U[:, :j] @ (U[:, :j].T @ r)\n",
    "            else:\n",
    "                r -= beta[j-1] * u\n",
    "        alpha[j] = np.linalg.norm(r)\n",
    "        if alpha[j] == 0:\n",
    "            break\n",
    "\n",
    "        if reortho == 2:\n",
    "            U[:, j] = r / alpha[j]\n",
    "            r = mv(A, U[:, j], 1)\n",
    "        else:\n",
    "            u = r / alpha[j]\n",
    "            r = mv(A, u, 1)\n",
    "\n",
    "        if reortho:\n",
    "            r -= alpha[j] * V[:, j]\n",
    "            r -= V[:, :j+1] @ (V[:, :j+1].T @ r)\n",
    "        else:\n",
    "            r -= alpha[j] * v\n",
    "\n",
    "        if j < k - 1 or full:\n",
    "            beta[j] = np.linalg.norm(r)\n",
    "            if beta[j] == 0:\n",
    "                break\n",
    "\n",
    "            if reortho:\n",
    "                V[:, j+1] = r / beta[j]\n",
    "            else:\n",
    "                v = r / beta[j]\n",
    "\n",
    "    if not reortho:\n",
    "        V = v\n",
    "    if reortho < 2:\n",
    "        U = u\n",
    "\n",
    "    \n",
    "    return V, U, alpha, beta"
   ]
  },
  {
   "cell_type": "code",
   "execution_count": 51,
   "id": "7f145422-6ebc-423a-88bf-fd55b625e9b4",
   "metadata": {},
   "outputs": [],
   "source": [
    "def krylov_ata_expand(A, V, U, c, k=10):\n",
    "    m = V.shape[1]\n",
    "    V = np.concatenate((V, np.zeros((V.shape[0], k))), axis=1)\n",
    "    U = np.concatenate((U, np.zeros((U.shape[0], k))), axis=1)\n",
    "    alpha = np.zeros(k)\n",
    "    beta = np.zeros(k)\n",
    "\n",
    "    for j in range(m - 1, k + m):\n",
    "        if j == m - 1:\n",
    "            r = mv(A, V[:, j], 0) - U[:, :j-1] @ c[:j-1]\n",
    "        else:\n",
    "            r = mv(A, V[:, j], 0) - beta[j-m] * U[:, j-1]\n",
    "\n",
    "        r = r - U[:, :j-1] @ (U[:, :j-1].T @ r)\n",
    "        alpha[j-m+1] = np.linalg.norm(r)\n",
    "        if alpha[j-m] == 0:\n",
    "            break\n",
    "        U[:, j] = r / alpha[j-m+1]\n",
    "        r = mv(A.T, U[:, j], 1) - alpha[j-m+1] * V[:, j]\n",
    "        r = r - V[:, :j] @ (V[:, :j].T @ r)\n",
    "        beta[j-m+1] = np.linalg.norm(r)\n",
    "        if beta[j-m+1] == 0:\n",
    "            break\n",
    "        V[:, j+1] = r / beta[j-m+1]\n",
    "\n",
    "    return V, U, alpha, beta"
   ]
  },
  {
   "cell_type": "code",
   "execution_count": 52,
   "id": "fa1ed6b0-77a0-474d-ad65-72317b936d84",
   "metadata": {},
   "outputs": [],
   "source": [
    "def krylov_schur_svd(A, **kwargs):\n",
    "    nr = kwargs.get('nr', 1)\n",
    "    v1 = kwargs.get('v1', None)\n",
    "    tol = kwargs.get('tol', 1e-6)\n",
    "    absrel = kwargs.get('absrel', 'rel')\n",
    "    mindim = kwargs.get('mindim', 10)\n",
    "    maxdim = kwargs.get('maxdim', 20)\n",
    "    maxit = kwargs.get('maxit', 1000)\n",
    "    target = kwargs.get('target', np.inf)\n",
    "    info = kwargs.get('info', 0)\n",
    "\n",
    "    if v1 is None:\n",
    "        v1 = np.random.rand(A.shape[1])\n",
    "    \n",
    "    if mindim < nr:\n",
    "        mindim = nr\n",
    "    if maxdim < 2 * mindim:\n",
    "        maxdim = 2 * mindim\n",
    "    \n",
    "    if absrel == 'rel' and np.issubdtype(A.dtype, np.number):\n",
    "        tol = tol * np.linalg.norm(A, 1)\n",
    "\n",
    "    B = np.zeros((maxdim, maxdim + 1))\n",
    "    V, U, alpha, beta = krylov_ata(A, v1, mindim)\n",
    "    B[:mindim + 1, :mindim + 1] = np.diag(np.append(alpha, [0])) + np.diag(beta, 1)\n",
    "    hist = np.zeros(maxit)\n",
    "\n",
    "    for k in range(maxit):\n",
    "        V, U, alpha, beta = krylov_ata_expand(A, V, U, B[:mindim, mindim], maxdim - mindim)\n",
    "        B[mindim: maxdim, mindim: maxdim] = np.diag(alpha) + np.diag(beta[:maxdim - mindim - 1], 1)\n",
    "        B[maxdim - 1, maxdim] = beta[maxdim - mindim - 1]\n",
    "        X, sigma, Y = np.linalg.svd(B[:maxdim, :maxdim])\n",
    "        \n",
    "        # Restart of Lanczos algorithm\n",
    "        V = np.concatenate((element(V[:, :maxdim] @ Y, list(range(V.shape[0])), list(range(mindim))), V[:, maxdim:maxdim + 1]), axis=1)\n",
    "        U = element(U[:, :maxdim] @ X, list(range(U.shape[0])), list(range(mindim)))\n",
    "        c = B[:, maxdim]\n",
    "        e = (c @ X)[:mindim]\n",
    "        B[:mindim, :mindim + 1] = np.concatenate((np.diag(sigma[:mindim]), e.reshape(-1, 1)), axis=1)\n",
    "        \n",
    "        err = np.linalg.norm(e[:nr])\n",
    "        hist[k] = err\n",
    "        \n",
    "        if info > 1:\n",
    "            print(f'{k:4d}  {err:6.2e}')\n",
    "            print(sigma[:min(3,nr)])\n",
    "        \n",
    "        if err < tol:\n",
    "            sigma = sigma[:nr]\n",
    "            V = V[:, :nr]\n",
    "            U = U[:, :nr]\n",
    "            mvs = np.arange(1, k + 1) * (maxdim - mindim) + mindim\n",
    "            print(f\"Found after {k} iterations with residual = {err:6.2e}\")\n",
    "            return sigma, V, U, hist[:k+1], mvs\n",
    "    \n",
    "    if info:\n",
    "        print(f\"Quit after max {k} iterations with residual = {err:6.2e}\")\n",
    "    sigma = sigma[:mindim]\n",
    "    V = V[:, :mindim]\n",
    "    return sigma, V, U, hist, mvs"
   ]
  },
  {
   "cell_type": "markdown",
   "id": "84335914-76b8-475c-a2da-3071e4588f17",
   "metadata": {},
   "source": [
    "Tests"
   ]
  },
  {
   "cell_type": "code",
   "execution_count": 47,
   "id": "fd271c53-2cc6-4520-96c1-3e8e518b4a1c",
   "metadata": {},
   "outputs": [
    {
     "name": "stdout",
     "output_type": "stream",
     "text": [
      "[[ 1  2  3  4]\n",
      " [ 3  5  2  8]\n",
      " [ 5  3 45  6]\n",
      " [ 2  1  6  3]]\n",
      "[ 5.3116  9.8150  22.4012  5.1962]\n",
      "[ 1.2869 -1.2416  39.8975  4.6565]\n",
      "[-0.2627 -2.0142  1.1686 -0.9649]\n",
      "[-0.2483  0.2610  0.0886 -0.6213]\n"
     ]
    }
   ],
   "source": [
    "A = np.array([[1,2,3,4],[3,5,2,8],[5,3,45,6],[2,1,6,3]])\n",
    "print(A)\n",
    "v1 = np.array([1, 4, 3, 7])\n",
    "V,U,alpha,beta = krylov_ata(A,v1, k = 4)\n",
    "#print(V)\n",
    "#print(U)\n",
    "#print(alpha)\n",
    "#print(beta)"
   ]
  },
  {
   "cell_type": "code",
   "execution_count": 48,
   "id": "a0681999-2001-4926-b564-7802c99d487a",
   "metadata": {},
   "outputs": [
    {
     "data": {
      "text/plain": [
       "array([[ 0.2078, -0.3316,  0.6418, -0.6595],\n",
       "       [ 0.3840, -0.8085, -0.0940,  0.4360],\n",
       "       [ 0.8764,  0.4655,  0.0649,  0.1052],\n",
       "       [ 0.2033, -0.1407, -0.7583, -0.6032]])"
      ]
     },
     "execution_count": 48,
     "metadata": {},
     "output_type": "execute_result"
    }
   ],
   "source": [
    "U"
   ]
  },
  {
   "cell_type": "code",
   "execution_count": 49,
   "id": "3f4f8b1f-2cf7-42be-a07a-3cf5372af644",
   "metadata": {},
   "outputs": [
    {
     "data": {
      "text/plain": [
       "array([ 35.7029,  2.3952,  0.2930,  0.0000])"
      ]
     },
     "execution_count": 49,
     "metadata": {},
     "output_type": "execute_result"
    }
   ],
   "source": [
    "beta"
   ]
  }
 ],
 "metadata": {
  "kernelspec": {
   "display_name": "Python 3 (ipykernel)",
   "language": "python",
   "name": "python3"
  },
  "language_info": {
   "codemirror_mode": {
    "name": "ipython",
    "version": 3
   },
   "file_extension": ".py",
   "mimetype": "text/x-python",
   "name": "python",
   "nbconvert_exporter": "python",
   "pygments_lexer": "ipython3",
   "version": "3.12.4"
  }
 },
 "nbformat": 4,
 "nbformat_minor": 5
}
