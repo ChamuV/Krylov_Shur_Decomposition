{
 "cells": [
  {
   "cell_type": "code",
   "execution_count": 1,
   "id": "f135139f-4010-4f46-83dd-b3367fd3f3cb",
   "metadata": {},
   "outputs": [],
   "source": [
    "import numpy as np\n",
    "import scipy.linalg as sln\n",
    "import matplotlib.pyplot as plt\n",
    "import warnings\n",
    "np.set_printoptions(formatter={'float': '{: 0.3f}'.format})"
   ]
  },
  {
   "cell_type": "markdown",
   "id": "bfa71706-9b71-46b4-94d2-c55e4222513d",
   "metadata": {},
   "source": [
    "Points\n",
    "<br># -> Doc(Main)\n",
    "<br>## -> My Notes\n",
    "<br>### -> Missing, Corrections to do"
   ]
  },
  {
   "cell_type": "code",
   "execution_count": 2,
   "id": "1f0bd4df-648e-4ac0-816e-714bdb26b722",
   "metadata": {},
   "outputs": [],
   "source": [
    "def mv(A,x,transp_flag=0):\n",
    "    if np.issubdtype(A.dtype, np.number):\n",
    "        ##Check this def in matlab as well\n",
    "        if np.any(A):\n",
    "            if transp_flag == 0:\n",
    "                x = A @ x\n",
    "            else:\n",
    "                x = A.T @ x"
   ]
  },
  {
   "cell_type": "code",
   "execution_count": 3,
   "id": "f562c0e4-d71a-4cb4-81c9-b53c477cdd3a",
   "metadata": {},
   "outputs": [],
   "source": [
    "def unv(j, n):\n",
    "    e = np.zeros(n)\n",
    "    e[j] = 1\n",
    "    return e"
   ]
  },
  {
   "cell_type": "code",
   "execution_count": 4,
   "id": "ca7a5f54-4cd1-4044-9511-b214415b0c3e",
   "metadata": {},
   "outputs": [],
   "source": [
    "def element(A, i=None, j=None, n=None):\n",
    "\n",
    "    # Handling default arguments\n",
    "    if i is None:\n",
    "        i = slice(None)  # Selecting all rows\n",
    "    if j is None:\n",
    "        j = slice(None)  # Selecting all columns\n",
    "\n",
    "    if isinstance(A, np.ndarray):  # Matrix\n",
    "        if isinstance(i, list) and isinstance(j, list):\n",
    "            e = A[np.ix_(i, j)]\n",
    "        else:\n",
    "            e = A[i, j]\n",
    "    else:  # Function\n",
    "        if j is None:\n",
    "            raise ValueError(\"j has to be nonempty when A is a function\")\n",
    "        e = mv(A, unv(j, n), 0)\n",
    "        if i is not None:\n",
    "            e = e[i]\n",
    "\n",
    "    return e"
   ]
  },
  {
   "cell_type": "code",
   "execution_count": 5,
   "id": "89b064f6-76d6-4c3f-9abf-d2760acb5dcc",
   "metadata": {},
   "outputs": [
    {
     "name": "stdout",
     "output_type": "stream",
     "text": [
      "[[ 2.760  0.660 -0.343 -0.957]\n",
      " [ 1.608 -1.501  2.058  0.222]\n",
      " [ 0.386  0.223  0.651 -0.909]\n",
      " [ 1.222 -1.157  0.658  0.665]]\n"
     ]
    },
    {
     "data": {
      "text/plain": [
       "array([[ 2.058,  0.222],\n",
       "       [ 0.651, -0.909]])"
      ]
     },
     "execution_count": 5,
     "metadata": {},
     "output_type": "execute_result"
    }
   ],
   "source": [
    "A = np.random.randn(4, 4)\n",
    "print(A)\n",
    "element(A,[1,2],[2,3])"
   ]
  },
  {
   "cell_type": "code",
   "execution_count": 6,
   "id": "8f33ff24-44a9-4337-8222-346b1f32a113",
   "metadata": {},
   "outputs": [],
   "source": [
    "###Get rid of function aspect\n",
    "def element(A, i=None, j=None, n=None):\n",
    "    # Handling default arguments\n",
    "    if i is None:\n",
    "        i = slice(None)  # Selecting all rows\n",
    "    if j is None:\n",
    "        j = slice(None)  # Selecting all columns\n",
    "\n",
    "    if isinstance(A, np.ndarray):  # Matrix\n",
    "        if min(A.shape) > 1:  # Check if A is not a vector\n",
    "            if isinstance(i, list) and isinstance(j, list):\n",
    "                e = A[np.ix_(i, j)]\n",
    "            else:\n",
    "                e = A[i, j]\n",
    "        else:\n",
    "            e = A[i] if isinstance(i, list) else A[i]\n",
    "    else:  # Function\n",
    "        if j is None:\n",
    "            raise ValueError(\"j has to be nonempty when A is a function\")\n",
    "        e = mv(A, unv(j, n), 0)\n",
    "        if i is not None:\n",
    "            e = e[i]\n",
    "\n",
    "    return e\n",
    "\n",
    "def unv(j, n):\n",
    "    e = np.zeros(n)\n",
    "    e[j] = 1\n",
    "    return e"
   ]
  },
  {
   "cell_type": "code",
   "execution_count": 7,
   "id": "c06e9d1b-6822-41be-a292-efa39bb92d85",
   "metadata": {},
   "outputs": [
    {
     "name": "stdout",
     "output_type": "stream",
     "text": [
      "[[-1.263  0.213  1.118 -0.172]\n",
      " [ 0.572 -0.596 -1.139  0.851]\n",
      " [-1.346  0.692  1.447  1.071]\n",
      " [-2.296  0.305  1.161  0.192]]\n"
     ]
    },
    {
     "data": {
      "text/plain": [
       "array([[-1.139,  0.851],\n",
       "       [ 1.447,  1.071]])"
      ]
     },
     "execution_count": 7,
     "metadata": {},
     "output_type": "execute_result"
    }
   ],
   "source": [
    "A = np.random.randn(4, 4)\n",
    "print(A)\n",
    "element(A,[1,2],[2,3])\n"
   ]
  },
  {
   "cell_type": "code",
   "execution_count": 8,
   "id": "418bdf4f-196b-4920-a3d5-4c2f8dfd6897",
   "metadata": {},
   "outputs": [],
   "source": [
    "def krylov_ata(A, v1=None, k=10, full=1, reortho=2):\n",
    "    if v1 is None:\n",
    "        v1 = np.random.randn(A.shape[1])\n",
    "\n",
    "    if not np.issubdtype(A.dtype, np.number):\n",
    "        raise ValueError(\"Matrix A should be numeric\")\n",
    "\n",
    "    alpha = np.zeros(k)\n",
    "    beta = np.zeros(k if full else k-1)\n",
    "\n",
    "    if reortho:\n",
    "        V = np.zeros((len(v1), k + 1))\n",
    "        V[:, 0] = v1 / np.linalg.norm(v1)\n",
    "        U = np.zeros((A.shape[0], k))\n",
    "    else:\n",
    "        v = v1 / np.linalg.norm(v1)\n",
    "\n",
    "    for j in range(k):\n",
    "        if reortho:\n",
    "            r = mv(A, V[:, j], 0)\n",
    "            if j == 0 and reortho == 2:\n",
    "                U = np.zeros((len(r), k))\n",
    "        else:\n",
    "            r = mv(A, v, 0)\n",
    "\n",
    "        if j > 0:\n",
    "            if reortho == 2:\n",
    "                r -= beta[j-1] * U[:, j-1]\n",
    "                r -= U[:, :j] @ (U[:, :j].T @ r)\n",
    "            else:\n",
    "                r -= beta[j-1] * u\n",
    "\n",
    "        alpha[j] = np.linalg.norm(r)\n",
    "        if alpha[j] == 0:\n",
    "            break\n",
    "\n",
    "        if reortho == 2:\n",
    "            U[:, j] = r / alpha[j]\n",
    "            r = mv(A, U[:, j], 1)\n",
    "        else:\n",
    "            u = r / alpha[j]\n",
    "            r = mv(A, u, 1)\n",
    "\n",
    "        if reortho:\n",
    "            r -= alpha[j] * V[:, j]\n",
    "            r -= V[:, :j+1] @ (V[:, :j+1].T @ r)\n",
    "        else:\n",
    "            r -= alpha[j] * v\n",
    "\n",
    "        if j < k - 1 or full:\n",
    "            beta[j] = np.linalg.norm(r)\n",
    "            if beta[j] == 0:\n",
    "                break\n",
    "\n",
    "            if reortho:\n",
    "                V[:, j+1] = r / beta[j]\n",
    "            else:\n",
    "                v = r / beta[j]\n",
    "\n",
    "    if not reortho:\n",
    "        V = v\n",
    "    if reortho < 2:\n",
    "        U = u\n",
    "\n",
    "    if full:\n",
    "        return V[:, :k+1], U, alpha, beta\n",
    "    else:\n",
    "        return V[:, :k], U, alpha, beta[:k-1]\n"
   ]
  },
  {
   "cell_type": "code",
   "execution_count": 9,
   "id": "856a5847-fa86-412f-a018-80858326b09f",
   "metadata": {},
   "outputs": [
    {
     "name": "stdout",
     "output_type": "stream",
     "text": [
      "[[ 1  2  3  4]\n",
      " [ 3  5  2  8]\n",
      " [ 5  3 45  6]\n",
      " [ 2  1  6  3]]\n"
     ]
    },
    {
     "ename": "TypeError",
     "evalue": "object of type 'NoneType' has no len()",
     "output_type": "error",
     "traceback": [
      "\u001b[0;31m---------------------------------------------------------------------------\u001b[0m",
      "\u001b[0;31mTypeError\u001b[0m                                 Traceback (most recent call last)",
      "Cell \u001b[0;32mIn[9], line 3\u001b[0m\n\u001b[1;32m      1\u001b[0m A \u001b[38;5;241m=\u001b[39m np\u001b[38;5;241m.\u001b[39marray([[\u001b[38;5;241m1\u001b[39m,\u001b[38;5;241m2\u001b[39m,\u001b[38;5;241m3\u001b[39m,\u001b[38;5;241m4\u001b[39m],[\u001b[38;5;241m3\u001b[39m,\u001b[38;5;241m5\u001b[39m,\u001b[38;5;241m2\u001b[39m,\u001b[38;5;241m8\u001b[39m],[\u001b[38;5;241m5\u001b[39m,\u001b[38;5;241m3\u001b[39m,\u001b[38;5;241m45\u001b[39m,\u001b[38;5;241m6\u001b[39m],[\u001b[38;5;241m2\u001b[39m,\u001b[38;5;241m1\u001b[39m,\u001b[38;5;241m6\u001b[39m,\u001b[38;5;241m3\u001b[39m]])\n\u001b[1;32m      2\u001b[0m \u001b[38;5;28mprint\u001b[39m(A)\n\u001b[0;32m----> 3\u001b[0m V,U,alpha,beta \u001b[38;5;241m=\u001b[39m \u001b[43mkrylov_ata\u001b[49m\u001b[43m(\u001b[49m\u001b[43mA\u001b[49m\u001b[43m)\u001b[49m\n\u001b[1;32m      4\u001b[0m \u001b[38;5;28mprint\u001b[39m(V)\n\u001b[1;32m      5\u001b[0m \u001b[38;5;28mprint\u001b[39m(U)\n",
      "Cell \u001b[0;32mIn[8], line 22\u001b[0m, in \u001b[0;36mkrylov_ata\u001b[0;34m(A, v1, k, full, reortho)\u001b[0m\n\u001b[1;32m     20\u001b[0m     r \u001b[38;5;241m=\u001b[39m mv(A, V[:, j], \u001b[38;5;241m0\u001b[39m)\n\u001b[1;32m     21\u001b[0m     \u001b[38;5;28;01mif\u001b[39;00m j \u001b[38;5;241m==\u001b[39m \u001b[38;5;241m0\u001b[39m \u001b[38;5;129;01mand\u001b[39;00m reortho \u001b[38;5;241m==\u001b[39m \u001b[38;5;241m2\u001b[39m:\n\u001b[0;32m---> 22\u001b[0m         U \u001b[38;5;241m=\u001b[39m np\u001b[38;5;241m.\u001b[39mzeros((\u001b[38;5;28;43mlen\u001b[39;49m\u001b[43m(\u001b[49m\u001b[43mr\u001b[49m\u001b[43m)\u001b[49m, k))\n\u001b[1;32m     23\u001b[0m \u001b[38;5;28;01melse\u001b[39;00m:\n\u001b[1;32m     24\u001b[0m     r \u001b[38;5;241m=\u001b[39m mv(A, v, \u001b[38;5;241m0\u001b[39m)\n",
      "\u001b[0;31mTypeError\u001b[0m: object of type 'NoneType' has no len()"
     ]
    }
   ],
   "source": [
    "A = np.array([[1,2,3,4],[3,5,2,8],[5,3,45,6],[2,1,6,3]])\n",
    "print(A)\n",
    "V,U,alpha,beta = krylov_ata(A)\n",
    "print(V)\n",
    "print(U)\n",
    "print(alpha)\n",
    "print(beta)"
   ]
  },
  {
   "cell_type": "code",
   "execution_count": 10,
   "id": "ecc6bc6e-065b-468b-83b5-ab81281ff17c",
   "metadata": {},
   "outputs": [],
   "source": [
    "def krylov_ata_expand(A, V, U, c, k = 10):\n",
    "    m = V.shape[1]\n",
    "    V = np.concatenate((V, np.zeros((V.shape[0],k))), axis = 1)\n",
    "    U = np.concatenate((U, np.zeros((U.shape[0],k))), axis = 1)\n",
    "    alpha = np.zeros(k)\n",
    "    beta = np.zeros(k)\n",
    "\n",
    "    for j in range(m - 1, k + m - 1):\n",
    "        if j == m - 1:\n",
    "            ###Check this section\n",
    "            print((U[:, :j - 2]).shape)\n",
    "            print(c.shape)\n",
    "            print((mv(A, V[:, j - 1], 0)).shape)\n",
    "            #r = mv(A, V[:, j - 1], 0) - U[:, :j - 2] @ c\n",
    "            r = mv(A, V[:, j - 1], 0) - U[:, :j - 2] @ c\n",
    "        else:\n",
    "            r = mv(A, V[:, j - 1],0) - beta[j - m - 1] * U[:, j - 2]\n",
    "\n",
    "        r = r - U[:, :j - 2] @ (U[:, :j - 2].T @ r)\n",
    "        alpha[j - m] = np.linalg.norm(r)\n",
    "        U[:, j - 1] = r / alpha[j - m]\n",
    "        r = mv(A.T, U[:, j - 1]) - alpha[j - m] * V[:, j - 1]\n",
    "        r = r - V[:, :j] @ (V[:, :j].T @ r)\n",
    "        beta[j - m] = np.linalg.norm(r)\n",
    "        V[:, j] = r / beta[j - m]\n",
    "\n",
    "    return V, U, alpha, beta"
   ]
  },
  {
   "cell_type": "code",
   "execution_count": null,
   "id": "b6bf010b-4e98-407f-b821-8e5ba84c3c02",
   "metadata": {},
   "outputs": [],
   "source": []
  },
  {
   "cell_type": "code",
   "execution_count": 11,
   "id": "9fd24b40-128f-4ef0-9c5c-0f1ca7b996d3",
   "metadata": {},
   "outputs": [],
   "source": [
    "def krylov_schur_svd(A, **kwargs):\n",
    "    #Unpacking kwargs to collect the parameters\n",
    "    nr = kwargs.get('nr',None)\n",
    "    v1 = kwargs.get('v1',None)\n",
    "    tol = kwargs.get('tol',None)\n",
    "    absrel = kwargs.get('absrel',None)\n",
    "    mindim = kwargs.get('mindim',None)\n",
    "    maxdim = kwargs.get('maxdim',None)\n",
    "    maxit = kwargs.get('maxit',None)\n",
    "    target = kwargs.get('target',None)\n",
    "    info = kwargs.get('info',None)\n",
    "\n",
    "    #Checking is A is numeric\n",
    "    ###Need to fix when A is a function\n",
    "    if not (np.issubdtype(A.dtype, np.number)):\n",
    "        return (\"matrix entered is not numeric in nature\")\n",
    "\n",
    "    #Giving a value for the unpacked parameters in kwargs\n",
    "    if nr is None:\n",
    "        nr = 1\n",
    "    if v1 is None:\n",
    "        v1 = np.random.rand(A.shape[1])\n",
    "    if tol is None:\n",
    "        tol = 1e-6\n",
    "    if absrel is None:\n",
    "        absrel = 'rel'\n",
    "    if mindim is None:\n",
    "        mindim = 10\n",
    "    if maxdim is None:\n",
    "        maxdim = 20\n",
    "    if maxit is None:\n",
    "        maxit = 1000\n",
    "    if target is None:\n",
    "        target = np.inf\n",
    "    if info is None:\n",
    "        info = 0\n",
    "\n",
    "    #Reassigning maxdim and mindim to shorter variables\n",
    "    m1 = mindim\n",
    "    m2 = maxdim\n",
    "\n",
    "    #Fixing some of the parameters\n",
    "    if m1 < nr:\n",
    "        m1 = nr\n",
    "    if m2 < m1:\n",
    "        m2 = 2 * m1\n",
    "    if (absrel == 'rel') and (np.issubdtype(A.dtype, np.number)):\n",
    "        ##Multiplying the tol with the 1-norm of A\n",
    "        tol = tol * np.linalg.norm(A, 1)\n",
    "\n",
    "    B = np.zeros((m2,m2 + 1))\n",
    "    V, U, alpha, beta = krylov_ata(A, v1, m1)\n",
    "    B[:m1 + 1, :m1 +1] = np.diag(np.append(alpha, [0])) + np.diag(beta, 1)\n",
    "    hist = np.zeros(maxit - 1)\n",
    "    \n",
    "    for k in range(maxit):\n",
    "        V, U, alpha, beta = krylov_ata_expand(A, V, U, B[:m1, m1], m2 - m1)\n",
    "        ##Subtracting to match the 'm2-m1' index in MATLAB\n",
    "        B[m1:, m1: m2 + 1] = np.diag(alpha) + np.diag(beta[:m2 - m1 -1], 1) \n",
    "        B[m2 - 1, m2] = beta[m2 - m1 - 1]\n",
    "        X, sigma, Y = np.linalg.svd(B[:m2, :m2])\n",
    "    \n",
    "        ####No need to attempt the target == 0 section####\n",
    "            \n",
    "        \n",
    "        #Restarts of Lancos algorithm\n",
    "        result = element(A, list(np.arange(1, 3)), list(np.arange(2)))\n",
    "        ###V = np.concatenate(((element(V[:, :m2] @ Y, 0:n, 0:m1), V[:, m2])))\n",
    "        ###U = element(U[:, :m2] @ X, 0:m, 0:m1)\n",
    "        ###e = element(B[:, m2].T @ X, 0:m1)\n",
    "        V = np.concatenate(((element(V[:, :m2] @ Y, list(np.arange(0,n)), list(np.arange(0,m1))), V[:, m2])))\n",
    "        U = element(U[:, :m2] @ X, list(np.arange(0,m)), list(np.arange(0,m1)))\n",
    "        e = element(B[:, m2].T @ X, list(np.arange(0,m1)))\n",
    "        ###Check the axis of concatenation\n",
    "        B[:m1, :m1 + 1] = np.concatenate((np.diag(sigma[:m1]), e.T))\n",
    "    \n",
    "        err = np.linalg.norm(e[:nr])\n",
    "        hist[k] = err\n",
    "    \n",
    "        if (info > 1):\n",
    "            print(f'{k:4d}  {err:6.2e}')\n",
    "            print(f'{sigma[:min(3,nr)]:6.2e}')\n",
    "    \n",
    "        if (err < tol):\n",
    "            sigma = sigma[:nr]\n",
    "            V = V[:, :nr]\n",
    "            U = U[:, :nr]\n",
    "            mvs = np.arange(1, k + 1) * (m2 - m1) + m1\n",
    "            print(\"Found after {k} iterations with residual = {err:6.2e}\".format(k, err))\n",
    "            return sigma, V, U, hist, mvs\n",
    "    if info:\n",
    "            print(\"Quit after max {k} iterations with residual = {err:6.2e}\".format(k, err))\n",
    "            sigma = sigma[:m1]\n",
    "            V = V[:, :m1]\n",
    "    return sigma, V, U, hist, mvs\n",
    "            "
   ]
  },
  {
   "cell_type": "code",
   "execution_count": 12,
   "id": "01f9346d-e326-474c-bdd9-a179e48075b5",
   "metadata": {},
   "outputs": [
    {
     "ename": "NameError",
     "evalue": "name 'opts' is not defined",
     "output_type": "error",
     "traceback": [
      "\u001b[0;31m---------------------------------------------------------------------------\u001b[0m",
      "\u001b[0;31mNameError\u001b[0m                                 Traceback (most recent call last)",
      "Cell \u001b[0;32mIn[12], line 1\u001b[0m\n\u001b[0;32m----> 1\u001b[0m sigma, V, U, hist, mvs \u001b[38;5;241m=\u001b[39m krylov_schur_svd(A, \u001b[38;5;241m*\u001b[39m\u001b[38;5;241m*\u001b[39m\u001b[43mopts\u001b[49m)\n",
      "\u001b[0;31mNameError\u001b[0m: name 'opts' is not defined"
     ]
    }
   ],
   "source": [
    "sigma, V, U, hist, mvs = krylov_schur_svd(A, **opts)"
   ]
  },
  {
   "cell_type": "code",
   "execution_count": 13,
   "id": "5b4586da-cdf1-44a8-b34f-018e598d7a30",
   "metadata": {},
   "outputs": [
    {
     "data": {
      "text/plain": [
       "array([[ 1,  2,  3,  4],\n",
       "       [ 3,  5,  2,  8],\n",
       "       [ 5,  3, 45,  6],\n",
       "       [ 2,  1,  6,  3]])"
      ]
     },
     "execution_count": 13,
     "metadata": {},
     "output_type": "execute_result"
    }
   ],
   "source": [
    "A = np.array([[1,2,3,4],[3,5,2,8],[5,3,45,6],[2,1,6,3]])\n",
    "A"
   ]
  },
  {
   "cell_type": "code",
   "execution_count": 14,
   "id": "e337f448-ed62-4aa7-9a31-ee041a6c9150",
   "metadata": {},
   "outputs": [],
   "source": [
    "opts = {\n",
    "        'nr': 2,\n",
    "        'v1': np.random.randn(A.shape[1]),\n",
    "        'tol': 1e-6,\n",
    "        'absrel': 'rel',\n",
    "        'mindim': 10,\n",
    "        'maxdim': 20,\n",
    "        'maxit': 1000,\n",
    "        'target': np.inf,\n",
    "        'info': 2\n",
    "    }\n"
   ]
  },
  {
   "cell_type": "code",
   "execution_count": 15,
   "id": "90b086a8-ae74-42dd-84ff-2114687f3752",
   "metadata": {},
   "outputs": [
    {
     "name": "stdout",
     "output_type": "stream",
     "text": [
      "V_exp:\n",
      "[[ 1.494 -0.205  0.034  0.127  0.143  0.151  0.154  0.155]\n",
      " [-0.854 -2.553 -0.974 -0.966 -0.963 -0.961 -0.960 -0.959]\n",
      " [ 0.864 -0.742 -0.153 -0.133 -0.117 -0.112 -0.109 -0.108]\n",
      " [-1.454  0.046 -0.162 -0.180 -0.198 -0.205 -0.208 -0.209]]\n",
      "U_exp:\n",
      "[[ 1.533 -0.744 -0.762 -0.795 -0.793 -0.793 -0.793  0.000]\n",
      " [ 0.378  0.472 -0.185 -0.107 -0.113 -0.113 -0.113  0.000]\n",
      " [-0.348 -0.358  0.171  0.109  0.114  0.114  0.114  0.000]\n",
      " [ 1.202 -0.309 -0.597 -0.587 -0.588 -0.588 -0.588  0.000]]\n",
      "alpha:\n",
      "[ 85.325  2888.391  138149.794  8719817.875  700701388.744]\n",
      "beta:\n",
      "[ 650.053  25271.069  1348364.590  93840234.885  8241617450.114]\n"
     ]
    }
   ],
   "source": [
    "import numpy as np\n",
    "\n",
    "def mv(A, v, transp_flag):\n",
    "    if transp_flag == 0:\n",
    "        return A @ v\n",
    "    else:\n",
    "        return A.T @ v\n",
    "\n",
    "def krylov_ata_expand(A, V, U, c, k=10):\n",
    "    m = V.shape[1]\n",
    "    V = np.concatenate((V, np.zeros((V.shape[0], k))), axis=1)\n",
    "    U = np.concatenate((U, np.zeros((U.shape[0], k))), axis=1)\n",
    "    alpha = np.zeros(k)\n",
    "    beta = np.zeros(k)\n",
    "\n",
    "    for j in range(m - 1, k + m):\n",
    "        if j == m - 1:\n",
    "            ###Check difference with imatlab\n",
    "            r = mv(A, V[:, j-1], 0) - U[:, :j-1] @ c[:j-1]\n",
    "        else:\n",
    "            r = mv(A, V[:, j-1], 0) - beta[j-m-1] * U[:, j-2]\n",
    "\n",
    "        r = r - U[:, :j-1] @ (U[:, :j-1].T @ r)\n",
    "        alpha[j-m] = np.linalg.norm(r)\n",
    "        if alpha[j-m] == 0:\n",
    "            break\n",
    "        U[:, j-1] = r / alpha[j-m]\n",
    "        r = mv(A.T, U[:, j-1], 1) - alpha[j-m] * V[:, j-1]\n",
    "        r = r - V[:, :j] @ (V[:, :j].T @ r)\n",
    "        beta[j-m] = np.linalg.norm(r)\n",
    "        if beta[j-m] == 0:\n",
    "            break\n",
    "        V[:, j] = r / beta[j-m]\n",
    "\n",
    "    return V, U, alpha, beta\n",
    "\n",
    "# Set the random seed for reproducibility\n",
    "np.random.seed(0)\n",
    "\n",
    "# Define the input matrices and vectors\n",
    "A = np.random.randn(4, 4)\n",
    "V = np.random.randn(4, 3)\n",
    "U = np.random.randn(4, 3)\n",
    "c = np.random.randn(3)\n",
    "k = 5\n",
    "\n",
    "# Call the krylov_ata_expand function\n",
    "V_exp, U_exp, alpha, beta = krylov_ata_expand(A, V, U, c, k)\n",
    "\n",
    "# Display the results\n",
    "print(\"V_exp:\")\n",
    "print(V_exp)\n",
    "print(\"U_exp:\")\n",
    "print(U_exp)\n",
    "print(\"alpha:\")\n",
    "print(alpha)\n",
    "print(\"beta:\")\n",
    "print(beta)\n"
   ]
  },
  {
   "cell_type": "code",
   "execution_count": 16,
   "id": "4bd6a31e-1ae3-4f15-ade9-456113feebe2",
   "metadata": {},
   "outputs": [
    {
     "name": "stdout",
     "output_type": "stream",
     "text": [
      "V_exp:\n",
      "[[ 1.000  2.000  0.111  0.111  0.111]\n",
      " [ 4.000  5.000  0.328  0.328  0.328]\n",
      " [ 7.000  8.000  0.546  0.546  0.546]\n",
      " [ 10.000  11.000  0.763  0.763  0.763]]\n",
      "U_exp:\n",
      "[[ 1.000 -0.077 -0.078 -0.078  0.000]\n",
      " [ 4.000 -0.310 -0.310 -0.310  0.000]\n",
      " [ 7.000 -0.543 -0.543 -0.543  0.000]\n",
      " [ 10.000 -0.776 -0.776 -0.776  0.000]]\n",
      "alpha:\n",
      "[ 62808872265.078  3980876294657805.000]\n",
      "beta:\n",
      "[ 23837582699001.832  1514825833565455616.000]\n"
     ]
    }
   ],
   "source": [
    "# Fixed input matrices and vectors\n",
    "A = np.array([\n",
    "    [1, 2, 3, 4],\n",
    "    [4, 5, 6, 7],\n",
    "    [7, 8, 9, 10],\n",
    "    [10, 11, 12, 13]\n",
    "])\n",
    "V = np.array([\n",
    "    [1, 2, 3],\n",
    "    [4, 5, 6],\n",
    "    [7, 8, 9],\n",
    "    [10, 11, 12]\n",
    "])\n",
    "U = np.array([\n",
    "    [1, 2, 3],\n",
    "    [4, 5, 6],\n",
    "    [7, 8, 9],\n",
    "    [10, 11, 12]\n",
    "])\n",
    "c = np.array([1, 2, 3])\n",
    "k = 2\n",
    "\n",
    "# Call the krylov_ata_expand function\n",
    "V_exp, U_exp, alpha, beta = krylov_ata_expand(A, V, U, c, k)\n",
    "\n",
    "# Display the results\n",
    "print(\"V_exp:\")\n",
    "print(V_exp)\n",
    "print(\"U_exp:\")\n",
    "print(U_exp)\n",
    "print(\"alpha:\")\n",
    "print(alpha)\n",
    "print(\"beta:\")\n",
    "print(beta)"
   ]
  },
  {
   "cell_type": "code",
   "execution_count": 29,
   "id": "fa1ed6b0-77a0-474d-ad65-72317b936d84",
   "metadata": {},
   "outputs": [
    {
     "name": "stdout",
     "output_type": "stream",
     "text": [
      "   0  2.44e-03\n",
      "[ 25.110  3.947  3.561]\n",
      "Found after 0 iterations with residual = 2.44e-03\n"
     ]
    }
   ],
   "source": [
    "def krylov_schur_svd(A, **kwargs):\n",
    "    nr = kwargs.get('nr', 1)\n",
    "    v1 = kwargs.get('v1', None)\n",
    "    tol = kwargs.get('tol', 1e-6)\n",
    "    absrel = kwargs.get('absrel', 'rel')\n",
    "    mindim = kwargs.get('mindim', 10)\n",
    "    maxdim = kwargs.get('maxdim', 20)\n",
    "    maxit = kwargs.get('maxit', 1000)\n",
    "    target = kwargs.get('target', np.inf)\n",
    "    info = kwargs.get('info', 0)\n",
    "\n",
    "    if v1 is None:\n",
    "        v1 = np.random.rand(A.shape[1])\n",
    "    \n",
    "    if mindim < nr:\n",
    "        mindim = nr\n",
    "    if maxdim < 2 * mindim:\n",
    "        maxdim = 2 * mindim\n",
    "    \n",
    "    if absrel == 'rel' and np.issubdtype(A.dtype, np.number):\n",
    "        tol = tol * np.linalg.norm(A, 1)\n",
    "\n",
    "    B = np.zeros((maxdim, maxdim + 1))\n",
    "    V, U, alpha, beta = krylov_ata(A, v1, mindim)\n",
    "    B[:mindim + 1, :mindim + 1] = np.diag(np.append(alpha, [0])) + np.diag(beta, 1)\n",
    "    hist = np.zeros(maxit)\n",
    "\n",
    "    for k in range(maxit):\n",
    "        V, U, alpha, beta = krylov_ata_expand(A, V, U, B[:mindim, mindim], maxdim - mindim)\n",
    "        B[mindim: maxdim, mindim: maxdim] = np.diag(alpha) + np.diag(beta[:maxdim - mindim - 1], 1)\n",
    "        B[maxdim - 1, maxdim] = beta[maxdim - mindim - 1]\n",
    "        X, sigma, Y = np.linalg.svd(B[:maxdim, :maxdim])\n",
    "        \n",
    "        # Restart of Lanczos algorithm\n",
    "        V = np.concatenate((element(V[:, :maxdim] @ Y, list(range(V.shape[0])), list(range(mindim))), V[:, maxdim:maxdim + 1]), axis=1)\n",
    "        U = element(U[:, :maxdim] @ X, list(range(U.shape[0])), list(range(mindim)))\n",
    "        c = B[:, maxdim]\n",
    "        e = (c @ X)[:mindim]\n",
    "        B[:mindim, :mindim + 1] = np.concatenate((np.diag(sigma[:mindim]), e.reshape(-1, 1)), axis=1)\n",
    "        \n",
    "        err = np.linalg.norm(e[:nr])\n",
    "        hist[k] = err\n",
    "        \n",
    "        if info > 1:\n",
    "            print(f'{k:4d}  {err:6.2e}')\n",
    "            print(sigma[:min(3,nr)])\n",
    "        \n",
    "        if err < tol:\n",
    "            sigma = sigma[:nr]\n",
    "            V = V[:, :nr]\n",
    "            U = U[:, :nr]\n",
    "            mvs = np.arange(1, k + 1) * (maxdim - mindim) + mindim\n",
    "            print(f\"Found after {k} iterations with residual = {err:6.2e}\")\n",
    "            return sigma, V, U, hist[:k+1], mvs\n",
    "    \n",
    "    if info:\n",
    "        print(f\"Quit after max {k} iterations with residual = {err:6.2e}\")\n",
    "    sigma = sigma[:mindim]\n",
    "    V = V[:, :mindim]\n",
    "    return sigma, V, U, hist, mvs\n",
    "    \n",
    "A = np.random.rand(50, 50)\n",
    "sigma, V, U, hist, mvs = krylov_schur_svd(A, nr=3, tol=1e-4, maxit=100, info=2)"
   ]
  },
  {
   "cell_type": "code",
   "execution_count": null,
   "id": "c424a183-a3c8-4d64-8675-0eb73ca1280e",
   "metadata": {},
   "outputs": [],
   "source": [
    "\n"
   ]
  },
  {
   "cell_type": "code",
   "execution_count": null,
   "id": "0ef39d63-c2b7-498d-97d5-9c9787daf260",
   "metadata": {},
   "outputs": [],
   "source": []
  },
  {
   "cell_type": "code",
   "execution_count": null,
   "id": "68809907-ecac-4594-949a-90e94495495a",
   "metadata": {},
   "outputs": [],
   "source": []
  }
 ],
 "metadata": {
  "kernelspec": {
   "display_name": "Python 3 (ipykernel)",
   "language": "python",
   "name": "python3"
  },
  "language_info": {
   "codemirror_mode": {
    "name": "ipython",
    "version": 3
   },
   "file_extension": ".py",
   "mimetype": "text/x-python",
   "name": "python",
   "nbconvert_exporter": "python",
   "pygments_lexer": "ipython3",
   "version": "3.12.4"
  }
 },
 "nbformat": 4,
 "nbformat_minor": 5
}
