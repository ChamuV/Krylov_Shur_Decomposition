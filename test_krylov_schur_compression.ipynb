{
 "cells": [
  {
   "cell_type": "code",
   "execution_count": 1,
   "id": "4e6038c8-b051-400b-8cca-36388f14bfba",
   "metadata": {},
   "outputs": [],
   "source": [
    "%matplotlib inline\n",
    "import numpy as np\n",
    "import sys\n",
    "sys.path.append('./utils/')\n",
    "from sklearn.utils.extmath import *\n",
    "from sklearn.utils.extmath import randomized_svd\n",
    "import adaptoctree.morton as morton\n",
    "import adaptoctree.tree as tree\n",
    "import fmm.surface as surface\n",
    "from scripts.precompute_operators import rsvd\n",
    "from fmm.kernel import laplace_gram_matrix_serial\n",
    "import matplotlib.pyplot as plt\n",
    "from functions_from_matlab import krylov_schur_svd"
   ]
  },
  {
   "cell_type": "markdown",
   "id": "16f27203",
   "metadata": {},
   "source": [
    "# Matrix Creation"
   ]
  },
  {
   "cell_type": "code",
   "execution_count": 2,
   "id": "b31ac341-b931-4dd7-90b0-d511a612d781",
   "metadata": {},
   "outputs": [],
   "source": [
    "def compress_m2l_gram_matrix(\n",
    "        dense_gram_matrix, level, x0, r0, depth, alpha_inner, check_surface,\n",
    "        equivalent_surface, k, dtype\n",
    "    ):\n",
    "    \"\"\"\n",
    "    Compute compressed representation of unique Gram matrices for targets and\n",
    "    sources at a given level of the octree, specified by their unique transfer\n",
    "    vectors. Compression is computed using the randomised-SVD of Halko et. al.\n",
    "    (2011).\n",
    "\n",
    "    Parameters:\n",
    "    -----------\n",
    "    dense_gram_matrix: function\n",
    "        Gram matrix function handle.\n",
    "    level : int\n",
    "        Octree level at which M2L operators are being calculated.\n",
    "    x0 : np.array(shape=(1, 3), dtype=np.float64)\n",
    "        Center of octree root node.\n",
    "    r0 : np.float64\n",
    "\t    Half side length of octree root node.\n",
    "    alpha_inner : float\n",
    "        Relative size of inner surface.\n",
    "    check_surface : np.array(shape=(ncheck_points, 3), dtype=float)\n",
    "        Discretized check surface.\n",
    "    equivalent_surface : np.array(shape=(nequivalent_points, 3), dtype=float)\n",
    "        Discretized equivalent surface.\n",
    "    k : int\n",
    "        Target compression rank.\n",
    "\n",
    "    Returns:\n",
    "    --------\n",
    "    (\n",
    "        np.array(shape=(nu, k), float),\n",
    "        np.array(shape=(ns), dtype=float),\n",
    "        np.array(shape=(k, nvt), dtype=float),\n",
    "        np.array(shape=(316), dtype=int)\n",
    "    )\n",
    "        Tuple of SVD components of aggregated M2L matrix at this level, as well\n",
    "        as hashes of the transfer vectors to index the components by.\n",
    "    \"\"\"\n",
    "    sources, targets, hashes = tree.find_unique_v_list_interactions(\n",
    "        level=level, x0=x0, r0=r0, depth=depth\n",
    "    )\n",
    "\n",
    "    n_targets_per_node = len(check_surface)\n",
    "    n_sources_per_node = len(equivalent_surface)\n",
    "    n_sources = len(sources)\n",
    "\n",
    "    # Create a collated equivalent to check surface for sources/targets\n",
    "    # corresponding to unique transfer vectors at this level.\n",
    "    se2tc = np.zeros((n_targets_per_node, n_sources*n_sources_per_node), dtype)\n",
    "\n",
    "    for idx in range(len(targets)):\n",
    "\n",
    "        target = targets[idx]\n",
    "        source = sources[idx]\n",
    "\n",
    "        target_center = morton.find_physical_center_from_key(\n",
    "            key=target,\n",
    "            x0=x0,\n",
    "            r0=r0\n",
    "        )\n",
    "\n",
    "        source_center = morton.find_physical_center_from_key(\n",
    "            key=source,\n",
    "            x0=x0,\n",
    "            r0=r0\n",
    "        )\n",
    "\n",
    "        lidx_sources = idx*n_sources_per_node\n",
    "        ridx_sources = lidx_sources+n_sources_per_node\n",
    "\n",
    "        target_check_surface = surface.scale_surface(\n",
    "            surf=check_surface,\n",
    "            radius=r0,\n",
    "            level=level,\n",
    "            center=target_center,\n",
    "            alpha=alpha_inner\n",
    "        )\n",
    "\n",
    "        source_equivalent_surface = surface.scale_surface(\n",
    "            surf=equivalent_surface,\n",
    "            radius=r0,\n",
    "            level=level,\n",
    "            center=source_center,\n",
    "            alpha=alpha_inner\n",
    "        )\n",
    "\n",
    "        se2tc[:, lidx_sources:ridx_sources] =  dense_gram_matrix(\n",
    "                sources=source_equivalent_surface, targets=target_check_surface\n",
    "            )\n",
    "\n",
    "    return se2tc\n",
    "    # Run RSVD compression.\n",
    "    # u, s, vt = rsvd(se2tc, k)\n",
    "\n",
    "    # return u, s, vt, hashes"
   ]
  },
  {
   "cell_type": "code",
   "execution_count": 3,
   "id": "fdd03179-d070-4800-973a-eac8c2d45a9b",
   "metadata": {},
   "outputs": [],
   "source": [
    "order_equivalent = 10\n",
    "order_check = 5\n",
    "dtype = np.float32\n",
    "equivalent_surface = surface.compute_surface(order_equivalent, dtype)\n",
    "check_surface = surface.compute_surface(order_check, dtype)"
   ]
  },
  {
   "cell_type": "code",
   "execution_count": 4,
   "id": "d42e17f0-8643-43bc-a69f-d5075584bd3e",
   "metadata": {},
   "outputs": [
    {
     "data": {
      "text/plain": [
       "(488, 3)"
      ]
     },
     "execution_count": 4,
     "metadata": {},
     "output_type": "execute_result"
    }
   ],
   "source": [
    "equivalent_surface.shape"
   ]
  },
  {
   "cell_type": "code",
   "execution_count": 5,
   "id": "1b07f75a-2a92-4c84-817c-343baba399bc",
   "metadata": {},
   "outputs": [
    {
     "data": {
      "text/plain": [
       "(98, 3)"
      ]
     },
     "execution_count": 5,
     "metadata": {},
     "output_type": "execute_result"
    }
   ],
   "source": [
    "check_surface.shape"
   ]
  },
  {
   "cell_type": "code",
   "execution_count": 6,
   "id": "8e055c73-afa6-4c9c-bcce-d1f88ef8794f",
   "metadata": {},
   "outputs": [],
   "source": [
    "x0 = np.array([0., 0., 0.])\n",
    "r0 = 0.5\n",
    "alpha_inner = 1.05\n",
    "alpha_outer = 1.95\n",
    "k = 10\n",
    "level = 2\n",
    "depth = 3"
   ]
  },
  {
   "cell_type": "code",
   "execution_count": 7,
   "id": "b2d02dbd-e453-43d6-9852-90e6454ea364",
   "metadata": {
    "scrolled": true
   },
   "outputs": [],
   "source": [
    "se2tc = compress_m2l_gram_matrix(laplace_gram_matrix_serial, level, x0, r0, depth, alpha_inner, check_surface, equivalent_surface, k, dtype)"
   ]
  },
  {
   "cell_type": "code",
   "execution_count": 8,
   "id": "2d82581d-8c10-4ffb-9b72-d6c1c5f22068",
   "metadata": {},
   "outputs": [
    {
     "data": {
      "text/plain": [
       "(98, 154208)"
      ]
     },
     "execution_count": 8,
     "metadata": {},
     "output_type": "execute_result"
    }
   ],
   "source": [
    "se2tc.shape"
   ]
  },
  {
   "cell_type": "code",
   "execution_count": 9,
   "id": "905403a8-d61b-4e40-9b27-7677590953cb",
   "metadata": {},
   "outputs": [
    {
     "data": {
      "text/plain": [
       "488.0"
      ]
     },
     "execution_count": 9,
     "metadata": {},
     "output_type": "execute_result"
    }
   ],
   "source": [
    "154208/316"
   ]
  },
  {
   "cell_type": "markdown",
   "id": "0bcb1b86-3ab7-4b60-89d3-e5bed19af538",
   "metadata": {},
   "source": [
    "# 1) SVD"
   ]
  },
  {
   "cell_type": "code",
   "execution_count": 13,
   "id": "0fed34b1-e7f0-426e-af97-422a66ff94ed",
   "metadata": {},
   "outputs": [
    {
     "ename": "",
     "evalue": "",
     "output_type": "error",
     "traceback": [
      "\u001b[1;31mCannot execute code, session has been disposed. Please try restarting the Kernel."
     ]
    },
    {
     "ename": "",
     "evalue": "",
     "output_type": "error",
     "traceback": [
      "\u001b[1;31mThe Kernel crashed while executing code in the the current cell or a previous cell. Please review the code in the cell(s) to identify a possible cause of the failure. Click <a href='https://aka.ms/vscodeJupyterKernelCrash'>here</a> for more info. View Jupyter <a href='command:jupyter.viewOutput'>log</a> for further details."
     ]
    }
   ],
   "source": [
    "u, s, vt = np.linalg.svd(se2tc.T)"
   ]
  },
  {
   "cell_type": "code",
   "execution_count": null,
   "id": "1f92d196-f1d8-4db0-b103-14fa969c1c81",
   "metadata": {},
   "outputs": [
    {
     "ename": "",
     "evalue": "",
     "output_type": "error",
     "traceback": [
      "\u001b[1;31mRunning cells with '/opt/homebrew/bin/python3' requires the ipykernel package.\n",
      "\u001b[1;31mRun the following command to install 'ipykernel' into the Python environment. \n",
      "\u001b[1;31mCommand: '/opt/homebrew/bin/python3 -m pip install ipykernel -U --user --force-reinstall'"
     ]
    }
   ],
   "source": [
    "plt.plot(s)"
   ]
  },
  {
   "cell_type": "code",
   "execution_count": null,
   "id": "a712d52a-1794-4053-8d84-24143866f62c",
   "metadata": {},
   "outputs": [
    {
     "ename": "",
     "evalue": "",
     "output_type": "error",
     "traceback": [
      "\u001b[1;31mRunning cells with '/opt/homebrew/bin/python3' requires the ipykernel package.\n",
      "\u001b[1;31mRun the following command to install 'ipykernel' into the Python environment. \n",
      "\u001b[1;31mCommand: '/opt/homebrew/bin/python3 -m pip install ipykernel -U --user --force-reinstall'"
     ]
    }
   ],
   "source": [
    "s"
   ]
  },
  {
   "cell_type": "markdown",
   "id": "ce32e8a5-7e9f-4e64-a512-313f53d8d00c",
   "metadata": {},
   "source": [
    "# 2) Randomized SVD"
   ]
  },
  {
   "cell_type": "code",
   "execution_count": 10,
   "id": "c0999fbe",
   "metadata": {},
   "outputs": [],
   "source": [
    "\n",
    "u, s, v = randomized_svd(se2tc.T,n_components = 7)"
   ]
  },
  {
   "cell_type": "code",
   "execution_count": 11,
   "id": "7375277f-2a4c-4745-b14f-b1ca87eada06",
   "metadata": {},
   "outputs": [
    {
     "data": {
      "text/plain": [
       "array([387.30777  ,  33.281834 ,  33.28174  ,  33.281693 ,   6.9306107,\n",
       "         6.9305944,   6.930585 ], dtype=float32)"
      ]
     },
     "execution_count": 11,
     "metadata": {},
     "output_type": "execute_result"
    }
   ],
   "source": [
    "s"
   ]
  },
  {
   "cell_type": "code",
   "execution_count": 12,
   "id": "bca4983e-b008-4b04-945e-0bf4ec876735",
   "metadata": {},
   "outputs": [
    {
     "data": {
      "text/plain": [
       "[<matplotlib.lines.Line2D at 0x1219bf980>]"
      ]
     },
     "execution_count": 12,
     "metadata": {},
     "output_type": "execute_result"
    },
    {
     "data": {
      "image/png": "[encoded data removed]",
      "text/plain": [
       "<Figure size 640x480 with 1 Axes>"
      ]
     },
     "metadata": {},
     "output_type": "display_data"
    }
   ],
   "source": [
    "plt.plot(s)"
   ]
  },
  {
   "cell_type": "markdown",
   "id": "f5819443-370e-4632-9d01-460e7718c4ae",
   "metadata": {},
   "source": [
    "# 3) Krylov Schur"
   ]
  },
  {
   "cell_type": "code",
   "execution_count": 13,
   "id": "51f93907-8d68-432c-878a-dc7232cc110a",
   "metadata": {},
   "outputs": [
    {
     "name": "stdout",
     "output_type": "stream",
     "text": [
      "1\n",
      "2\n",
      "3\n",
      "4\n",
      "5\n",
      "0: 9.54992435359533e-07\n",
      "Found after 1 iteration(s) with residual = 9.54992435359533e-07\n"
     ]
    }
   ],
   "source": [
    "sigma, V, U, hist, mvs = krylov_schur_svd(se2tc.T, **{'nr': 7})"
   ]
  },
  {
   "cell_type": "code",
   "execution_count": 14,
   "id": "2e2593da-3678-4a82-9b5c-b38c37dcdfd3",
   "metadata": {},
   "outputs": [
    {
     "data": {
      "text/plain": [
       "array([387.306521479571,  33.281750401747,  33.28175035697 ,\n",
       "        33.281750295909,   6.930587924226,   6.93058791328 ,\n",
       "         6.930587906731])"
      ]
     },
     "execution_count": 14,
     "metadata": {},
     "output_type": "execute_result"
    }
   ],
   "source": [
    "sigma"
   ]
  },
  {
   "cell_type": "code",
   "execution_count": 15,
   "id": "910d6bcd",
   "metadata": {},
   "outputs": [
    {
     "data": {
      "text/plain": [
       "array([9.549924353595e-07])"
      ]
     },
     "execution_count": 15,
     "metadata": {},
     "output_type": "execute_result"
    }
   ],
   "source": [
    "hist"
   ]
  },
  {
   "cell_type": "code",
   "execution_count": 17,
   "id": "822c1b14",
   "metadata": {},
   "outputs": [
    {
     "data": {
      "text/plain": [
       "array([], dtype=int64)"
      ]
     },
     "execution_count": 17,
     "metadata": {},
     "output_type": "execute_result"
    }
   ],
   "source": [
    "mvs"
   ]
  },
  {
   "cell_type": "code",
   "execution_count": 18,
   "id": "eb49610d-2ed3-4357-b6f0-0fbf0b4c55ce",
   "metadata": {},
   "outputs": [
    {
     "data": {
      "text/plain": [
       "[<matplotlib.lines.Line2D at 0x126302a20>]"
      ]
     },
     "execution_count": 18,
     "metadata": {},
     "output_type": "execute_result"
    },
    {
     "data": {
      "image/png": "[encoded data removed]",
      "text/plain": [
       "<Figure size 640x480 with 1 Axes>"
      ]
     },
     "metadata": {},
     "output_type": "display_data"
    }
   ],
   "source": [
    "plt.plot(sigma,marker = 'o')"
   ]
  },
  {
   "cell_type": "markdown",
   "id": "00cd0061",
   "metadata": {},
   "source": [
    "# Comparing Results of RSVD and Krylov Schur"
   ]
  },
  {
   "cell_type": "code",
   "execution_count": null,
   "id": "158b8399",
   "metadata": {},
   "outputs": [
    {
     "ename": "",
     "evalue": "",
     "output_type": "error",
     "traceback": [
      "\u001b[1;31mRunning cells with '/opt/homebrew/bin/python3' requires the ipykernel package.\n",
      "\u001b[1;31mRun the following command to install 'ipykernel' into the Python environment. \n",
      "\u001b[1;31mCommand: '/opt/homebrew/bin/python3 -m pip install ipykernel -U --user --force-reinstall'"
     ]
    }
   ],
   "source": [
    "rel_s = s/np.linalg.norm(s)\n",
    "rel_sigma = sigma/np.linalg.norm(sigma)"
   ]
  },
  {
   "cell_type": "code",
   "execution_count": null,
   "id": "721a0dd5",
   "metadata": {},
   "outputs": [
    {
     "ename": "",
     "evalue": "",
     "output_type": "error",
     "traceback": [
      "\u001b[1;31mRunning cells with '/opt/homebrew/bin/python3' requires the ipykernel package.\n",
      "\u001b[1;31mRun the following command to install 'ipykernel' into the Python environment. \n",
      "\u001b[1;31mCommand: '/opt/homebrew/bin/python3 -m pip install ipykernel -U --user --force-reinstall'"
     ]
    }
   ],
   "source": [
    "# Create a figure and two subplots\n",
    "fig, (ax1, ax2) = plt.subplots(1, 2, figsize=(10, 4))\n",
    "\n",
    "# Plot data on the first subplot\n",
    "ax1.plot(rel_s, label='RSVD', marker = 'o')\n",
    "ax1.set_title('RSVD')\n",
    "ax1.set_xlabel('Index')\n",
    "ax1.set_ylabel('Relative Singular Value')\n",
    "ax1.legend()\n",
    "\n",
    "# Plot data on the second subplot\n",
    "ax2.plot(rel_sigma, label='RSVD', marker = 'o')\n",
    "ax2.set_title('Krylov Schur')\n",
    "ax2.set_xlabel('Index')\n",
    "ax2.set_ylabel('Relative Singular Value')\n",
    "ax2.legend()\n",
    "\n",
    "# Adjust layout\n",
    "plt.tight_layout()\n",
    "\n",
    "# Show the plot\n",
    "plt.show()"
   ]
  },
  {
   "cell_type": "markdown",
   "id": "4048bc49",
   "metadata": {},
   "source": [
    "# Matrix MATLAB File Upload"
   ]
  },
  {
   "cell_type": "code",
   "execution_count": 19,
   "id": "a7b3d698-e56d-47e5-815e-3a5b696e96d3",
   "metadata": {},
   "outputs": [],
   "source": [
    "from scipy.io import savemat"
   ]
  },
  {
   "cell_type": "code",
   "execution_count": 20,
   "id": "d20bd577",
   "metadata": {},
   "outputs": [],
   "source": [
    "a = se2tc.T\n",
    "mdic = {\"a\": a, \"label\": \"experiment\"}"
   ]
  },
  {
   "cell_type": "markdown",
   "id": "558f222a",
   "metadata": {},
   "source": [
    "savemat(\"matlab_matrix.mat\", mdic)"
   ]
  },
  {
   "cell_type": "code",
   "execution_count": null,
   "id": "2b03f455",
   "metadata": {},
   "outputs": [
    {
     "ename": "",
     "evalue": "",
     "output_type": "error",
     "traceback": [
      "\u001b[1;31mRunning cells with '/opt/homebrew/bin/python3' requires the ipykernel package.\n",
      "\u001b[1;31mRun the following command to install 'ipykernel' into the Python environment. \n",
      "\u001b[1;31mCommand: '/opt/homebrew/bin/python3 -m pip install ipykernel -U --user --force-reinstall'"
     ]
    }
   ],
   "source": []
  }
 ],
 "metadata": {
  "kernelspec": {
   "display_name": "Python 3 (ipykernel)",
   "language": "python",
   "name": "python3"
  },
  "language_info": {
   "codemirror_mode": {
    "name": "ipython",
    "version": 3
   },
   "file_extension": ".py",
   "mimetype": "text/x-python",
   "name": "python",
   "nbconvert_exporter": "python",
   "pygments_lexer": "ipython3",
   "version": "3.12.4"
  }
 },
 "nbformat": 4,
 "nbformat_minor": 5
}
