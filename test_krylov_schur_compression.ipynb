{
 "cells": [
  {
   "cell_type": "code",
   "execution_count": 1,
   "id": "4e6038c8-b051-400b-8cca-36388f14bfba",
   "metadata": {},
   "outputs": [],
   "source": [
    "%matplotlib inline\n",
    "import numpy as np\n",
    "import sys\n",
    "sys.path.append('./utils/')\n",
    "from sklearn.utils.extmath import *\n",
    "from sklearn.utils.extmath import randomized_svd\n",
    "import adaptoctree.morton as morton\n",
    "import adaptoctree.tree as tree\n",
    "import fmm.surface as surface\n",
    "from scripts.precompute_operators import rsvd\n",
    "from fmm.kernel import laplace_gram_matrix_serial\n",
    "import matplotlib.pyplot as plt\n",
    "from functions_from_matlab import krylov_schur_svd"
   ]
  },
  {
   "cell_type": "markdown",
   "id": "16f27203",
   "metadata": {},
   "source": [
    "# Matrix Creation"
   ]
  },
  {
   "cell_type": "code",
   "execution_count": 2,
   "id": "b31ac341-b931-4dd7-90b0-d511a612d781",
   "metadata": {},
   "outputs": [],
   "source": [
    "def compress_m2l_gram_matrix(\n",
    "        dense_gram_matrix, level, x0, r0, depth, alpha_inner, check_surface,\n",
    "        equivalent_surface, k, dtype\n",
    "    ):\n",
    "    \"\"\"\n",
    "    Compute compressed representation of unique Gram matrices for targets and\n",
    "    sources at a given level of the octree, specified by their unique transfer\n",
    "    vectors. Compression is computed using the randomised-SVD of Halko et. al.\n",
    "    (2011).\n",
    "\n",
    "    Parameters:\n",
    "    -----------\n",
    "    dense_gram_matrix: function\n",
    "        Gram matrix function handle.\n",
    "    level : int\n",
    "        Octree level at which M2L operators are being calculated.\n",
    "    x0 : np.array(shape=(1, 3), dtype=np.float64)\n",
    "        Center of octree root node.\n",
    "    r0 : np.float64\n",
    "\t    Half side length of octree root node.\n",
    "    alpha_inner : float\n",
    "        Relative size of inner surface.\n",
    "    check_surface : np.array(shape=(ncheck_points, 3), dtype=float)\n",
    "        Discretized check surface.\n",
    "    equivalent_surface : np.array(shape=(nequivalent_points, 3), dtype=float)\n",
    "        Discretized equivalent surface.\n",
    "    k : int\n",
    "        Target compression rank.\n",
    "\n",
    "    Returns:\n",
    "    --------\n",
    "    (\n",
    "        np.array(shape=(nu, k), float),\n",
    "        np.array(shape=(ns), dtype=float),\n",
    "        np.array(shape=(k, nvt), dtype=float),\n",
    "        np.array(shape=(316), dtype=int)\n",
    "    )\n",
    "        Tuple of SVD components of aggregated M2L matrix at this level, as well\n",
    "        as hashes of the transfer vectors to index the components by.\n",
    "    \"\"\"\n",
    "    sources, targets, hashes = tree.find_unique_v_list_interactions(\n",
    "        level=level, x0=x0, r0=r0, depth=depth\n",
    "    )\n",
    "\n",
    "    n_targets_per_node = len(check_surface)\n",
    "    n_sources_per_node = len(equivalent_surface)\n",
    "    n_sources = len(sources)\n",
    "\n",
    "    # Create a collated equivalent to check surface for sources/targets\n",
    "    # corresponding to unique transfer vectors at this level.\n",
    "    se2tc = np.zeros((n_targets_per_node, n_sources*n_sources_per_node), dtype)\n",
    "\n",
    "    for idx in range(len(targets)):\n",
    "\n",
    "        target = targets[idx]\n",
    "        source = sources[idx]\n",
    "\n",
    "        target_center = morton.find_physical_center_from_key(\n",
    "            key=target,\n",
    "            x0=x0,\n",
    "            r0=r0\n",
    "        )\n",
    "\n",
    "        source_center = morton.find_physical_center_from_key(\n",
    "            key=source,\n",
    "            x0=x0,\n",
    "            r0=r0\n",
    "        )\n",
    "\n",
    "        lidx_sources = idx*n_sources_per_node\n",
    "        ridx_sources = lidx_sources+n_sources_per_node\n",
    "\n",
    "        target_check_surface = surface.scale_surface(\n",
    "            surf=check_surface,\n",
    "            radius=r0,\n",
    "            level=level,\n",
    "            center=target_center,\n",
    "            alpha=alpha_inner\n",
    "        )\n",
    "\n",
    "        source_equivalent_surface = surface.scale_surface(\n",
    "            surf=equivalent_surface,\n",
    "            radius=r0,\n",
    "            level=level,\n",
    "            center=source_center,\n",
    "            alpha=alpha_inner\n",
    "        )\n",
    "\n",
    "        se2tc[:, lidx_sources:ridx_sources] =  dense_gram_matrix(\n",
    "                sources=source_equivalent_surface, targets=target_check_surface\n",
    "            )\n",
    "\n",
    "    return se2tc\n",
    "    # Run RSVD compression.\n",
    "    # u, s, vt = rsvd(se2tc, k)\n",
    "\n",
    "    # return u, s, vt, hashes"
   ]
  },
  {
   "cell_type": "code",
   "execution_count": 3,
   "id": "fdd03179-d070-4800-973a-eac8c2d45a9b",
   "metadata": {},
   "outputs": [],
   "source": [
    "order_equivalent = 15\n",
    "order_check = 10\n",
    "dtype = np.float32\n",
    "equivalent_surface = surface.compute_surface(order_equivalent, dtype)\n",
    "check_surface = surface.compute_surface(order_check, dtype)"
   ]
  },
  {
   "cell_type": "code",
   "execution_count": 4,
   "id": "d42e17f0-8643-43bc-a69f-d5075584bd3e",
   "metadata": {},
   "outputs": [
    {
     "data": {
      "text/plain": [
       "(1178, 3)"
      ]
     },
     "execution_count": 4,
     "metadata": {},
     "output_type": "execute_result"
    }
   ],
   "source": [
    "equivalent_surface.shape"
   ]
  },
  {
   "cell_type": "code",
   "execution_count": 5,
   "id": "905403a8-d61b-4e40-9b27-7677590953cb",
   "metadata": {},
   "outputs": [
    {
     "data": {
      "text/plain": [
       "488.0"
      ]
     },
     "execution_count": 5,
     "metadata": {},
     "output_type": "execute_result"
    }
   ],
   "source": [
    "154208/316"
   ]
  },
  {
   "cell_type": "code",
   "execution_count": 6,
   "id": "1b07f75a-2a92-4c84-817c-343baba399bc",
   "metadata": {},
   "outputs": [
    {
     "data": {
      "text/plain": [
       "(488, 3)"
      ]
     },
     "execution_count": 6,
     "metadata": {},
     "output_type": "execute_result"
    }
   ],
   "source": [
    "check_surface.shape"
   ]
  },
  {
   "cell_type": "code",
   "execution_count": 7,
   "id": "8e055c73-afa6-4c9c-bcce-d1f88ef8794f",
   "metadata": {},
   "outputs": [],
   "source": [
    "x0 = np.array([0., 0., 0.])\n",
    "r0 = 0.5\n",
    "alpha_inner = 1.05\n",
    "alpha_outer = 1.95\n",
    "k = 10\n",
    "level = 2\n",
    "depth = 3"
   ]
  },
  {
   "cell_type": "code",
   "execution_count": 8,
   "id": "b2d02dbd-e453-43d6-9852-90e6454ea364",
   "metadata": {
    "scrolled": true
   },
   "outputs": [],
   "source": [
    "se2tc = compress_m2l_gram_matrix(laplace_gram_matrix_serial, level, x0, r0, depth, alpha_inner, check_surface, equivalent_surface, k, dtype)"
   ]
  },
  {
   "cell_type": "code",
   "execution_count": 9,
   "id": "2d82581d-8c10-4ffb-9b72-d6c1c5f22068",
   "metadata": {},
   "outputs": [
    {
     "data": {
      "text/plain": [
       "(488, 372248)"
      ]
     },
     "execution_count": 9,
     "metadata": {},
     "output_type": "execute_result"
    }
   ],
   "source": [
    "se2tc.shape"
   ]
  },
  {
   "cell_type": "markdown",
   "id": "0bcb1b86-3ab7-4b60-89d3-e5bed19af538",
   "metadata": {},
   "source": [
    "# 1) SVD"
   ]
  },
  {
   "cell_type": "markdown",
   "id": "0fed34b1-e7f0-426e-af97-422a66ff94ed",
   "metadata": {},
   "source": [
    "u, s, vt = np.linalg.svd(se2tc.T)"
   ]
  },
  {
   "cell_type": "markdown",
   "id": "1f92d196-f1d8-4db0-b103-14fa969c1c81",
   "metadata": {},
   "source": [
    "plt.plot(s)"
   ]
  },
  {
   "cell_type": "markdown",
   "id": "a712d52a-1794-4053-8d84-24143866f62c",
   "metadata": {},
   "source": [
    "s"
   ]
  },
  {
   "cell_type": "markdown",
   "id": "ce32e8a5-7e9f-4e64-a512-313f53d8d00c",
   "metadata": {},
   "source": [
    "# 2) Randomized SVD"
   ]
  },
  {
   "cell_type": "code",
   "execution_count": 10,
   "id": "c0999fbe",
   "metadata": {},
   "outputs": [
    {
     "name": "stdout",
     "output_type": "stream",
     "text": [
      "$$$$\n",
      "(372248, 17)\n",
      "(372248, 488)\n",
      "****\n",
      "(488, 17)\n",
      "(488, 372248)\n",
      "****\n",
      "$$$$\n",
      "$$$$\n",
      "(372248, 17)\n",
      "(372248, 488)\n",
      "****\n",
      "(488, 17)\n",
      "(488, 372248)\n",
      "****\n",
      "$$$$\n",
      "$$$$\n",
      "(372248, 17)\n",
      "(372248, 488)\n",
      "****\n",
      "(488, 17)\n",
      "(488, 372248)\n",
      "****\n",
      "$$$$\n",
      "$$$$\n",
      "(372248, 17)\n",
      "(372248, 488)\n",
      "****\n",
      "(488, 17)\n",
      "(488, 372248)\n",
      "****\n",
      "$$$$\n",
      "$$$$\n",
      "(372248, 17)\n",
      "(372248, 488)\n",
      "****\n",
      "(488, 17)\n",
      "(488, 372248)\n",
      "****\n",
      "$$$$\n",
      "$$$$\n",
      "(372248, 17)\n",
      "(372248, 488)\n",
      "****\n",
      "(488, 17)\n",
      "(488, 372248)\n",
      "****\n",
      "$$$$\n",
      "$$$$\n",
      "(372248, 17)\n",
      "(372248, 488)\n",
      "****\n",
      "(488, 17)\n",
      "(488, 372248)\n",
      "****\n",
      "$$$$\n",
      "14\n"
     ]
    }
   ],
   "source": [
    "\n",
    "#u, s, v = randomized_svd(se2tc.T,n_components = 7, power_iteration_normalizer = 'QR')\n",
    "u, s, v = randomized_svd(se2tc.T,n_components = 7)"
   ]
  },
  {
   "cell_type": "code",
   "execution_count": 11,
   "id": "7375277f-2a4c-4745-b14f-b1ca87eada06",
   "metadata": {},
   "outputs": [
    {
     "data": {
      "text/plain": [
       "array([1342.7596  ,  112.55628 ,  112.55621 ,  112.55593 ,   22.379822,\n",
       "         22.379805,   22.379791], dtype=float32)"
      ]
     },
     "execution_count": 11,
     "metadata": {},
     "output_type": "execute_result"
    }
   ],
   "source": [
    "s"
   ]
  },
  {
   "cell_type": "code",
   "execution_count": 12,
   "id": "bca4983e-b008-4b04-945e-0bf4ec876735",
   "metadata": {},
   "outputs": [
    {
     "data": {
      "text/plain": [
       "[<matplotlib.lines.Line2D at 0x148cc6540>]"
      ]
     },
     "execution_count": 12,
     "metadata": {},
     "output_type": "execute_result"
    },
    {
     "data": {
      "image/png": "[encoded data removed]",
      "text/plain": [
       "<Figure size 640x480 with 1 Axes>"
      ]
     },
     "metadata": {},
     "output_type": "display_data"
    }
   ],
   "source": [
    "plt.plot(s)"
   ]
  },
  {
   "cell_type": "code",
   "execution_count": 13,
   "id": "f544f418",
   "metadata": {},
   "outputs": [
    {
     "data": {
      "text/plain": [
       "(372248, 7)"
      ]
     },
     "execution_count": 13,
     "metadata": {},
     "output_type": "execute_result"
    }
   ],
   "source": [
    "u.shape"
   ]
  },
  {
   "cell_type": "code",
   "execution_count": 14,
   "id": "75632477",
   "metadata": {},
   "outputs": [
    {
     "data": {
      "text/plain": [
       "(7, 488)"
      ]
     },
     "execution_count": 14,
     "metadata": {},
     "output_type": "execute_result"
    }
   ],
   "source": [
    "v.shape"
   ]
  },
  {
   "cell_type": "markdown",
   "id": "f5819443-370e-4632-9d01-460e7718c4ae",
   "metadata": {},
   "source": [
    "# 3) Krylov Schur"
   ]
  },
  {
   "cell_type": "code",
   "execution_count": 15,
   "id": "ddd97ca3",
   "metadata": {},
   "outputs": [
    {
     "data": {
      "text/plain": [
       "(372248, 488)"
      ]
     },
     "execution_count": 15,
     "metadata": {},
     "output_type": "execute_result"
    }
   ],
   "source": [
    "se2tc.T.shape"
   ]
  },
  {
   "cell_type": "code",
   "execution_count": 16,
   "id": "881a4952",
   "metadata": {},
   "outputs": [
    {
     "name": "stdout",
     "output_type": "stream",
     "text": [
      "ATA\n",
      "4.5490639209747314\n",
      "0.0013997554779052734\n",
      "4.67426872253418\n",
      "0.07488322257995605\n",
      "ATAE\n",
      "2.677431583404541\n",
      "0.004141330718994141\n",
      "3.2127461433410645\n",
      "0.09863042831420898\n",
      "0: 5.995825894173188e-07\n",
      "40\n",
      "Found after 1 iteration(s) with residual = 5.995825894173188e-07\n"
     ]
    }
   ],
   "source": [
    "sigma, V, U, hist, mvs, counter = krylov_schur_svd(se2tc, nr= 7,tol = 1e-6)"
   ]
  },
  {
   "cell_type": "code",
   "execution_count": 17,
   "id": "eb49610d-2ed3-4357-b6f0-0fbf0b4c55ce",
   "metadata": {},
   "outputs": [
    {
     "data": {
      "text/plain": [
       "[<matplotlib.lines.Line2D at 0x14e5062a0>]"
      ]
     },
     "execution_count": 17,
     "metadata": {},
     "output_type": "execute_result"
    },
    {
     "data": {
      "image/png": "[encoded data removed]",
      "text/plain": [
       "<Figure size 640x480 with 1 Axes>"
      ]
     },
     "metadata": {},
     "output_type": "display_data"
    }
   ],
   "source": [
    "plt.plot(sigma,marker = 'o')"
   ]
  },
  {
   "cell_type": "code",
   "execution_count": 18,
   "id": "7ff22c2e",
   "metadata": {},
   "outputs": [
    {
     "data": {
      "text/plain": [
       "(372248, 7)"
      ]
     },
     "execution_count": 18,
     "metadata": {},
     "output_type": "execute_result"
    }
   ],
   "source": [
    "V.shape"
   ]
  },
  {
   "cell_type": "code",
   "execution_count": 19,
   "id": "78cabf76",
   "metadata": {},
   "outputs": [
    {
     "data": {
      "text/plain": [
       "(488, 7)"
      ]
     },
     "execution_count": 19,
     "metadata": {},
     "output_type": "execute_result"
    }
   ],
   "source": [
    "U.shape"
   ]
  },
  {
   "cell_type": "markdown",
   "id": "e6cf0b5c",
   "metadata": {},
   "source": [
    "# Benchmarks of Matrix"
   ]
  },
  {
   "cell_type": "code",
   "execution_count": 20,
   "id": "ca22048a",
   "metadata": {},
   "outputs": [],
   "source": [
    "# Matrix with col vec\n",
    "v1 = np.random.randn(se2tc.shape[1])\n",
    "se2tc.dot(v1);"
   ]
  },
  {
   "cell_type": "code",
   "execution_count": 21,
   "id": "fdb69603",
   "metadata": {},
   "outputs": [],
   "source": [
    "# Matrix with col vec\n",
    "v1 = np.random.randn(se2tc.shape[1])\n",
    "se2tc @ v1;"
   ]
  },
  {
   "cell_type": "code",
   "execution_count": 22,
   "id": "fe3f6454",
   "metadata": {},
   "outputs": [],
   "source": [
    "# Matrix.T with col vec\n",
    "v1 = np.random.randn(se2tc.shape[0])\n",
    "(se2tc.T).dot(v1);"
   ]
  },
  {
   "cell_type": "code",
   "execution_count": 23,
   "id": "abb8fd9a",
   "metadata": {},
   "outputs": [],
   "source": [
    "# Matrix.T with col vec\n",
    "v1 = np.random.randn(se2tc.shape[0])\n",
    "se2tc.T @ v1;"
   ]
  },
  {
   "cell_type": "code",
   "execution_count": 24,
   "id": "83d37d54",
   "metadata": {},
   "outputs": [],
   "source": [
    "vec = np.random.randn(se2tc.shape[0],17)\n",
    "se2tc.T @ vec;"
   ]
  },
  {
   "cell_type": "markdown",
   "id": "00cd0061",
   "metadata": {},
   "source": [
    "# Comparing Results of RSVD and Krylov Schur"
   ]
  },
  {
   "cell_type": "code",
   "execution_count": 25,
   "id": "6e86d920",
   "metadata": {},
   "outputs": [
    {
     "data": {
      "text/plain": [
       "array([4.000028126007942e-07, 6.518978713801453e-08,\n",
       "       1.419100106436260e-08, 1.956869508869990e-07,\n",
       "       1.850124918649249e-09, 1.084163012987403e-08,\n",
       "       2.077150815330129e-08])"
      ]
     },
     "execution_count": 25,
     "metadata": {},
     "output_type": "execute_result"
    }
   ],
   "source": [
    "#Relative Error\n",
    "np.abs(s - sigma)/max(max(np.abs(s)),max(np.abs(sigma)))"
   ]
  },
  {
   "cell_type": "code",
   "execution_count": 26,
   "id": "158b8399",
   "metadata": {},
   "outputs": [],
   "source": [
    "rel_s = s/np.linalg.norm(s)\n",
    "rel_sigma = sigma/np.linalg.norm(sigma)"
   ]
  },
  {
   "cell_type": "code",
   "execution_count": 27,
   "id": "721a0dd5",
   "metadata": {},
   "outputs": [
    {
     "data": {
      "image/png": "[encoded data removed]",
      "text/plain": [
       "<Figure size 1000x400 with 2 Axes>"
      ]
     },
     "metadata": {},
     "output_type": "display_data"
    }
   ],
   "source": [
    "# Create a figure and two subplots\n",
    "fig, (ax1, ax2) = plt.subplots(1, 2, figsize=(10, 4))\n",
    "\n",
    "# Plot data on the first subplot\n",
    "ax1.plot(rel_s, label='RSVD', marker = 'o')\n",
    "ax1.set_title('RSVD')\n",
    "ax1.set_xlabel('Index')\n",
    "ax1.set_ylabel('Relative Singular Value')\n",
    "ax1.legend()\n",
    "\n",
    "# Plot data on the second subplot\n",
    "ax2.plot(rel_sigma, label='RSVD', marker = 'o')\n",
    "ax2.set_title('Krylov Schur')\n",
    "ax2.set_xlabel('Index')\n",
    "ax2.set_ylabel('Relative Singular Value')\n",
    "ax2.legend()\n",
    "\n",
    "# Adjust layout\n",
    "plt.tight_layout()\n",
    "\n",
    "# Show the plot\n",
    "plt.show()"
   ]
  },
  {
   "cell_type": "markdown",
   "id": "537a4fe2",
   "metadata": {},
   "source": []
  },
  {
   "cell_type": "markdown",
   "id": "4048bc49",
   "metadata": {},
   "source": [
    "# Matrix MATLAB File Upload"
   ]
  },
  {
   "cell_type": "code",
   "execution_count": 28,
   "id": "a7b3d698-e56d-47e5-815e-3a5b696e96d3",
   "metadata": {},
   "outputs": [],
   "source": [
    "from scipy.io import savemat"
   ]
  },
  {
   "cell_type": "code",
   "execution_count": 29,
   "id": "d20bd577",
   "metadata": {},
   "outputs": [],
   "source": [
    "a = se2tc.T\n",
    "mdic = {\"a\": a, \"label\": \"experiment\"}"
   ]
  },
  {
   "cell_type": "code",
   "execution_count": 30,
   "id": "a5f455a4",
   "metadata": {},
   "outputs": [],
   "source": [
    "folder_path = '/Users/chamundeshwarivadamalai/Desktop/MLF/MATLAB_Timo/ks_svd/'\n",
    "file_name = 'matlab_matrix.mat'\n",
    "full_path = folder_path + file_name"
   ]
  },
  {
   "cell_type": "code",
   "execution_count": 31,
   "id": "558f222a",
   "metadata": {},
   "outputs": [],
   "source": [
    "savemat(full_path, mdic)"
   ]
  },
  {
   "cell_type": "markdown",
   "id": "93ef4b3e",
   "metadata": {},
   "source": [
    "# Massive Test"
   ]
  },
  {
   "cell_type": "code",
   "execution_count": 10,
   "id": "fb9ad9ff",
   "metadata": {},
   "outputs": [],
   "source": [
    "from sklearn.utils.extmath import randomized_range_finder"
   ]
  },
  {
   "cell_type": "code",
   "execution_count": 11,
   "id": "efa93bb1",
   "metadata": {},
   "outputs": [
    {
     "data": {
      "text/plain": [
       "(372248, 488)"
      ]
     },
     "execution_count": 11,
     "metadata": {},
     "output_type": "execute_result"
    }
   ],
   "source": [
    "(se2tc.T).shape"
   ]
  },
  {
   "cell_type": "code",
   "execution_count": 12,
   "id": "5513269b",
   "metadata": {},
   "outputs": [
    {
     "name": "stdout",
     "output_type": "stream",
     "text": [
      "$$$$\n",
      "Q:(372248, 17)\n",
      "A:(372248, 488)\n",
      "****1\n",
      "Q:(488, 17)\n",
      "A.T:(488, 372248)\n",
      "****2\n",
      "$$$$\n",
      "$$$$\n",
      "Q:(372248, 17)\n",
      "A:(372248, 488)\n",
      "****1\n",
      "Q:(488, 17)\n",
      "A.T:(488, 372248)\n",
      "****2\n",
      "$$$$\n",
      "$$$$\n",
      "Q:(372248, 17)\n",
      "A:(372248, 488)\n",
      "****1\n",
      "Q:(488, 17)\n",
      "A.T:(488, 372248)\n",
      "****2\n",
      "$$$$\n",
      "$$$$\n",
      "Q:(372248, 17)\n",
      "A:(372248, 488)\n",
      "****1\n",
      "Q:(488, 17)\n",
      "A.T:(488, 372248)\n",
      "****2\n",
      "$$$$\n",
      "$$$$\n",
      "Q:(372248, 17)\n",
      "A:(372248, 488)\n",
      "****1\n",
      "Q:(488, 17)\n",
      "A.T:(488, 372248)\n",
      "****2\n",
      "$$$$\n",
      "$$$$\n",
      "Q:(372248, 17)\n",
      "A:(372248, 488)\n",
      "****1\n",
      "Q:(488, 17)\n",
      "A.T:(488, 372248)\n",
      "****2\n",
      "$$$$\n",
      "$$$$\n",
      "Q:(372248, 17)\n",
      "A:(372248, 488)\n",
      "****1\n",
      "Q:(488, 17)\n",
      "A.T:(488, 372248)\n",
      "****2\n",
      "$$$$\n",
      "mvs:14\n"
     ]
    }
   ],
   "source": [
    "matr = randomized_range_finder(A = se2tc.T,size = 17 , n_iter = 7,power_iteration_normalizer=\"auto\",\n",
    "    random_state=None)"
   ]
  },
  {
   "cell_type": "code",
   "execution_count": 35,
   "id": "75c7c198",
   "metadata": {},
   "outputs": [
    {
     "data": {
      "text/plain": [
       "(372248, 17)"
      ]
     },
     "execution_count": 35,
     "metadata": {},
     "output_type": "execute_result"
    }
   ],
   "source": [
    "matr.shape"
   ]
  },
  {
   "cell_type": "code",
   "execution_count": 36,
   "id": "b49c5ce3",
   "metadata": {},
   "outputs": [],
   "source": [
    "x = matr.T @ se2tc.T"
   ]
  },
  {
   "cell_type": "code",
   "execution_count": 37,
   "id": "46d2386d",
   "metadata": {},
   "outputs": [
    {
     "data": {
      "text/plain": [
       "(17, 488)"
      ]
     },
     "execution_count": 37,
     "metadata": {},
     "output_type": "execute_result"
    }
   ],
   "source": [
    "x.shape"
   ]
  },
  {
   "cell_type": "code",
   "execution_count": 38,
   "id": "2d270983",
   "metadata": {},
   "outputs": [
    {
     "name": "stdout",
     "output_type": "stream",
     "text": [
      "ATA\n",
      "0.00015163421630859375\n",
      "8.678436279296875e-05\n",
      "0.0006465911865234375\n",
      "0.0002446174621582031\n",
      "ATAE\n",
      "9.870529174804688e-05\n",
      "8.368492126464844e-05\n",
      "0.00010466575622558594\n",
      "0.00011897087097167969\n",
      "0: 2.8490306656652315e-27\n",
      "40\n",
      "Found after 1 iteration(s) with residual = 2.8490306656652315e-27\n"
     ]
    }
   ],
   "source": [
    "sigmat, Vt, Ut, histt, mvst, countert = krylov_schur_svd(x , nr= 7,tol = 1e-6)"
   ]
  },
  {
   "cell_type": "code",
   "execution_count": 39,
   "id": "67b4eb21",
   "metadata": {},
   "outputs": [
    {
     "data": {
      "text/plain": [
       "array([1342.7595046911515  ,  112.55662236742714 ,  112.55610707343975 ,\n",
       "        112.55599936715113 ,   22.379830695410288,   22.379824560472404,\n",
       "         22.379800069583535])"
      ]
     },
     "execution_count": 39,
     "metadata": {},
     "output_type": "execute_result"
    }
   ],
   "source": [
    "sigmat"
   ]
  },
  {
   "cell_type": "code",
   "execution_count": null,
   "id": "03ec05a1",
   "metadata": {},
   "outputs": [],
   "source": []
  },
  {
   "cell_type": "code",
   "execution_count": 40,
   "id": "fd62fe38",
   "metadata": {},
   "outputs": [
    {
     "data": {
      "text/plain": [
       "array([1342.7601806625364  ,  112.55619450920668 ,  112.5561943237951  ,\n",
       "        112.55619385195412 ,   22.37981929306968 ,   22.379819168915287,\n",
       "         22.379819150919666])"
      ]
     },
     "execution_count": 40,
     "metadata": {},
     "output_type": "execute_result"
    }
   ],
   "source": [
    "sigma"
   ]
  },
  {
   "cell_type": "code",
   "execution_count": 41,
   "id": "5de4c60f",
   "metadata": {},
   "outputs": [
    {
     "data": {
      "text/plain": [
       "array([5.034192960460680e-07, 3.186408314929878e-07,\n",
       "       6.497836069763420e-08, 1.448395668788562e-07,\n",
       "       8.491717859905800e-09, 4.015279269412569e-09,\n",
       "       1.421053171333673e-08])"
      ]
     },
     "execution_count": 41,
     "metadata": {},
     "output_type": "execute_result"
    }
   ],
   "source": [
    "#Relative Error\n",
    "np.abs(sigmat - sigma)/max(max(np.abs(sigmat)),max(np.abs(sigma)))"
   ]
  },
  {
   "cell_type": "code",
   "execution_count": 42,
   "id": "83871a14",
   "metadata": {},
   "outputs": [
    {
     "data": {
      "text/plain": [
       "array([4.000028126007942e-07, 6.518978713801453e-08,\n",
       "       1.419100106436260e-08, 1.956869508869990e-07,\n",
       "       1.850124918649249e-09, 1.084163012987403e-08,\n",
       "       2.077150815330129e-08])"
      ]
     },
     "execution_count": 42,
     "metadata": {},
     "output_type": "execute_result"
    }
   ],
   "source": [
    "#Relative Error\n",
    "np.abs(s - sigma)/max(max(np.abs(s)),max(np.abs(sigma)))"
   ]
  },
  {
   "cell_type": "code",
   "execution_count": null,
   "id": "6fea9900",
   "metadata": {},
   "outputs": [],
   "source": []
  }
 ],
 "metadata": {
  "kernelspec": {
   "display_name": "Python 3 (ipykernel)",
   "language": "python",
   "name": "python3"
  },
  "language_info": {
   "codemirror_mode": {
    "name": "ipython",
    "version": 3
   },
   "file_extension": ".py",
   "mimetype": "text/x-python",
   "name": "python",
   "nbconvert_exporter": "python",
   "pygments_lexer": "ipython3",
   "version": "3.12.4"
  }
 },
 "nbformat": 4,
 "nbformat_minor": 5
}
