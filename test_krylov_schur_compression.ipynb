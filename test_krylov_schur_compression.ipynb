{
 "cells": [
  {
   "cell_type": "code",
   "execution_count": 1,
   "id": "4e6038c8-b051-400b-8cca-36388f14bfba",
   "metadata": {},
   "outputs": [],
   "source": [
    "%matplotlib inline\n",
    "import numpy as np\n",
    "import sys\n",
    "sys.path.append('./utils/')\n",
    "from sklearn.utils.extmath import *\n",
    "from sklearn.utils.extmath import randomized_svd\n",
    "import adaptoctree.morton as morton\n",
    "import adaptoctree.tree as tree\n",
    "import fmm.surface as surface\n",
    "from scripts.precompute_operators import rsvd\n",
    "from fmm.kernel import laplace_gram_matrix_serial\n",
    "import matplotlib.pyplot as plt\n",
    "from functions_from_matlab import krylov_schur_svd"
   ]
  },
  {
   "cell_type": "markdown",
   "id": "16f27203",
   "metadata": {},
   "source": [
    "# Matrix Creation"
   ]
  },
  {
   "cell_type": "code",
   "execution_count": 3,
   "id": "b31ac341-b931-4dd7-90b0-d511a612d781",
   "metadata": {},
   "outputs": [],
   "source": [
    "def compress_m2l_gram_matrix(\n",
    "        dense_gram_matrix, level, x0, r0, depth, alpha_inner, check_surface,\n",
    "        equivalent_surface, k, dtype\n",
    "    ):\n",
    "    \"\"\"\n",
    "    Compute compressed representation of unique Gram matrices for targets and\n",
    "    sources at a given level of the octree, specified by their unique transfer\n",
    "    vectors. Compression is computed using the randomised-SVD of Halko et. al.\n",
    "    (2011).\n",
    "\n",
    "    Parameters:\n",
    "    -----------\n",
    "    dense_gram_matrix: function\n",
    "        Gram matrix function handle.\n",
    "    level : int\n",
    "        Octree level at which M2L operators are being calculated.\n",
    "    x0 : np.array(shape=(1, 3), dtype=np.float64)\n",
    "        Center of octree root node.\n",
    "    r0 : np.float64\n",
    "\t    Half side length of octree root node.\n",
    "    alpha_inner : float\n",
    "        Relative size of inner surface.\n",
    "    check_surface : np.array(shape=(ncheck_points, 3), dtype=float)\n",
    "        Discretized check surface.\n",
    "    equivalent_surface : np.array(shape=(nequivalent_points, 3), dtype=float)\n",
    "        Discretized equivalent surface.\n",
    "    k : int\n",
    "        Target compression rank.\n",
    "\n",
    "    Returns:\n",
    "    --------\n",
    "    (\n",
    "        np.array(shape=(nu, k), float),\n",
    "        np.array(shape=(ns), dtype=float),\n",
    "        np.array(shape=(k, nvt), dtype=float),\n",
    "        np.array(shape=(316), dtype=int)\n",
    "    )\n",
    "        Tuple of SVD components of aggregated M2L matrix at this level, as well\n",
    "        as hashes of the transfer vectors to index the components by.\n",
    "    \"\"\"\n",
    "    sources, targets, hashes = tree.find_unique_v_list_interactions(\n",
    "        level=level, x0=x0, r0=r0, depth=depth\n",
    "    )\n",
    "\n",
    "    n_targets_per_node = len(check_surface)\n",
    "    n_sources_per_node = len(equivalent_surface)\n",
    "    n_sources = len(sources)\n",
    "\n",
    "    # Create a collated equivalent to check surface for sources/targets\n",
    "    # corresponding to unique transfer vectors at this level.\n",
    "    se2tc = np.zeros((n_targets_per_node, n_sources*n_sources_per_node), dtype)\n",
    "\n",
    "    for idx in range(len(targets)):\n",
    "\n",
    "        target = targets[idx]\n",
    "        source = sources[idx]\n",
    "\n",
    "        target_center = morton.find_physical_center_from_key(\n",
    "            key=target,\n",
    "            x0=x0,\n",
    "            r0=r0\n",
    "        )\n",
    "\n",
    "        source_center = morton.find_physical_center_from_key(\n",
    "            key=source,\n",
    "            x0=x0,\n",
    "            r0=r0\n",
    "        )\n",
    "\n",
    "        lidx_sources = idx*n_sources_per_node\n",
    "        ridx_sources = lidx_sources+n_sources_per_node\n",
    "\n",
    "        target_check_surface = surface.scale_surface(\n",
    "            surf=check_surface,\n",
    "            radius=r0,\n",
    "            level=level,\n",
    "            center=target_center,\n",
    "            alpha=alpha_inner\n",
    "        )\n",
    "\n",
    "        source_equivalent_surface = surface.scale_surface(\n",
    "            surf=equivalent_surface,\n",
    "            radius=r0,\n",
    "            level=level,\n",
    "            center=source_center,\n",
    "            alpha=alpha_inner\n",
    "        )\n",
    "\n",
    "        se2tc[:, lidx_sources:ridx_sources] =  dense_gram_matrix(\n",
    "                sources=source_equivalent_surface, targets=target_check_surface\n",
    "            )\n",
    "\n",
    "    return se2tc\n",
    "    # Run RSVD compression.\n",
    "    # u, s, vt = rsvd(se2tc, k)\n",
    "\n",
    "    # return u, s, vt, hashes"
   ]
  },
  {
   "cell_type": "code",
   "execution_count": 4,
   "id": "fdd03179-d070-4800-973a-eac8c2d45a9b",
   "metadata": {},
   "outputs": [],
   "source": [
    "order_equivalent = 15\n",
    "order_check = 10\n",
    "dtype = np.float32\n",
    "equivalent_surface = surface.compute_surface(order_equivalent, dtype)\n",
    "check_surface = surface.compute_surface(order_check, dtype)"
   ]
  },
  {
   "cell_type": "code",
   "execution_count": 5,
   "id": "d42e17f0-8643-43bc-a69f-d5075584bd3e",
   "metadata": {},
   "outputs": [
    {
     "data": {
      "text/plain": [
       "(1178, 3)"
      ]
     },
     "execution_count": 5,
     "metadata": {},
     "output_type": "execute_result"
    }
   ],
   "source": [
    "equivalent_surface.shape"
   ]
  },
  {
   "cell_type": "code",
   "execution_count": 8,
   "id": "1b07f75a-2a92-4c84-817c-343baba399bc",
   "metadata": {},
   "outputs": [
    {
     "data": {
      "text/plain": [
       "(488, 3)"
      ]
     },
     "execution_count": 8,
     "metadata": {},
     "output_type": "execute_result"
    }
   ],
   "source": [
    "check_surface.shape"
   ]
  },
  {
   "cell_type": "code",
   "execution_count": 6,
   "id": "8e055c73-afa6-4c9c-bcce-d1f88ef8794f",
   "metadata": {},
   "outputs": [],
   "source": [
    "x0 = np.array([0., 0., 0.])\n",
    "r0 = 0.5\n",
    "alpha_inner = 1.05\n",
    "alpha_outer = 1.95\n",
    "k = 10\n",
    "level = 2\n",
    "depth = 3"
   ]
  },
  {
   "cell_type": "code",
   "execution_count": 7,
   "id": "b2d02dbd-e453-43d6-9852-90e6454ea364",
   "metadata": {
    "scrolled": true
   },
   "outputs": [],
   "source": [
    "se2tc = compress_m2l_gram_matrix(laplace_gram_matrix_serial, level, x0, r0, depth, alpha_inner, check_surface, equivalent_surface, k, dtype)"
   ]
  },
  {
   "cell_type": "code",
   "execution_count": 8,
   "id": "2d82581d-8c10-4ffb-9b72-d6c1c5f22068",
   "metadata": {},
   "outputs": [
    {
     "data": {
      "text/plain": [
       "(488, 372248)"
      ]
     },
     "execution_count": 8,
     "metadata": {},
     "output_type": "execute_result"
    }
   ],
   "source": [
    "se2tc.shape"
   ]
  },
  {
   "cell_type": "code",
   "execution_count": 9,
   "id": "905403a8-d61b-4e40-9b27-7677590953cb",
   "metadata": {},
   "outputs": [
    {
     "data": {
      "text/plain": [
       "488.0"
      ]
     },
     "execution_count": 9,
     "metadata": {},
     "output_type": "execute_result"
    }
   ],
   "source": [
    "154208/316"
   ]
  },
  {
   "cell_type": "markdown",
   "id": "0bcb1b86-3ab7-4b60-89d3-e5bed19af538",
   "metadata": {},
   "source": [
    "# 1) SVD"
   ]
  },
  {
   "cell_type": "code",
   "execution_count": null,
   "id": "0fed34b1-e7f0-426e-af97-422a66ff94ed",
   "metadata": {},
   "outputs": [],
   "source": [
    "u, s, vt = np.linalg.svd(se2tc.T)"
   ]
  },
  {
   "cell_type": "code",
   "execution_count": null,
   "id": "1f92d196-f1d8-4db0-b103-14fa969c1c81",
   "metadata": {},
   "outputs": [
    {
     "data": {
      "text/plain": [
       "[<matplotlib.lines.Line2D at 0x11e411280>]"
      ]
     },
     "execution_count": 67,
     "metadata": {},
     "output_type": "execute_result"
    },
    {
     "data": {
      "image/png": "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",
      "text/plain": [
       "<Figure size 640x480 with 1 Axes>"
      ]
     },
     "metadata": {},
     "output_type": "display_data"
    }
   ],
   "source": [
    "plt.plot(s)"
   ]
  },
  {
   "cell_type": "code",
   "execution_count": null,
   "id": "a712d52a-1794-4053-8d84-24143866f62c",
   "metadata": {},
   "outputs": [
    {
     "data": {
      "text/plain": [
       "array([ 37.7390,  3.4585,  3.4585,  3.4585,  0.8210,  0.8210,  0.8210,\n",
       "        0.5104,  0.5104,  0.2970,  0.1751,  0.1751,  0.1751,  0.1565,\n",
       "        0.1565,  0.1565,  0.0730,  0.0730,  0.0730,  0.0484,  0.0484,\n",
       "        0.0484,  0.0459,  0.0272,  0.0272,  0.0265,  0.0265,  0.0160,\n",
       "        0.0160,  0.0160,  0.0100,  0.0100,  0.0100,  0.0097,  0.0097,\n",
       "        0.0097,  0.0085,  0.0085,  0.0085,  0.0066,  0.0041,  0.0041,\n",
       "        0.0041,  0.0028,  0.0028,  0.0028,  0.0020,  0.0012,  0.0012,\n",
       "        0.0006,  0.0006,  0.0006,  0.0002,  0.0002,  0.0002,  0.0001],\n",
       "      dtype=float32)"
      ]
     },
     "execution_count": 68,
     "metadata": {},
     "output_type": "execute_result"
    }
   ],
   "source": [
    "s"
   ]
  },
  {
   "cell_type": "markdown",
   "id": "ce32e8a5-7e9f-4e64-a512-313f53d8d00c",
   "metadata": {},
   "source": [
    "# 2) Randomized SVD"
   ]
  },
  {
   "cell_type": "code",
   "execution_count": null,
   "id": "c0999fbe",
   "metadata": {},
   "outputs": [],
   "source": [
    "\n",
    "u, s, v = randomized_svd(se2tc.T,n_components = 7)"
   ]
  },
  {
   "cell_type": "code",
   "execution_count": null,
   "id": "7375277f-2a4c-4745-b14f-b1ca87eada06",
   "metadata": {},
   "outputs": [
    {
     "data": {
      "text/plain": [
<<<<<<< HEAD
       "array([1342.7596  ,  112.55629 ,  112.55622 ,  112.55579 ,   22.379839,\n",
       "         22.379774,   22.379753], dtype=float32)"
=======
       "array([1342.7595  ,  112.55631 ,  112.55609 ,  112.55594 ,   22.379831,\n",
       "         22.379814,   22.379715], dtype=float32)"
>>>>>>> 4fa99cba206faa5649ea6bedbfc61942d601a3ba
      ]
     },
     "execution_count": 12,
     "metadata": {},
     "output_type": "execute_result"
    }
   ],
   "source": [
    "s"
   ]
  },
  {
   "cell_type": "code",
   "execution_count": null,
   "id": "bca4983e-b008-4b04-945e-0bf4ec876735",
   "metadata": {},
   "outputs": [
    {
     "data": {
      "text/plain": [
<<<<<<< HEAD
       "[<matplotlib.lines.Line2D at 0x1061c92b0>]"
=======
       "[<matplotlib.lines.Line2D at 0x1149dd430>]"
>>>>>>> 4fa99cba206faa5649ea6bedbfc61942d601a3ba
      ]
     },
     "execution_count": 13,
     "metadata": {},
     "output_type": "execute_result"
    },
    {
     "data": {
      "image/png": "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",
      "text/plain": [
       "<Figure size 640x480 with 1 Axes>"
      ]
     },
     "metadata": {},
     "output_type": "display_data"
    }
   ],
   "source": [
    "plt.plot(s)"
   ]
  },
  {
   "cell_type": "code",
   "execution_count": null,
   "id": "eb45cd8c",
   "metadata": {},
   "outputs": [],
   "source": [
    "rel_s = s/np.linalg.norm(s)"
   ]
  },
  {
   "cell_type": "code",
   "execution_count": null,
   "id": "1c71f03a",
   "metadata": {},
   "outputs": [
    {
     "data": {
      "text/plain": [
<<<<<<< HEAD
       "[<matplotlib.lines.Line2D at 0x110a869c0>]"
=======
       "[<matplotlib.lines.Line2D at 0x11640da60>]"
>>>>>>> 4fa99cba206faa5649ea6bedbfc61942d601a3ba
      ]
     },
     "execution_count": 15,
     "metadata": {},
     "output_type": "execute_result"
    },
    {
     "data": {
      "image/png": "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",
      "text/plain": [
       "<Figure size 640x480 with 1 Axes>"
      ]
     },
     "metadata": {},
     "output_type": "display_data"
    }
   ],
   "source": [
    "plt.plot(rel_s)"
   ]
  },
  {
   "cell_type": "markdown",
   "id": "f5819443-370e-4632-9d01-460e7718c4ae",
   "metadata": {},
   "source": [
    "# 3) Krylov Schur"
   ]
  },
  {
   "cell_type": "code",
   "execution_count": 10,
   "id": "51f93907-8d68-432c-878a-dc7232cc110a",
   "metadata": {},
   "outputs": [
    {
     "name": "stdout",
     "output_type": "stream",
     "text": [
<<<<<<< HEAD
      "1\n",
      "2\n",
      "3\n",
      "4\n",
      "5\n",
      "0: 4.524410949264988e-06\n",
      "Found after 0 iterations with residual = 4.524410949264988e-06\n"
=======
      "2\n",
      "3\n",
      "4\n",
      "0: 2.7864595812891595e-07\n",
      "Found after 0 iterations with residual = 2.7864595812891595e-07\n"
>>>>>>> 4fa99cba206faa5649ea6bedbfc61942d601a3ba
     ]
    }
   ],
   "source": [
    "sigma, V, U, hist, mvs = krylov_schur_svd(se2tc.T, **{'nr': 7})"
   ]
  },
  {
   "cell_type": "code",
<<<<<<< HEAD
   "execution_count": 19,
   "id": "d898f292",
   "metadata": {},
   "outputs": [
    {
     "data": {
      "text/plain": [
       "array([], dtype=int64)"
      ]
     },
     "execution_count": 19,
     "metadata": {},
     "output_type": "execute_result"
    }
   ],
   "source": [
    "mvs"
   ]
  },
  {
   "cell_type": "code",
   "execution_count": 11,
=======
   "execution_count": 21,
>>>>>>> 4fa99cba206faa5649ea6bedbfc61942d601a3ba
   "id": "2e2593da-3678-4a82-9b5c-b38c37dcdfd3",
   "metadata": {},
   "outputs": [
    {
     "data": {
      "text/plain": [
       "array([1342.76018066,  112.55619451,  112.55619432,  112.55619385,\n",
       "         22.37981929,   22.37981917,   22.37981915])"
      ]
     },
<<<<<<< HEAD
     "execution_count": 11,
=======
     "execution_count": 21,
>>>>>>> 4fa99cba206faa5649ea6bedbfc61942d601a3ba
     "metadata": {},
     "output_type": "execute_result"
    }
   ],
   "source": [
    "sigma"
   ]
  },
  {
   "cell_type": "code",
<<<<<<< HEAD
   "execution_count": 18,
   "id": "910d6bcd",
   "metadata": {},
   "outputs": [
    {
     "data": {
      "text/plain": [
       "array([4.52441095e-06])"
      ]
     },
     "execution_count": 18,
     "metadata": {},
     "output_type": "execute_result"
    }
   ],
   "source": [
    "hist"
   ]
  },
  {
   "cell_type": "code",
   "execution_count": 12,
=======
   "execution_count": 22,
>>>>>>> 4fa99cba206faa5649ea6bedbfc61942d601a3ba
   "id": "eb49610d-2ed3-4357-b6f0-0fbf0b4c55ce",
   "metadata": {},
   "outputs": [
    {
     "data": {
      "text/plain": [
<<<<<<< HEAD
       "[<matplotlib.lines.Line2D at 0x11d7dfa70>]"
      ]
     },
     "execution_count": 12,
=======
       "[<matplotlib.lines.Line2D at 0x110c0cb00>]"
      ]
     },
     "execution_count": 22,
>>>>>>> 4fa99cba206faa5649ea6bedbfc61942d601a3ba
     "metadata": {},
     "output_type": "execute_result"
    },
    {
     "data": {
      "image/png": "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",
      "text/plain": [
       "<Figure size 640x480 with 1 Axes>"
      ]
     },
     "metadata": {},
     "output_type": "display_data"
    }
   ],
   "source": [
    "plt.plot(sigma,marker = 'o')"
   ]
  },
  {
   "cell_type": "code",
   "execution_count": 13,
   "id": "b4d09007",
   "metadata": {},
   "outputs": [
    {
     "data": {
      "text/plain": [
       "[<matplotlib.lines.Line2D at 0x11ddb2750>]"
      ]
     },
     "execution_count": 13,
     "metadata": {},
     "output_type": "execute_result"
    },
    {
     "data": {
      "image/png": "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",
      "text/plain": [
       "<Figure size 640x480 with 1 Axes>"
      ]
     },
     "metadata": {},
     "output_type": "display_data"
    }
   ],
   "source": [
    "#Relative singular values\n",
    "rel_sigma = sigma/np.linalg.norm(sigma)\n",
    "plt.plot(rel_sigma,marker = 'o')"
   ]
  },
  {
   "cell_type": "markdown",
   "id": "00cd0061",
   "metadata": {},
   "source": [
    "# Comparing Results of RSVD and Krylov Schur"
   ]
  },
  {
   "cell_type": "code",
   "execution_count": null,
   "id": "721a0dd5",
   "metadata": {},
   "outputs": [
    {
     "data": {
      "image/png": "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",
      "text/plain": [
       "<Figure size 1000x400 with 2 Axes>"
      ]
     },
     "metadata": {},
     "output_type": "display_data"
    }
   ],
   "source": [
    "# Create a figure and two subplots\n",
    "fig, (ax1, ax2) = plt.subplots(1, 2, figsize=(10, 4))\n",
    "\n",
    "# Plot data on the first subplot\n",
    "ax1.plot(rel_s, label='RSVD', marker = 'o')\n",
    "ax1.set_title('RSVD')\n",
    "ax1.set_xlabel('Index')\n",
    "ax1.set_ylabel('Relative Singular Value')\n",
    "ax1.legend()\n",
    "\n",
    "# Plot data on the second subplot\n",
    "ax2.plot(rel_sigma, label='RSVD', marker = 'o')\n",
    "ax2.set_title('Krylov Schur')\n",
    "ax2.set_xlabel('Index')\n",
    "ax2.set_ylabel('Relative Singular Value')\n",
    "ax2.legend()\n",
    "\n",
    "# Adjust layout\n",
    "plt.tight_layout()\n",
    "\n",
    "# Show the plot\n",
    "plt.show()"
   ]
  },
  {
   "cell_type": "markdown",
   "id": "4048bc49",
   "metadata": {},
   "source": [
    "# Matrix MATLAB File Upload"
   ]
  },
  {
   "cell_type": "code",
   "execution_count": 14,
   "id": "a7b3d698-e56d-47e5-815e-3a5b696e96d3",
   "metadata": {},
   "outputs": [],
   "source": [
    "from scipy.io import savemat"
   ]
  },
  {
   "cell_type": "code",
   "execution_count": 15,
   "id": "d20bd577",
   "metadata": {},
   "outputs": [],
   "source": [
    "a = se2tc.T\n",
    "mdic = {\"a\": a, \"label\": \"experiment\"}"
   ]
  },
  {
   "cell_type": "code",
   "execution_count": 16,
   "id": "558f222a",
   "metadata": {},
   "outputs": [],
   "source": [
    "savemat(\"matlab_matrix.mat\", mdic)"
   ]
  },
  {
   "cell_type": "code",
   "execution_count": null,
   "id": "2b03f455",
   "metadata": {},
   "outputs": [],
   "source": []
  }
 ],
 "metadata": {
  "kernelspec": {
   "display_name": "Python 3 (ipykernel)",
   "language": "python",
   "name": "python3"
  },
  "language_info": {
   "codemirror_mode": {
    "name": "ipython",
    "version": 3
   },
   "file_extension": ".py",
   "mimetype": "text/x-python",
   "name": "python",
   "nbconvert_exporter": "python",
   "pygments_lexer": "ipython3",
   "version": "3.12.4"
  }
 },
 "nbformat": 4,
 "nbformat_minor": 5
}
