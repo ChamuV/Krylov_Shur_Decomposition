{
 "cells": [
  {
   "cell_type": "code",
   "execution_count": 1,
   "id": "4e6038c8-b051-400b-8cca-36388f14bfba",
   "metadata": {},
   "outputs": [],
   "source": [
    "%matplotlib inline\n",
    "import numpy as np\n",
    "import sys\n",
    "sys.path.append('./utils/')\n",
    "from sklearn.utils.extmath import *\n",
    "import adaptoctree.morton as morton\n",
    "import adaptoctree.tree as tree\n",
    "import fmm.surface as surface\n",
    "from scripts.precompute_operators import rsvd\n",
    "from fmm.kernel import laplace_gram_matrix_serial\n",
    "import matplotlib.pyplot as plt\n",
    "from functions_from_matlab import krylov_schur_svd"
   ]
  },
  {
   "cell_type": "code",
   "execution_count": 12,
   "id": "b31ac341-b931-4dd7-90b0-d511a612d781",
   "metadata": {},
   "outputs": [],
   "source": [
    "def compress_m2l_gram_matrix(\n",
    "        dense_gram_matrix, level, x0, r0, depth, alpha_inner, check_surface,\n",
    "        equivalent_surface, k, dtype\n",
    "    ):\n",
    "    \"\"\"\n",
    "    Compute compressed representation of unique Gram matrices for targets and\n",
    "    sources at a given level of the octree, specified by their unique transfer\n",
    "    vectors. Compression is computed using the randomised-SVD of Halko et. al.\n",
    "    (2011).\n",
    "\n",
    "    Parameters:\n",
    "    -----------\n",
    "    dense_gram_matrix: function\n",
    "        Gram matrix function handle.\n",
    "    level : int\n",
    "        Octree level at which M2L operators are being calculated.\n",
    "    x0 : np.array(shape=(1, 3), dtype=np.float64)\n",
    "        Center of octree root node.\n",
    "    r0 : np.float64\n",
    "\t    Half side length of octree root node.\n",
    "    alpha_inner : float\n",
    "        Relative size of inner surface.\n",
    "    check_surface : np.array(shape=(ncheck_points, 3), dtype=float)\n",
    "        Discretized check surface.\n",
    "    equivalent_surface : np.array(shape=(nequivalent_points, 3), dtype=float)\n",
    "        Discretized equivalent surface.\n",
    "    k : int\n",
    "        Target compression rank.\n",
    "\n",
    "    Returns:\n",
    "    --------\n",
    "    (\n",
    "        np.array(shape=(nu, k), float),\n",
    "        np.array(shape=(ns), dtype=float),\n",
    "        np.array(shape=(k, nvt), dtype=float),\n",
    "        np.array(shape=(316), dtype=int)\n",
    "    )\n",
    "        Tuple of SVD components of aggregated M2L matrix at this level, as well\n",
    "        as hashes of the transfer vectors to index the components by.\n",
    "    \"\"\"\n",
    "    sources, targets, hashes = tree.find_unique_v_list_interactions(\n",
    "        level=level, x0=x0, r0=r0, depth=depth\n",
    "    )\n",
    "\n",
    "    n_targets_per_node = len(check_surface)\n",
    "    n_sources_per_node = len(equivalent_surface)\n",
    "    n_sources = len(sources)\n",
    "\n",
    "    # Create a collated equivalent to check surface for sources/targets\n",
    "    # corresponding to unique transfer vectors at this level.\n",
    "    se2tc = np.zeros((n_targets_per_node, n_sources*n_sources_per_node), dtype)\n",
    "\n",
    "    for idx in range(len(targets)):\n",
    "\n",
    "        target = targets[idx]\n",
    "        source = sources[idx]\n",
    "\n",
    "        target_center = morton.find_physical_center_from_key(\n",
    "            key=target,\n",
    "            x0=x0,\n",
    "            r0=r0\n",
    "        )\n",
    "\n",
    "        source_center = morton.find_physical_center_from_key(\n",
    "            key=source,\n",
    "            x0=x0,\n",
    "            r0=r0\n",
    "        )\n",
    "\n",
    "        lidx_sources = idx*n_sources_per_node\n",
    "        ridx_sources = lidx_sources+n_sources_per_node\n",
    "\n",
    "        target_check_surface = surface.scale_surface(\n",
    "            surf=check_surface,\n",
    "            radius=r0,\n",
    "            level=level,\n",
    "            center=target_center,\n",
    "            alpha=alpha_inner\n",
    "        )\n",
    "\n",
    "        source_equivalent_surface = surface.scale_surface(\n",
    "            surf=equivalent_surface,\n",
    "            radius=r0,\n",
    "            level=level,\n",
    "            center=source_center,\n",
    "            alpha=alpha_inner\n",
    "        )\n",
    "\n",
    "        se2tc[:, lidx_sources:ridx_sources] =  dense_gram_matrix(\n",
    "                sources=source_equivalent_surface, targets=target_check_surface\n",
    "            )\n",
    "\n",
    "    return se2tc\n",
    "    # Run RSVD compression.\n",
    "    # u, s, vt = rsvd(se2tc, k)\n",
    "\n",
    "    # return u, s, vt, hashes"
   ]
  },
  {
   "cell_type": "code",
   "execution_count": 13,
   "id": "fdd03179-d070-4800-973a-eac8c2d45a9b",
   "metadata": {},
   "outputs": [],
   "source": [
    "order_equivalent = 2\n",
    "order_check = 4\n",
    "dtype = np.float32\n",
    "equivalent_surface = surface.compute_surface(order_equivalent, dtype)\n",
    "check_surface = surface.compute_surface(order_check, dtype)"
   ]
  },
  {
   "cell_type": "code",
   "execution_count": 14,
   "id": "d42e17f0-8643-43bc-a69f-d5075584bd3e",
   "metadata": {},
   "outputs": [
    {
     "data": {
      "text/plain": [
       "(8, 3)"
      ]
     },
     "execution_count": 14,
     "metadata": {},
     "output_type": "execute_result"
    }
   ],
   "source": [
    "equivalent_surface.shape"
   ]
  },
  {
   "cell_type": "code",
   "execution_count": 15,
   "id": "1b07f75a-2a92-4c84-817c-343baba399bc",
   "metadata": {},
   "outputs": [
    {
     "data": {
      "text/plain": [
       "(56, 3)"
      ]
     },
     "execution_count": 15,
     "metadata": {},
     "output_type": "execute_result"
    }
   ],
   "source": [
    "check_surface.shape"
   ]
  },
  {
   "cell_type": "code",
   "execution_count": 19,
   "id": "8e055c73-afa6-4c9c-bcce-d1f88ef8794f",
   "metadata": {},
   "outputs": [],
   "source": [
    "x0 = np.array([0., 0., 0.])\n",
    "r0 = 0.5\n",
    "alpha_inner = 1.05\n",
    "alpha_outer = 1.95\n",
    "k = 10\n",
    "level = 2\n",
    "depth = 3"
   ]
  },
  {
   "cell_type": "code",
   "execution_count": 20,
   "id": "b2d02dbd-e453-43d6-9852-90e6454ea364",
   "metadata": {
    "scrolled": true
   },
   "outputs": [],
   "source": [
    "se2tc = compress_m2l_gram_matrix(laplace_gram_matrix_serial, level, x0, r0, depth, alpha_inner, check_surface, equivalent_surface, k, dtype)"
   ]
  },
  {
   "cell_type": "code",
   "execution_count": 64,
   "id": "2d82581d-8c10-4ffb-9b72-d6c1c5f22068",
   "metadata": {},
   "outputs": [
    {
     "data": {
      "text/plain": [
       "(56, 2528)"
      ]
     },
     "execution_count": 64,
     "metadata": {},
     "output_type": "execute_result"
    }
   ],
   "source": [
    "se2tc.shape"
   ]
  },
  {
   "cell_type": "code",
   "execution_count": 65,
   "id": "905403a8-d61b-4e40-9b27-7677590953cb",
   "metadata": {},
   "outputs": [
    {
     "data": {
      "text/plain": [
       "488.0"
      ]
     },
     "execution_count": 65,
     "metadata": {},
     "output_type": "execute_result"
    }
   ],
   "source": [
    "154208/316"
   ]
  },
  {
   "cell_type": "markdown",
   "id": "0bcb1b86-3ab7-4b60-89d3-e5bed19af538",
   "metadata": {},
   "source": [
    "# 1) SVD"
   ]
  },
  {
   "cell_type": "code",
   "execution_count": 66,
   "id": "0fed34b1-e7f0-426e-af97-422a66ff94ed",
   "metadata": {},
   "outputs": [],
   "source": [
    "u, s, vt = np.linalg.svd(se2tc.T)"
   ]
  },
  {
   "cell_type": "code",
   "execution_count": 67,
   "id": "1f92d196-f1d8-4db0-b103-14fa969c1c81",
   "metadata": {},
   "outputs": [
    {
     "data": {
      "text/plain": [
       "[<matplotlib.lines.Line2D at 0x11e411280>]"
      ]
     },
     "execution_count": 67,
     "metadata": {},
     "output_type": "execute_result"
    },
    {
     "data": {
      "image/png": "[encoded data removed]",
      "text/plain": [
       "<Figure size 640x480 with 1 Axes>"
      ]
     },
     "metadata": {},
     "output_type": "display_data"
    }
   ],
   "source": [
    "plt.plot(s)"
   ]
  },
  {
   "cell_type": "code",
   "execution_count": 68,
   "id": "a712d52a-1794-4053-8d84-24143866f62c",
   "metadata": {},
   "outputs": [
    {
     "data": {
      "text/plain": [
       "array([ 37.7390,  3.4585,  3.4585,  3.4585,  0.8210,  0.8210,  0.8210,\n",
       "        0.5104,  0.5104,  0.2970,  0.1751,  0.1751,  0.1751,  0.1565,\n",
       "        0.1565,  0.1565,  0.0730,  0.0730,  0.0730,  0.0484,  0.0484,\n",
       "        0.0484,  0.0459,  0.0272,  0.0272,  0.0265,  0.0265,  0.0160,\n",
       "        0.0160,  0.0160,  0.0100,  0.0100,  0.0100,  0.0097,  0.0097,\n",
       "        0.0097,  0.0085,  0.0085,  0.0085,  0.0066,  0.0041,  0.0041,\n",
       "        0.0041,  0.0028,  0.0028,  0.0028,  0.0020,  0.0012,  0.0012,\n",
       "        0.0006,  0.0006,  0.0006,  0.0002,  0.0002,  0.0002,  0.0001],\n",
       "      dtype=float32)"
      ]
     },
     "execution_count": 68,
     "metadata": {},
     "output_type": "execute_result"
    }
   ],
   "source": [
    "s"
   ]
  },
  {
   "cell_type": "markdown",
   "id": "ce32e8a5-7e9f-4e64-a512-313f53d8d00c",
   "metadata": {},
   "source": [
    "# 2) Randomized SVD"
   ]
  },
  {
   "cell_type": "code",
   "execution_count": 21,
   "id": "df27af0b-7ad7-4059-b816-530b2bf353bb",
   "metadata": {},
   "outputs": [],
   "source": [
    "u, s, vt = rsvd(se2tc.T, n_components = 7)"
   ]
  },
  {
   "cell_type": "code",
   "execution_count": 88,
   "id": "7375277f-2a4c-4745-b14f-b1ca87eada06",
   "metadata": {},
   "outputs": [
    {
     "data": {
      "text/plain": [
       "array([ 37.7390,  3.4585,  3.4585,  3.4585,  0.8210,  0.8210,  0.8210],\n",
       "      dtype=float32)"
      ]
     },
     "execution_count": 88,
     "metadata": {},
     "output_type": "execute_result"
    }
   ],
   "source": [
    "s"
   ]
  },
  {
   "cell_type": "code",
   "execution_count": 22,
   "id": "bca4983e-b008-4b04-945e-0bf4ec876735",
   "metadata": {},
   "outputs": [
    {
     "data": {
      "text/plain": [
       "[<matplotlib.lines.Line2D at 0x112fea210>]"
      ]
     },
     "execution_count": 22,
     "metadata": {},
     "output_type": "execute_result"
    },
    {
     "data": {
      "image/png": "[encoded data removed]",
      "text/plain": [
       "<Figure size 640x480 with 1 Axes>"
      ]
     },
     "metadata": {},
     "output_type": "display_data"
    }
   ],
   "source": [
    "plt.plot(s)"
   ]
  },
  {
   "cell_type": "markdown",
   "id": "f5819443-370e-4632-9d01-460e7718c4ae",
   "metadata": {},
   "source": [
    "# 3) Krylov Schur"
   ]
  },
  {
   "cell_type": "code",
   "execution_count": 71,
   "id": "34492406-5040-448f-b4a9-1002dd8b961b",
   "metadata": {},
   "outputs": [
    {
     "data": {
      "text/plain": [
       "array([[ 0.1299,  0.1219,  0.1352, ...,  0.1288,  0.1454,  0.1649],\n",
       "       [ 0.1423,  0.1411,  0.1630, ...,  0.1868,  0.2088,  0.2255],\n",
       "       [ 0.0947,  0.0914,  0.1001, ...,  0.1049,  0.1133,  0.1219],\n",
       "       ...,\n",
       "       [ 0.0492,  0.0504,  0.0522, ...,  0.0589,  0.0575,  0.0559],\n",
       "       [ 0.0492,  0.0509,  0.0522, ...,  0.0589,  0.0568,  0.0547],\n",
       "       [ 0.0492,  0.0509,  0.0528, ...,  0.0613,  0.0589,  0.0565]],\n",
       "      dtype=float32)"
      ]
     },
     "execution_count": 71,
     "metadata": {},
     "output_type": "execute_result"
    }
   ],
   "source": [
    "se2tc.T"
   ]
  },
  {
   "cell_type": "code",
   "execution_count": 84,
   "id": "51f93907-8d68-432c-878a-dc7232cc110a",
   "metadata": {},
   "outputs": [
    {
     "name": "stdout",
     "output_type": "stream",
     "text": [
      "[ 0.8045  0.9650  0.6352 ...  0.3822  0.3821  0.3820]\n",
      "[ 0.4307  0.5211  0.3336 ...  0.1927  0.1930  0.1931]\n",
      "[ 0.0399  0.0217  0.0021 ... -0.0308 -0.0298 -0.0300]\n",
      "[-0.0117 -0.0362 -0.0059 ... -0.0022 -0.0028 -0.0030]\n",
      "[-0.0084 -0.0026 -0.0002 ...  0.0001 -0.0008 -0.0004]\n",
      "[ 0.0038  0.0102  0.0036 ...  0.0005  0.0000  0.0002]\n",
      "[ 0.0078  0.0079  0.0028 ...  0.0003 -0.0002 -0.0003]\n",
      "[ 0.0143 -0.0537  0.0069 ...  0.0010 -0.0036 -0.0073]\n",
      "[-0.0018 -0.0044 -0.0002 ... -0.0000 -0.0001 -0.0002]\n",
      "[ 0.0019  0.0012  0.0008 ... -0.0001 -0.0001 -0.0001]\n",
      "Found after 0 iterations with residual = 0.00e+00\n"
     ]
    }
   ],
   "source": [
    "sigma, V, U, hist, mvs = krylov_schur_svd(se2tc.T)"
   ]
  },
  {
   "cell_type": "code",
   "execution_count": 85,
   "id": "2e2593da-3678-4a82-9b5c-b38c37dcdfd3",
   "metadata": {},
   "outputs": [
    {
     "data": {
      "text/plain": [
       "array([ 37.7390])"
      ]
     },
     "execution_count": 85,
     "metadata": {},
     "output_type": "execute_result"
    }
   ],
   "source": [
    "sigma"
   ]
  },
  {
   "cell_type": "code",
   "execution_count": 87,
   "id": "eb49610d-2ed3-4357-b6f0-0fbf0b4c55ce",
   "metadata": {},
   "outputs": [
    {
     "data": {
      "text/plain": [
       "[<matplotlib.lines.Line2D at 0x114bb7ce0>]"
      ]
     },
     "execution_count": 87,
     "metadata": {},
     "output_type": "execute_result"
    },
    {
     "data": {
      "image/png": "[encoded data removed]",
      "text/plain": [
       "<Figure size 640x480 with 1 Axes>"
      ]
     },
     "metadata": {},
     "output_type": "display_data"
    }
   ],
   "source": [
    "plt.plot(s)"
   ]
  },
  {
   "cell_type": "code",
   "execution_count": null,
   "id": "a7b3d698-e56d-47e5-815e-3a5b696e96d3",
   "metadata": {},
   "outputs": [],
   "source": []
  }
 ],
 "metadata": {
  "kernelspec": {
   "display_name": "Python 3 (ipykernel)",
   "language": "python",
   "name": "python3"
  },
  "language_info": {
   "codemirror_mode": {
    "name": "ipython",
    "version": 3
   },
   "file_extension": ".py",
   "mimetype": "text/x-python",
   "name": "python",
   "nbconvert_exporter": "python",
   "pygments_lexer": "ipython3",
   "version": "3.12.4"
  }
 },
 "nbformat": 4,
 "nbformat_minor": 5
}
