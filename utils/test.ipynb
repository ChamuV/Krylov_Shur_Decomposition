{
 "cells": [
  {
   "cell_type": "code",
   "execution_count": 1,
   "metadata": {},
   "outputs": [],
   "source": [
    "import numpy as np\n",
    "from functions_from_matlab import krylov_ata"
   ]
  },
  {
   "cell_type": "code",
   "execution_count": 2,
   "metadata": {},
   "outputs": [
    {
     "name": "stdout",
     "output_type": "stream",
     "text": [
      "[[ 1  2  3  4]\n",
      " [ 3  5  2  8]\n",
      " [ 5  3 45  6]\n",
      " [ 2  1  6  3]]\n",
      "[ 5.3116  9.8150  22.4012  5.1962]\n",
      "[ 1.2869 -1.2416  39.8975  4.6565]\n",
      "[-0.2627 -2.0142  1.1686 -0.9649]\n",
      "[-0.2483  0.2610  0.0886 -0.6213]\n"
     ]
    }
   ],
   "source": [
    "A = np.array([[1,2,3,4],[3,5,2,8],[5,3,45,6],[2,1,6,3]])\n",
    "print(A)\n",
    "v1 = np.array([1, 4, 3, 7])\n",
    "V,U,alpha,beta = krylov_ata(A,v1, k = 4)"
   ]
  },
  {
   "cell_type": "code",
   "execution_count": 3,
   "metadata": {},
   "outputs": [
    {
     "data": {
      "text/plain": [
       "array([[ 0.2078, -0.3316,  0.6418, -0.6595],\n",
       "       [ 0.3840, -0.8085, -0.0940,  0.4360],\n",
       "       [ 0.8764,  0.4655,  0.0649,  0.1052],\n",
       "       [ 0.2033, -0.1407, -0.7583, -0.6032]])"
      ]
     },
     "execution_count": 3,
     "metadata": {},
     "output_type": "execute_result"
    }
   ],
   "source": [
    "U"
   ]
  },
  {
   "cell_type": "code",
   "execution_count": 4,
   "metadata": {},
   "outputs": [
    {
     "data": {
      "text/plain": [
       "array([ 35.7029,  2.3952,  0.2930,  0.0000])"
      ]
     },
     "execution_count": 4,
     "metadata": {},
     "output_type": "execute_result"
    }
   ],
   "source": [
    "beta"
   ]
  }
 ],
 "metadata": {
  "kernelspec": {
   "display_name": "general",
   "language": "python",
   "name": "python3"
  },
  "language_info": {
   "codemirror_mode": {
    "name": "ipython",
    "version": 3
   },
   "file_extension": ".py",
   "mimetype": "text/x-python",
   "name": "python",
   "nbconvert_exporter": "python",
   "pygments_lexer": "ipython3",
   "version": "3.10.4"
  }
 },
 "nbformat": 4,
 "nbformat_minor": 2
}
