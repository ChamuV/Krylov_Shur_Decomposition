{
 "cells": [
  {
   "cell_type": "code",
   "execution_count": 1,
   "id": "f135139f-4010-4f46-83dd-b3367fd3f3cb",
   "metadata": {},
   "outputs": [],
   "source": [
    "import numpy as np\n",
    "import scipy.linalg as sln\n",
    "import matplotlib.pyplot as plt\n",
    "import warnings\n",
    "np.set_printoptions(formatter={'float': '{: 0.4f}'.format})"
   ]
  },
  {
   "cell_type": "markdown",
   "id": "bfa71706-9b71-46b4-94d2-c55e4222513d",
   "metadata": {},
   "source": [
    "Points\n",
    "<br># -> Doc(Main)\n",
    "<br>## -> My Notes\n",
    "<br>### -> Missing, Corrections to do"
   ]
  },
  {
   "cell_type": "code",
   "execution_count": 2,
   "id": "1f0bd4df-648e-4ac0-816e-714bdb26b722",
   "metadata": {},
   "outputs": [],
   "source": [
    "def mv(A, v, transp_flag):\n",
    "    if transp_flag == 0:\n",
    "        return A @ v\n",
    "    else:\n",
    "        return A.T @ v"
   ]
  },
  {
   "cell_type": "code",
   "execution_count": 3,
   "id": "f562c0e4-d71a-4cb4-81c9-b53c477cdd3a",
   "metadata": {},
   "outputs": [],
   "source": [
    "def unv(j, n):\n",
    "    e = np.zeros(n)\n",
    "    e[j] = 1\n",
    "    return e"
   ]
  },
  {
   "cell_type": "code",
   "execution_count": 4,
   "id": "b36ec8d5",
   "metadata": {},
   "outputs": [],
   "source": [
    "def element(A, i=None, j=None):\n",
    "    # Handling default arguments\n",
    "    if i is None:\n",
    "        i = slice(None)  # Selecting all rows\n",
    "    if j is None:\n",
    "        j = slice(None)  # Selecting all columns\n",
    "\n",
    "    if isinstance(A, np.ndarray):  # Matrix\n",
    "        if min(A.shape) > 1:  # Check if A is not a vector\n",
    "            if isinstance(i, list) and isinstance(j, list):\n",
    "                e = A[np.ix_(i, j)]\n",
    "            else:\n",
    "                e = A[i, j]\n",
    "        else:\n",
    "            e = A[i] if isinstance(i, list) else A[i]\n",
    "    \n",
    "    return e"
   ]
  },
  {
   "cell_type": "code",
   "execution_count": 5,
   "id": "90ffb30e",
   "metadata": {},
   "outputs": [],
   "source": [
    "def krylov_ata(A, v1=None, k=10, full=1, reortho=2):\n",
    "    if v1 is None:\n",
    "        v1 = np.random.randn(A.shape[1])\n",
    "\n",
    "    k = min(k, min(A.shape))\n",
    "\n",
    "    alpha = np.zeros(k)\n",
    "    beta = np.zeros(k if full else k-1)\n",
    "\n",
    "    len_v1 = len(v1)\n",
    "    if reortho:\n",
    "        V = np.zeros((len_v1, k + 1))\n",
    "        V[:, 0] = v1 / np.linalg.norm(v1)\n",
    "        #U = np.zeros((A.shape[0], k))\n",
    "    else:\n",
    "        v = v1 / np.linalg.norm(v1)\n",
    "\n",
    "    for j in range(k):\n",
    "        if reortho:\n",
    "            r = A @ V[:, j]\n",
    "            if j == 0 and reortho == 2:\n",
    "                U = np.zeros((len(r), k))\n",
    "        else:\n",
    "            r = A @ v\n",
    "\n",
    "        if j > 0:\n",
    "            if reortho == 2:\n",
    "                r -= beta[j-1] * U[:, j-1]\n",
    "                r -= U[:, :j] @ (U[:, :j].T @ r)\n",
    "            else:\n",
    "                r -= beta[j-1] * u\n",
    "        alpha[j] = np.linalg.norm(r)\n",
    "        if alpha[j] == 0:\n",
    "            break\n",
    "\n",
    "        if reortho == 2:\n",
    "            U[:, j] = r / alpha[j]\n",
    "            r = A.T @ U[:, j]\n",
    "        else:\n",
    "            u = r / alpha[j]\n",
    "            r = A.T @ u\n",
    "\n",
    "        if reortho:\n",
    "            r -= alpha[j] * V[:, j]\n",
    "            r -= V[:, :j+1] @ (V[:, :j+1].T @ r)\n",
    "        else:\n",
    "            r -= alpha[j] * v\n",
    "\n",
    "        if j < k - 1 or full:\n",
    "            beta[j] = np.linalg.norm(r)\n",
    "            if beta[j] == 0:\n",
    "                break\n",
    "\n",
    "            if reortho:\n",
    "                V[:, j+1] = r / beta[j]\n",
    "            else:\n",
    "                v = r / beta[j]\n",
    "\n",
    "    if not reortho:\n",
    "        V = v\n",
    "    if reortho < 2:\n",
    "        U = u\n",
    "    \n",
    "    return V, U, alpha, beta"
   ]
  },
  {
   "cell_type": "code",
   "execution_count": 35,
   "id": "4062d5d6",
   "metadata": {},
   "outputs": [],
   "source": [
    "def krylov_ata_expand(A, V, U, c, k=10):\n",
    "    m = V.shape[1]\n",
    "    V = np.concatenate((V, np.zeros((V.shape[0], k))), axis=1)\n",
    "    U = np.concatenate((U, np.zeros((U.shape[0], k))), axis=1)\n",
    "    alpha = np.zeros(k)\n",
    "    beta = np.zeros(k)\n",
    "    \n",
    "\n",
    "    for j in range(m, k + m):\n",
    "        if j == m:\n",
    "            r = A @ V[:, j - 1] - (U[:, :j - 1] @ c.T)\n",
    "        else:\n",
    "            r = A @ V[:, j - 1] - beta[j - m - 1] * U[:, j - 2]\n",
    "\n",
    "        r -= - U[:, :j - 1] @ (U[:, :j - 1].T @ r)\n",
    "        alpha[j - m] = np.linalg.norm(r)\n",
    "        if alpha[j - m] == 0:\n",
    "            break\n",
    "        U[:, j - 1] = r / alpha[j - m]\n",
    "        r = A.T @ U[:, j - 1] - alpha[j - m] * V[:, j - 1]\n",
    "        r -= V[:, :j] @ (V[:, :j].T @ r)\n",
    "        beta[j - m] = np.linalg.norm(r)\n",
    "        if beta[j - m] == 0:\n",
    "            break\n",
    "        V[:, j] = r / beta[j - m]\n",
    "\n",
    "    return V, U, alpha, beta"
   ]
  },
  {
   "cell_type": "code",
   "execution_count": 36,
   "id": "72ad252d",
   "metadata": {},
   "outputs": [],
   "source": [
    "def krylov_schur_svd(A, v1 = None, nr = 1, tol = 1e-6, absrel = 'rel', mindim = 10, maxdim = 20, maxit = 1000, target = np.inf, info = 1):\n",
    "    if v1 is None:\n",
    "        v1 = np.random.rand(A.shape[1])\n",
    "    if mindim < nr:\n",
    "        mindim = nr\n",
    "    if maxdim < 2 * mindim:\n",
    "        maxdim = 2 * mindim\n",
    "    if absrel == 'rel':\n",
    "        tol *= np.linalg.norm(A, 1)\n",
    "\n",
    "    B = np.zeros((maxdim, maxdim + 1))\n",
    "    print(1)\n",
    "    # Slow Here\n",
    "    V, U, alpha, beta = krylov_ata(A, v1, mindim)\n",
    "    print(2)\n",
    "    # Bidiagonal Form for the first mindim rows and cols\n",
    "    B[:mindim + 1, :mindim + 1] = np.diag(np.append(alpha, [0])) + np.diag(beta, 1)\n",
    "    hist = np.zeros(maxit, dtype=np.float64)    \n",
    "    np.set_printoptions(precision=12) \n",
    "    # Modified MATLAB code ordering\n",
    "    print(3)\n",
    "    # Slow Here\n",
    "    v, u, a, b = krylov_ata_expand(A, V, U, B[:mindim, mindim], maxdim - mindim)\n",
    "    print(4)\n",
    "    for k in range(maxit):\n",
    "        V, U, alpha, beta = v.copy(), u.copy(), a.copy(), b.copy()\n",
    "        print(5)\n",
    "        B[mindim: maxdim, mindim: maxdim] = np.diag(alpha) + np.diag(beta[:maxdim - mindim - 1], 1)        \n",
    "        B[maxdim - 1, maxdim] = beta[maxdim - mindim - 1]\n",
    "        X, sigma, Y = np.linalg.svd(B[:maxdim, :maxdim])\n",
    "        # Restart of Lanczos algorithm\n",
    "        V = np.concatenate((element(V[:, :maxdim] @ Y, list(range(V.shape[0])), list(range(mindim))), V[:, maxdim:maxdim + 1]), axis=1)\n",
    "        U = element(U[:, :maxdim] @ X, list(range(U.shape[0])), list(range(mindim)))    \n",
    "        c = B[:, maxdim]\n",
    "        e = (c @ X)[:mindim]\n",
    "        B[:mindim, :mindim + 1] = np.concatenate((np.diag(sigma[:mindim]), e.reshape(-1, 1)), axis=1)\n",
    "        err = np.linalg.norm(e[:nr])\n",
    "        hist[k] = err\n",
    "        \n",
    "        if info:\n",
    "            print(str(k) + \": \" + str(hist[k]))\n",
    "        if err < tol:\n",
    "            sigma = sigma[:nr]\n",
    "            V = V[:, :nr]\n",
    "            U = U[:, :nr]\n",
    "            mvs = np.arange(1, k + 1) * (maxdim - mindim) + mindim\n",
    "            print(f\"Found after {k + 1} iteration(s) with residual = {err}\")\n",
    "            return sigma, V, U, hist[:k+1], mvs\n",
    "    \n",
    "    mvs = 2 * (np.arange(1, k + 1) * (maxdim - mindim) + mindim)\n",
    "    if info:\n",
    "        print(f\"Quit after max {k + 1} iterations with residual = {err}\")\n",
    "    sigma = sigma[:mindim]\n",
    "    V = V[:, :mindim]\n",
    "    return sigma, V, U, hist, mvs"
   ]
  },
  {
   "cell_type": "markdown",
   "id": "84335914-76b8-475c-a2da-3071e4588f17",
   "metadata": {},
   "source": [
    "Tests"
   ]
  },
  {
   "cell_type": "code",
   "execution_count": 37,
   "id": "f5961111",
   "metadata": {},
   "outputs": [
    {
     "data": {
      "text/plain": [
       "array([[0.969729606461, 0.099939488277, 0.475138725312, ...,\n",
       "        0.089164066974, 0.910050030327, 0.183075573985],\n",
       "       [0.336677168703, 0.156113881088, 0.243100479574, ...,\n",
       "        0.79709447475 , 0.603196941122, 0.451571149457],\n",
       "       [0.553933640368, 0.472197650532, 0.670329690889, ...,\n",
       "        0.900826068948, 0.470876634193, 0.901086688383],\n",
       "       ...,\n",
       "       [0.660223023543, 0.705177430802, 0.51441085113 , ...,\n",
       "        0.708047296392, 0.568332350147, 0.626892671076],\n",
       "       [0.724034421146, 0.112353874989, 0.619100114312, ...,\n",
       "        0.972962570302, 0.9444677461  , 0.625275023164],\n",
       "       [0.966934969849, 0.351894516185, 0.612715041593, ...,\n",
       "        0.485370222748, 0.412303126184, 0.387705513893]])"
      ]
     },
     "execution_count": 37,
     "metadata": {},
     "output_type": "execute_result"
    }
   ],
   "source": [
    "A = np.random.rand(200,100)\n",
    "A"
   ]
  },
  {
   "cell_type": "code",
   "execution_count": 38,
   "id": "3b95bfee",
   "metadata": {},
   "outputs": [
    {
     "name": "stdout",
     "output_type": "stream",
     "text": [
      "1\n",
      "2\n",
      "3\n",
      "4\n",
      "5\n",
      "0: 0.017681027645471564\n",
      "5\n",
      "1: 0.0010374076813990248\n",
      "5\n",
      "2: 3.8828556628942295e-05\n",
      "5\n",
      "3: 1.2793498951597756e-06\n",
      "5\n",
      "4: 4.107483488449618e-08\n",
      "5\n",
      "5: 1.282132414399532e-09\n",
      "5\n",
      "6: 3.980081140864027e-11\n",
      "Quit after max 7 iterations with residual = 3.980081140864027e-11\n"
     ]
    }
   ],
   "source": [
    "sigma, V, U, hist, mvs = krylov_schur_svd(A, info=2,tol=1e-200,maxit= 7,nr= 3)"
   ]
  },
  {
   "cell_type": "code",
   "execution_count": 40,
   "id": "e2d4dc5e",
   "metadata": {},
   "outputs": [
    {
     "data": {
      "text/plain": [
       "array([1.768102764547e-02, 1.037407681399e-03, 3.882855662894e-05,\n",
       "       1.279349895160e-06, 4.107483488450e-08, 1.282132414400e-09,\n",
       "       3.980081140864e-11])"
      ]
     },
     "execution_count": 40,
     "metadata": {},
     "output_type": "execute_result"
    }
   ],
   "source": [
    "hist"
   ]
  },
  {
   "cell_type": "code",
   "execution_count": 41,
   "id": "747fbeb5",
   "metadata": {},
   "outputs": [
    {
     "data": {
      "text/plain": [
       "array([ 40,  60,  80, 100, 120, 140])"
      ]
     },
     "execution_count": 41,
     "metadata": {},
     "output_type": "execute_result"
    }
   ],
   "source": [
    "mvs"
   ]
  },
  {
   "cell_type": "code",
   "execution_count": null,
   "id": "9a2719e5",
   "metadata": {},
   "outputs": [],
   "source": []
  }
 ],
 "metadata": {
  "kernelspec": {
   "display_name": "Python 3 (ipykernel)",
   "language": "python",
   "name": "python3"
  },
  "language_info": {
   "codemirror_mode": {
    "name": "ipython",
    "version": 3
   },
   "file_extension": ".py",
   "mimetype": "text/x-python",
   "name": "python",
   "nbconvert_exporter": "python",
   "pygments_lexer": "ipython3",
   "version": "3.12.4"
  }
 },
 "nbformat": 4,
 "nbformat_minor": 5
}
