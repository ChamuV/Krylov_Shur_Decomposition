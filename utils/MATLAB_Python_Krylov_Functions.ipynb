{
 "cells": [
  {
   "cell_type": "code",
   "execution_count": 230,
   "id": "f135139f-4010-4f46-83dd-b3367fd3f3cb",
   "metadata": {},
   "outputs": [],
   "source": [
    "import numpy as np\n",
    "import scipy.linalg as sln\n",
    "import matplotlib.pyplot as plt\n",
    "import warnings\n",
    "np.set_printoptions(formatter={'float': '{: 0.4f}'.format})"
   ]
  },
  {
   "cell_type": "markdown",
   "id": "bfa71706-9b71-46b4-94d2-c55e4222513d",
   "metadata": {},
   "source": [
    "Points\n",
    "<br># -> Doc(Main)\n",
    "<br>## -> My Notes\n",
    "<br>### -> Missing, Corrections to do"
   ]
  },
  {
   "cell_type": "code",
   "execution_count": 231,
   "id": "1f0bd4df-648e-4ac0-816e-714bdb26b722",
   "metadata": {},
   "outputs": [],
   "source": [
    "def mv(A, v, transp_flag):\n",
    "    if transp_flag == 0:\n",
    "        return A @ v\n",
    "    else:\n",
    "        return A.T @ v"
   ]
  },
  {
   "cell_type": "code",
   "execution_count": 232,
   "id": "f562c0e4-d71a-4cb4-81c9-b53c477cdd3a",
   "metadata": {},
   "outputs": [],
   "source": [
    "def unv(j, n):\n",
    "    e = np.zeros(n)\n",
    "    e[j] = 1\n",
    "    return e"
   ]
  },
  {
   "cell_type": "code",
   "execution_count": 233,
   "id": "8f33ff24-44a9-4337-8222-346b1f32a113",
   "metadata": {},
   "outputs": [],
   "source": [
    "###Get rid of function aspect\n",
    "def element(A, i=None, j=None, n=None):\n",
    "    # Handling default arguments\n",
    "    if i is None:\n",
    "        i = slice(None)  # Selecting all rows\n",
    "    if j is None:\n",
    "        j = slice(None)  # Selecting all columns\n",
    "\n",
    "    if isinstance(A, np.ndarray):  # Matrix\n",
    "        if min(A.shape) > 1:  # Check if A is not a vector\n",
    "            if isinstance(i, list) and isinstance(j, list):\n",
    "                e = A[np.ix_(i, j)]\n",
    "            else:\n",
    "                e = A[i, j]\n",
    "        else:\n",
    "            e = A[i] if isinstance(i, list) else A[i]\n",
    "    else:  # Function\n",
    "        if j is None:\n",
    "            raise ValueError(\"j has to be nonempty when A is a function\")\n",
    "        e = mv(A, unv(j, n), 0)\n",
    "        if i is not None:\n",
    "            e = e[i]\n",
    "\n",
    "    return e"
   ]
  },
  {
   "cell_type": "code",
   "execution_count": 234,
   "id": "418bdf4f-196b-4920-a3d5-4c2f8dfd6897",
   "metadata": {},
   "outputs": [],
   "source": [
    "def krylov_ata(A, v1=None, k=10, full=1, reortho=2):\n",
    "    if v1 is None:\n",
    "        v1 = np.random.randn(A.shape[1])\n",
    "\n",
    "    if not np.issubdtype(A.dtype, np.number):\n",
    "        raise ValueError(\"Matrix A should be numeric\")\n",
    "\n",
    "    if (k > min(A.shape)):\n",
    "        k = min(A.shape)\n",
    "\n",
    "    alpha = np.zeros(k)\n",
    "    beta = np.zeros(k if full else k-1)\n",
    "\n",
    "    if reortho:\n",
    "        V = np.zeros((len(v1), k + 1))\n",
    "        V[:, 0] = v1 / np.linalg.norm(v1)\n",
    "        U = np.zeros((A.shape[0], k))\n",
    "    else:\n",
    "        v = v1 / np.linalg.norm(v1)\n",
    "\n",
    "    for j in range(k):\n",
    "        if reortho:\n",
    "            r = mv(A, V[:, j], 0)\n",
    "            if j == 0 and reortho == 2:\n",
    "                U = np.zeros((len(r), k))\n",
    "        else:\n",
    "            r = mv(A, v, 0)\n",
    "\n",
    "        if j > 0:\n",
    "            if reortho == 2:\n",
    "                r -= beta[j-1] * U[:, j-1]\n",
    "                r -= U[:, :j] @ (U[:, :j].T @ r)\n",
    "            else:\n",
    "                r -= beta[j-1] * u\n",
    "        alpha[j] = np.linalg.norm(r)\n",
    "        if alpha[j] == 0:\n",
    "            break\n",
    "\n",
    "        if reortho == 2:\n",
    "            U[:, j] = r / alpha[j]\n",
    "            r = mv(A, U[:, j], 1)\n",
    "        else:\n",
    "            u = r / alpha[j]\n",
    "            r = mv(A, u, 1)\n",
    "\n",
    "        if reortho:\n",
    "            r -= alpha[j] * V[:, j]\n",
    "            r -= V[:, :j+1] @ (V[:, :j+1].T @ r)\n",
    "        else:\n",
    "            r -= alpha[j] * v\n",
    "\n",
    "        if j < k - 1 or full:\n",
    "            beta[j] = np.linalg.norm(r)\n",
    "            if beta[j] == 0:\n",
    "                break\n",
    "\n",
    "            if reortho:\n",
    "                V[:, j+1] = r / beta[j]\n",
    "            else:\n",
    "                v = r / beta[j]\n",
    "\n",
    "    if not reortho:\n",
    "        V = v\n",
    "    if reortho < 2:\n",
    "        U = u\n",
    "\n",
    "    \n",
    "    return V, U, alpha, beta"
   ]
  },
  {
   "cell_type": "markdown",
   "id": "7f145422-6ebc-423a-88bf-fd55b625e9b4",
   "metadata": {},
   "source": [
    "def krylov_ata_expand(A, V, U, c, k=10):\n",
    "    m = V.shape[1]\n",
    "    V = np.concatenate((V, np.zeros((V.shape[0], k))), axis=1)\n",
    "    U = np.concatenate((U, np.zeros((U.shape[0], k))), axis=1)\n",
    "    alpha = np.zeros(k)\n",
    "    beta = np.zeros(k)\n",
    "\n",
    "    for j in range(m - 1, k + m - 1):\n",
    "        if j == m - 1:\n",
    "            r = mv(A, V[:, j], 0) - U[:, : j - 1] @ c[: j - 1]\n",
    "            #r = mv(A, V[:, j], 0) - np.dot(U[:, : j - 1], c)\n",
    "        else:\n",
    "            r = mv(A, V[:, j], 0) - beta[j - m] * U[:, j - 1]\n",
    "\n",
    "        r = r - U[:, : j - 1] @ (U[:, : j - 1].T @ r)\n",
    "        alpha[j - m + 1] = np.linalg.norm(r)\n",
    "        if alpha[j - m] == 0:\n",
    "            break\n",
    "        U[:, j] = r / alpha[j - m + 1]\n",
    "        r = mv(A, U[:, j], 1) - alpha[j - m + 1] * V[:, j]\n",
    "        r = r - V[:, :j] @ (V[:, :j].T @ r)\n",
    "        beta[j - m + 1] = np.linalg.norm(r)\n",
    "        if beta[j - m + 1] == 0:\n",
    "            break\n",
    "        V[:, j + 1] = r / beta[j - m + 1]\n",
    "\n",
    "    return V, U, alpha, beta"
   ]
  },
  {
   "cell_type": "code",
   "execution_count": 235,
   "id": "4062d5d6",
   "metadata": {},
   "outputs": [],
   "source": [
    "def krylov_ata_expand(A, V, U, c, k=10):\n",
    "    m = V.shape[1]\n",
    "    V = np.concatenate((V, np.zeros((V.shape[0], k))), axis=1)\n",
    "    U = np.concatenate((U, np.zeros((U.shape[0], k))), axis=1)\n",
    "    alpha = np.zeros(k)\n",
    "    beta = np.zeros(k)\n",
    "    \n",
    "    for j in range(m, k + m):\n",
    "        if j == m:\n",
    "            r = mv(A, V[:, j - 1], 0) - (U[:, :j - 1] @ c.T)\n",
    "        else:\n",
    "            r = mv(A, V[:, j - 1], 0) - beta[j - m - 1] * U[:, j - 2]\n",
    "\n",
    "        r = r - U[:, :j - 1] @ (U[:, :j - 1].T @ r)\n",
    "        alpha[j - m] = np.linalg.norm(r)\n",
    "        if alpha[j - m] == 0:\n",
    "            break\n",
    "        U[:, j - 1] = r / alpha[j - m]\n",
    "        r = mv(A, U[:, j - 1], 1) - alpha[j - m] * V[:, j - 1]\n",
    "        r = r - V[:, :j] @ (V[:, :j].T @ r)\n",
    "        beta[j - m] = np.linalg.norm(r)\n",
    "        if beta[j - m] == 0:\n",
    "            break\n",
    "        V[:, j] = r / beta[j - m]\n",
    "\n",
    "    return V, U, alpha, beta"
   ]
  },
  {
   "cell_type": "code",
   "execution_count": 256,
   "id": "fa1ed6b0-77a0-474d-ad65-72317b936d84",
   "metadata": {},
   "outputs": [],
   "source": [
    "def krylov_schur_svd(A, **kwargs):\n",
    "    nr = kwargs.get('nr', 1)\n",
    "    v1 = kwargs.get('v1', None)\n",
    "    tol = kwargs.get('tol', 1e-6)\n",
    "    absrel = kwargs.get('absrel', 'rel')\n",
    "    mindim = kwargs.get('mindim', 10)\n",
    "    maxdim = kwargs.get('maxdim', 20)\n",
    "    maxit = kwargs.get('maxit', 1000)\n",
    "    target = kwargs.get('target', np.inf)\n",
    "    info = kwargs.get('info',1)\n",
    "\n",
    "    if v1 is None:\n",
    "        v1 = np.random.rand(A.shape[1])\n",
    "    \n",
    "    if mindim < nr:\n",
    "        mindim = nr\n",
    "    if maxdim < 2 * mindim:\n",
    "        maxdim = 2 * mindim\n",
    "    \n",
    "    if absrel == 'rel' and np.issubdtype(A.dtype, np.number):\n",
    "        tol = tol * np.linalg.norm(A, 1)\n",
    "\n",
    "    B = np.zeros((maxdim, maxdim + 1))\n",
    "    V, U, alpha, beta = krylov_ata(A, v1, mindim)\n",
    "    \n",
    "    # Bidiagonal Form for the first mindim rows and cols\n",
    "    B[:mindim + 1, :mindim + 1] = np.diag(np.append(alpha, [0])) + np.diag(beta, 1)\n",
    "    #print(1)\n",
    "    #print(B)\n",
    "    #print('#####')\n",
    "    hist = np.zeros(maxit)\n",
    "\n",
    "    for k in range(maxit):\n",
    "        V, U, alpha, beta = krylov_ata_expand(A, V, U, B[:mindim, mindim], maxdim - mindim)\n",
    "        B[mindim: maxdim, mindim: maxdim] = np.diag(alpha) + np.diag(beta[:maxdim - mindim - 1], 1)\n",
    "        #print(2)\n",
    "        #print()\n",
    "        #print(alpha.shape)\n",
    "        #print(alpha)\n",
    "        #print(beta)\n",
    "        #print(B[mindim: maxdim, mindim: maxdim])\n",
    "        #print(np.diag(alpha.flatten()))\n",
    "        #print(np.diag(alpha) + np.diag(beta[:maxdim - mindim - 1], 1))\n",
    "        #print(np.diag(beta[:maxdim - mindim - 1], 1))\n",
    "        #print(np.diag(alpha))\n",
    "        \n",
    "        B[maxdim - 1, maxdim] = beta[maxdim - mindim - 1]\n",
    "        X, sigma, Y = np.linalg.svd(B[:maxdim, :maxdim])\n",
    "        \n",
    "        # Restart of Lanczos algorithm\n",
    "        V = np.concatenate((element(V[:, :maxdim] @ Y, list(range(V.shape[0])), list(range(mindim))), V[:, maxdim:maxdim + 1]), axis=1)\n",
    "        U = element(U[:, :maxdim] @ X, list(range(U.shape[0])), list(range(mindim)))\n",
    "        \n",
    "        print(B)\n",
    "        print(\"####\")\n",
    "        print(B[:, maxdim].T @ X)\n",
    "        print('####')\n",
    "        #print(element(B[:, maxdim].T @ X, [i for i in range(mindim)]))\n",
    "        \n",
    "        c = B[:, maxdim]\n",
    "        e = (c @ X)[:mindim]\n",
    "\n",
    "        print(e)\n",
    "        B[:mindim, :mindim + 1] = np.concatenate((np.diag(sigma[:mindim]), e.reshape(-1, 1)), axis=1)\n",
    "        err = np.linalg.norm(e[:nr])\n",
    "        print('####')\n",
    "        print(err)\n",
    "        # Test Zone\n",
    "        \"\"\"print('B')\n",
    "        print(B[2][maxdim])\n",
    "        print('B[:, maxdim]')\n",
    "        print(B[:, maxdim])\n",
    "        print('c')\n",
    "        print(c)\n",
    "        print('cX')\n",
    "        print(c @ X)\n",
    "        print('X')\n",
    "        #print(X)\n",
    "        #print(e)\n",
    "        #print((e[:nr]))\n",
    "        hist[k] = err\"\"\"\n",
    "        \n",
    "        # End of Test Zone\n",
    "        if info:\n",
    "            print(str(k) + \": \" + str(hist[k]))\n",
    "            #print(f'{k:4d}  {err:6.2e}')\n",
    "            print(sigma[:min(3,nr)])\n",
    "        \n",
    "        if err < tol:\n",
    "            sigma = sigma[:nr]\n",
    "            V = V[:, :nr]\n",
    "            U = U[:, :nr]\n",
    "            mvs = np.arange(1, k + 1) * (maxdim - mindim) + mindim\n",
    "            print(f\"Found after {k} iterations with residual = {err:6.2e}\")\n",
    "            return sigma, V, U, hist[:k+1], mvs\n",
    "    \n",
    "    if info:\n",
    "        print(f\"Quit after max {k} iterations with residual = {err:6.2e}\")\n",
    "    sigma = sigma[:mindim]\n",
    "    V = V[:, :mindim]\n",
    "    return sigma, V, U, hist, mvs"
   ]
  },
  {
   "cell_type": "markdown",
   "id": "84335914-76b8-475c-a2da-3071e4588f17",
   "metadata": {},
   "source": [
    "Tests"
   ]
  },
  {
   "cell_type": "code",
   "execution_count": 269,
   "id": "3b95bfee",
   "metadata": {},
   "outputs": [
    {
     "ename": "ValueError",
     "evalue": "could not broadcast input array from shape (4,4) into shape (11,11)",
     "output_type": "error",
     "traceback": [
      "\u001b[0;31m---------------------------------------------------------------------------\u001b[0m",
      "\u001b[0;31mValueError\u001b[0m                                Traceback (most recent call last)",
      "\u001b[1;32m/Users/chamundeshwarivadamalai/Desktop/MLF/KS_Code/Krylov_Shur_Decomposition/utils/MATLAB_Python_Krylov_Functions.ipynb Cell 11\u001b[0m line \u001b[0;36m1\n\u001b[0;32m----> <a href='vscode-notebook-cell:/Users/chamundeshwarivadamalai/Desktop/MLF/KS_Code/Krylov_Shur_Decomposition/utils/MATLAB_Python_Krylov_Functions.ipynb#X16sZmlsZQ%3D%3D?line=0'>1</a>\u001b[0m sigma, V, U, hist, mvs \u001b[39m=\u001b[39m krylov_schur_svd(A, \u001b[39m*\u001b[39;49m\u001b[39m*\u001b[39;49m{\u001b[39m'\u001b[39;49m\u001b[39minfo\u001b[39;49m\u001b[39m'\u001b[39;49m : \u001b[39m2\u001b[39;49m, \u001b[39m'\u001b[39;49m\u001b[39mtol\u001b[39;49m\u001b[39m'\u001b[39;49m : \u001b[39m1e-200\u001b[39;49m, \u001b[39m'\u001b[39;49m\u001b[39mmaxit\u001b[39;49m\u001b[39m'\u001b[39;49m: \u001b[39m7\u001b[39;49m, \u001b[39m'\u001b[39;49m\u001b[39mnr\u001b[39;49m\u001b[39m'\u001b[39;49m : \u001b[39m1\u001b[39;49m})\n",
      "\u001b[1;32m/Users/chamundeshwarivadamalai/Desktop/MLF/KS_Code/Krylov_Shur_Decomposition/utils/MATLAB_Python_Krylov_Functions.ipynb Cell 11\u001b[0m line \u001b[0;36m2\n\u001b[1;32m     <a href='vscode-notebook-cell:/Users/chamundeshwarivadamalai/Desktop/MLF/KS_Code/Krylov_Shur_Decomposition/utils/MATLAB_Python_Krylov_Functions.ipynb#X16sZmlsZQ%3D%3D?line=23'>24</a>\u001b[0m V, U, alpha, beta \u001b[39m=\u001b[39m krylov_ata(A, v1, mindim)\n\u001b[1;32m     <a href='vscode-notebook-cell:/Users/chamundeshwarivadamalai/Desktop/MLF/KS_Code/Krylov_Shur_Decomposition/utils/MATLAB_Python_Krylov_Functions.ipynb#X16sZmlsZQ%3D%3D?line=25'>26</a>\u001b[0m \u001b[39m# Bidiagonal Form for the first mindim rows and cols\u001b[39;00m\n\u001b[0;32m---> <a href='vscode-notebook-cell:/Users/chamundeshwarivadamalai/Desktop/MLF/KS_Code/Krylov_Shur_Decomposition/utils/MATLAB_Python_Krylov_Functions.ipynb#X16sZmlsZQ%3D%3D?line=26'>27</a>\u001b[0m B[:mindim \u001b[39m+\u001b[39;49m \u001b[39m1\u001b[39;49m, :mindim \u001b[39m+\u001b[39;49m \u001b[39m1\u001b[39;49m] \u001b[39m=\u001b[39m np\u001b[39m.\u001b[39mdiag(np\u001b[39m.\u001b[39mappend(alpha, [\u001b[39m0\u001b[39m])) \u001b[39m+\u001b[39m np\u001b[39m.\u001b[39mdiag(beta, \u001b[39m1\u001b[39m)\n\u001b[1;32m     <a href='vscode-notebook-cell:/Users/chamundeshwarivadamalai/Desktop/MLF/KS_Code/Krylov_Shur_Decomposition/utils/MATLAB_Python_Krylov_Functions.ipynb#X16sZmlsZQ%3D%3D?line=27'>28</a>\u001b[0m \u001b[39m#print(1)\u001b[39;00m\n\u001b[1;32m     <a href='vscode-notebook-cell:/Users/chamundeshwarivadamalai/Desktop/MLF/KS_Code/Krylov_Shur_Decomposition/utils/MATLAB_Python_Krylov_Functions.ipynb#X16sZmlsZQ%3D%3D?line=28'>29</a>\u001b[0m \u001b[39m#print(B)\u001b[39;00m\n\u001b[1;32m     <a href='vscode-notebook-cell:/Users/chamundeshwarivadamalai/Desktop/MLF/KS_Code/Krylov_Shur_Decomposition/utils/MATLAB_Python_Krylov_Functions.ipynb#X16sZmlsZQ%3D%3D?line=29'>30</a>\u001b[0m \u001b[39m#print('#####')\u001b[39;00m\n\u001b[1;32m     <a href='vscode-notebook-cell:/Users/chamundeshwarivadamalai/Desktop/MLF/KS_Code/Krylov_Shur_Decomposition/utils/MATLAB_Python_Krylov_Functions.ipynb#X16sZmlsZQ%3D%3D?line=30'>31</a>\u001b[0m hist \u001b[39m=\u001b[39m np\u001b[39m.\u001b[39mzeros(maxit)\n",
      "\u001b[0;31mValueError\u001b[0m: could not broadcast input array from shape (4,4) into shape (11,11)"
     ]
    }
   ],
   "source": [
    "sigma, V, U, hist, mvs = krylov_schur_svd(A, **{'info' : 2, 'tol' : 1e-200, 'maxit': 7, 'nr' : 1})"
   ]
  },
  {
   "cell_type": "code",
   "execution_count": 259,
   "id": "db6899d7",
   "metadata": {},
   "outputs": [
    {
     "data": {
      "text/plain": [
       "array([[ 0.4769,  0.4401,  0.6365,  0.1463],\n",
       "       [ 0.8830,  0.6397,  0.5901,  0.1277],\n",
       "       [ 0.2938,  0.7704,  0.9429,  0.1932]])"
      ]
     },
     "execution_count": 259,
     "metadata": {},
     "output_type": "execute_result"
    }
   ],
   "source": [
    "A = np.random.rand(3,4)\n",
    "A"
   ]
  },
  {
   "cell_type": "code",
   "execution_count": 260,
   "id": "7d6bf7bb",
   "metadata": {},
   "outputs": [
    {
     "data": {
      "text/plain": [
       "np.float64(2.0017916254222134)"
      ]
     },
     "execution_count": 260,
     "metadata": {},
     "output_type": "execute_result"
    }
   ],
   "source": [
    "np.linalg.norm(A)"
   ]
  },
  {
   "cell_type": "code",
   "execution_count": 265,
   "id": "f605afa4",
   "metadata": {},
   "outputs": [],
   "source": [
    "v = [ 0.0000,  0.6388,  0.6530,  0.7064,  1.1590,  1.6503,  1.8708,  2.3015,  2.5898,\n",
    "  2.8051]"
   ]
  },
  {
   "cell_type": "code",
   "execution_count": 266,
   "id": "aa858cbe",
   "metadata": {},
   "outputs": [
    {
     "data": {
      "text/plain": [
       "[0.0, 0.6388, 0.653]"
      ]
     },
     "execution_count": 266,
     "metadata": {},
     "output_type": "execute_result"
    }
   ],
   "source": [
    "v[:3]"
   ]
  },
  {
   "cell_type": "code",
   "execution_count": 267,
   "id": "6bf74d81",
   "metadata": {},
   "outputs": [
    {
     "data": {
      "text/plain": [
       "np.float64(0.9134957252226198)"
      ]
     },
     "execution_count": 267,
     "metadata": {},
     "output_type": "execute_result"
    }
   ],
   "source": [
    "np.linalg.norm(v[:3])"
   ]
  },
  {
   "cell_type": "markdown",
   "id": "569987a8",
   "metadata": {},
   "source": [
    "# Mega Tester for finding ATA_Expand Error"
   ]
  },
  {
   "cell_type": "code",
   "execution_count": 148,
   "id": "5e69a33b",
   "metadata": {},
   "outputs": [],
   "source": [
    "B = np.random.rand(10,7)"
   ]
  },
  {
   "cell_type": "code",
   "execution_count": 156,
   "id": "b757387e",
   "metadata": {},
   "outputs": [],
   "source": [
    "def tester(A, **kwargs):\n",
    "    nr = kwargs.get('nr', 1)\n",
    "    v1 = kwargs.get('v1', None)\n",
    "    tol = kwargs.get('tol', 1e-6)\n",
    "    absrel = kwargs.get('absrel', 'rel')\n",
    "    mindim = kwargs.get('mindim', 10)\n",
    "    maxdim = kwargs.get('maxdim', 20)\n",
    "    maxit = kwargs.get('maxit', 1000)\n",
    "    target = kwargs.get('target', np.inf)\n",
    "    info = kwargs.get('info',1)\n",
    "\n",
    "    if v1 is None:\n",
    "        v1 = np.random.rand(A.shape[1])\n",
    "    \n",
    "    if mindim < nr:\n",
    "        mindim = nr\n",
    "    if maxdim < 2 * mindim:\n",
    "        maxdim = 2 * mindim\n",
    "    \n",
    "    if absrel == 'rel' and np.issubdtype(A.dtype, np.number):\n",
    "        tol = tol * np.linalg.norm(A, 1)\n",
    "\n",
    "    B = np.zeros((maxdim, maxdim + 1))\n",
    "    V, U, alpha, beta = krylov_ata(A, v1, mindim)\n",
    "    #print(alpha)\n",
    "    #print(beta)\n",
    "    \n",
    "    # Bidiagonal Form\n",
    "    B[:mindim + 1, :mindim + 1] = np.diag(np.append(alpha, [0])) + np.diag(beta, 1)\n",
    "    print(1)\n",
    "    #print(B)\n",
    "    \n",
    "    hist = np.zeros(maxit)\n",
    "    \n",
    "    print(1)\n",
    "    print(A)\n",
    "    print(2)\n",
    "    print(V)\n",
    "    print(3)\n",
    "    print(U)\n",
    "    print(4)\n",
    "    print(B[:mindim, mindim])\n",
    "    print(5)\n",
    "    print(maxdim - mindim)\n",
    "    #V, U, alpha, beta = krylov_ata_expand(A, V, U, B[:mindim, mindim], maxdim - mindim)\n",
    "    #B[mindim: maxdim, mindim: maxdim] = np.diag(alpha) + np.diag(beta[:maxdim - mindim - 1], 1)\n",
    "    print()    \n",
    "    return A,V,U,B[:mindim, mindim], maxdim - mindim     "
   ]
  },
  {
   "cell_type": "code",
   "execution_count": 176,
   "id": "23737344",
   "metadata": {},
   "outputs": [
    {
     "name": "stdout",
     "output_type": "stream",
     "text": [
      "1\n",
      "1\n",
      "[[ 0.6276  0.0101  0.2266  0.5146  0.8531  0.6498  0.3278]\n",
      " [ 0.6545  0.8964  0.6144  0.9838  0.0234  0.0572  0.9396]\n",
      " [ 0.1042  0.4513  0.2136  0.5894  0.0550  0.5751  0.7596]\n",
      " [ 0.5582  0.3725  0.8571  0.4183  0.7060  0.8153  0.9578]\n",
      " [ 0.3397  0.3533  0.6166  0.6457  0.0439  0.7034  0.2721]\n",
      " [ 0.8103  0.0991  0.5226  0.5397  0.2915  0.4921  0.6187]\n",
      " [ 0.8362  0.0212  0.2194  0.7007  0.8103  0.9069  0.3109]\n",
      " [ 0.0126  0.8889  0.5931  0.6955  0.6427  0.1970  0.4673]\n",
      " [ 0.7118  0.0275  0.2076  0.1468  0.4754  0.8085  0.8875]\n",
      " [ 0.8360  0.9918  0.5109  0.6168  0.7391  0.0533  0.4362]]\n",
      "2\n",
      "[[ 0.6335 -0.3922 -0.1822  0.0623 -0.4091 -0.4784]\n",
      " [ 0.2668  0.1421  0.6277  0.3516  0.4732 -0.3891]\n",
      " [ 0.0778  0.6465 -0.6012  0.3995  0.0701 -0.2175]\n",
      " [ 0.3819  0.1758  0.1388  0.2194 -0.0119  0.5065]\n",
      " [ 0.1509  0.4862  0.3873 -0.0921 -0.6635  0.1295]\n",
      " [ 0.2434  0.3545 -0.0271 -0.8071  0.2546 -0.2340]\n",
      " [ 0.5418 -0.1228 -0.2033 -0.0699  0.3140  0.4943]]\n",
      "3\n",
      "[[ 0.2709  0.1357  0.0490 -0.3774 -0.3091]\n",
      " [ 0.4028 -0.4325  0.1738  0.5063  0.1430]\n",
      " [ 0.2481 -0.0485  0.1029 -0.2029  0.7499]\n",
      " [ 0.3775  0.3617 -0.4558  0.1606 -0.0779]\n",
      " [ 0.2334  0.2987 -0.3220  0.1826  0.1920]\n",
      " [ 0.3228 -0.2474 -0.3637  0.2153 -0.3125]\n",
      " [ 0.3344  0.0246  0.0583 -0.5168 -0.1934]\n",
      " [ 0.2398  0.6263  0.3595  0.1451  0.1318]\n",
      " [ 0.3214 -0.3348 -0.1891 -0.3925  0.1998]\n",
      " [ 0.3592 -0.0773  0.5871  0.1116 -0.2938]]\n",
      "4\n",
      "[ 0.0000  0.0000  0.0000  0.0000  0.3182]\n",
      "5\n",
      "10\n",
      "\n"
     ]
    }
   ],
   "source": [
    "a,v,u,b,d = tester(B, **{'info' : 2, 'tol' : 1e-200, 'maxit': 7, 'nr' : 1,'maxdim': 15, 'mindim': 5})"
   ]
  },
  {
   "cell_type": "code",
   "execution_count": 222,
   "id": "710685f8",
   "metadata": {},
   "outputs": [],
   "source": [
    "def krylov_ata_expand(A, V, U, c, k=10):\n",
    "    m = V.shape[1]\n",
    "    V = np.concatenate((V, np.zeros((V.shape[0], k))), axis=1)\n",
    "    U = np.concatenate((U, np.zeros((U.shape[0], k))), axis=1)\n",
    "    alpha = np.zeros(k)\n",
    "    beta = np.zeros(k)\n",
    "    \n",
    "    for j in range(m , k + m):\n",
    "        print(A.shape)\n",
    "        print(V[:, j - 1].shape)\n",
    "        print((A @ V[:, j - 1]).shape)\n",
    "        print(U[:, : j - 1].shape)\n",
    "        print(c.shape)\n",
    "        if j == m:\n",
    "            \n",
    "            ###Either c or c.T\n",
    "            r = mv(A, V[:, j - 1], 0) - (U[:, : j - 1] @ c)\n",
    "        else:\n",
    "            r = mv(A, V[:, j - 1], 0) - beta[j - m - 1] * U[:, j - 2]\n",
    "        \n",
    "        print(j)\n",
    "        print(r)\n",
    "        print('######')\n",
    "        \n",
    "        r = r - U[:, : j - 1] @ (U[:, : j - 1].T @ r)\n",
    "        alpha[j - m] = np.linalg.norm(r)\n",
    "        if alpha[j - m] == 0:\n",
    "            break\n",
    "        U[:, j - 1] = r / alpha[j - m]\n",
    "        r = mv(A, U[:, j - 1], 1) - alpha[j - m] * V[:, j - 1]\n",
    "        r = r - V[:, : j] @ (V[:, :j].T @ r)\n",
    "        beta[j - m] = np.linalg.norm(r)\n",
    "        if beta[j - m] == 0:\n",
    "            break\n",
    "        V[:, j] = r / beta[j - m]\n",
    "\n",
    "    return V, U, alpha, beta"
   ]
  },
  {
   "cell_type": "code",
   "execution_count": 223,
   "id": "f54d3c49",
   "metadata": {},
   "outputs": [
    {
     "name": "stdout",
     "output_type": "stream",
     "text": [
      "(10, 7)\n",
      "(7,)\n",
      "(10,)\n",
      "(10, 5)\n",
      "(5,)\n",
      "6\n",
      "[ 0.1260  0.1113  0.0360  0.0123 -0.1926  0.0613  0.0068  0.0976 -0.0745\n",
      " -0.1923]\n",
      "######\n",
      "(10, 7)\n",
      "(7,)\n",
      "(10,)\n",
      "(10, 6)\n",
      "(5,)\n",
      "7\n",
      "[-0.0853 -0.1211 -0.0468  0.3407 -0.3765 -0.0952 -0.3029  0.0816  0.3300\n",
      "  0.1366]\n",
      "######\n",
      "(10, 7)\n",
      "(7,)\n",
      "(10,)\n",
      "(10, 7)\n",
      "(5,)\n",
      "8\n",
      "[-0.3642 -1.1516 -0.7048 -0.7886 -0.9251 -0.7490 -0.6399 -0.5717 -0.5663\n",
      " -0.8537]\n",
      "######\n",
      "(10, 7)\n",
      "(7,)\n",
      "(10,)\n",
      "(10, 8)\n",
      "(5,)\n",
      "9\n",
      "[-0.5670 -1.9628 -1.5160 -1.1942 -0.9251 -1.1546 -1.4511 -0.9772 -0.9719\n",
      " -0.4481]\n",
      "######\n",
      "(10, 7)\n",
      "(7,)\n",
      "(10,)\n",
      "(10, 9)\n",
      "(5,)\n",
      "10\n",
      "[-2.5500 -5.9764 -5.8826 -3.0223 -1.2282 -3.3312 -4.7288 -2.8785 -3.0765\n",
      "  1.4634]\n",
      "######\n",
      "(10, 7)\n",
      "(7,)\n",
      "(10,)\n",
      "(10, 10)\n",
      "(5,)\n",
      "11\n",
      "[-16.1907 -36.9962 -39.0232 -17.4580 -3.0493 -19.8612 -31.3265 -17.7540\n",
      " -19.1743  16.4009]\n",
      "######\n",
      "(10, 7)\n",
      "(7,)\n",
      "(10,)\n",
      "(10, 11)\n",
      "(5,)\n",
      "12\n",
      "[-199.0360 -438.9395 -470.6434 -203.4000 -28.5324 -235.1074 -371.3925\n",
      " -209.8497 -228.3725  209.3639]\n",
      "######\n",
      "(10, 7)\n",
      "(7,)\n",
      "(10,)\n",
      "(10, 12)\n",
      "(5,)\n",
      "13\n",
      "[-3930.4026 -8696.5451 -9328.9129 -4028.0007 -544.3138 -4652.8273\n",
      " -7376.5949 -4159.0007 -4523.6804  4176.0696]\n",
      "######\n",
      "(10, 7)\n",
      "(7,)\n",
      "(10,)\n",
      "(10, 13)\n",
      "(5,)\n",
      "14\n",
      "[-117143.8564 -258939.4890 -277823.7445 -119905.9290 -16216.9436\n",
      " -138553.3911 -219563.7802 -123821.5390 -134704.6100  124372.0298]\n",
      "######\n",
      "(10, 7)\n",
      "(7,)\n",
      "(10,)\n",
      "(10, 14)\n",
      "(5,)\n",
      "15\n",
      "[-4888715.0011 -10807785.0873 -11595751.3564 -5004832.4030 -676616.4565\n",
      " -5782901.8535 -9164849.2421 -5168220.5879 -5622318.3909  5191247.9400]\n",
      "######\n"
     ]
    }
   ],
   "source": [
    "V, U, alpha, beta = krylov_ata_expand(a,v,u,b,d)"
   ]
  },
  {
   "cell_type": "code",
   "execution_count": 224,
   "id": "76abc391",
   "metadata": {},
   "outputs": [
    {
     "data": {
      "text/plain": [
       "array([ 0.3502,  0.7190,  0.0000,  3.2754,  23.0619,  225.4854,\n",
       "        3608.4118,  89588.0324,  3205165.3986,  156215235.2676])"
      ]
     },
     "execution_count": 224,
     "metadata": {},
     "output_type": "execute_result"
    }
   ],
   "source": [
    "alpha"
   ]
  },
  {
   "cell_type": "code",
   "execution_count": 225,
   "id": "49ec1e67",
   "metadata": {},
   "outputs": [
    {
     "data": {
      "text/plain": [
       "array([ 0.0392,  0.0000,  1.6846,  10.0163,  74.3784,  908.8731,\n",
       "        18050.7222,  537538.5906,  22436169.9188,  1249721896.0021])"
      ]
     },
     "execution_count": 225,
     "metadata": {},
     "output_type": "execute_result"
    }
   ],
   "source": [
    "beta"
   ]
  },
  {
   "cell_type": "markdown",
   "id": "1c58dc0e",
   "metadata": {},
   "source": []
  },
  {
   "cell_type": "code",
   "execution_count": 226,
   "id": "1e0f18dc",
   "metadata": {},
   "outputs": [],
   "source": [
    "def krylov_ata_expand(A, V, U, c, k=10):\n",
    "    m = V.shape[1]\n",
    "    V = np.concatenate((V, np.zeros((V.shape[0], k))), axis=1)\n",
    "    U = np.concatenate((U, np.zeros((U.shape[0], k))), axis=1)\n",
    "    alpha = np.zeros(k)\n",
    "    beta = np.zeros(k)\n",
    "    \n",
    "    for j in range(m, k + m):\n",
    "        if j == m:\n",
    "            r = mv(A, V[:, j - 1], 0) - (U[:, :j - 1] @ c.T)\n",
    "        else:\n",
    "            r = mv(A, V[:, j - 1], 0) - beta[j - m - 1] * U[:, j - 2]\n",
    "\n",
    "        r = r - U[:, :j - 1] @ (U[:, :j - 1].T @ r)\n",
    "        alpha[j - m] = np.linalg.norm(r)\n",
    "        if alpha[j - m] == 0:\n",
    "            break\n",
    "        U[:, j - 1] = r / alpha[j - m]\n",
    "        r = mv(A, U[:, j - 1], 1) - alpha[j - m] * V[:, j - 1]\n",
    "        r = r - V[:, :j] @ (V[:, :j].T @ r)\n",
    "        beta[j - m] = np.linalg.norm(r)\n",
    "        if beta[j - m] == 0:\n",
    "            break\n",
    "        V[:, j] = r / beta[j - m]\n",
    "\n",
    "    return V, U, alpha, beta"
   ]
  },
  {
   "cell_type": "code",
   "execution_count": 227,
   "id": "62c18817",
   "metadata": {},
   "outputs": [],
   "source": [
    "V, U, alpha, beta = krylov_ata_expand(a,v,u,b,d)"
   ]
  },
  {
   "cell_type": "code",
   "execution_count": 228,
   "id": "97c0ebc3",
   "metadata": {},
   "outputs": [
    {
     "data": {
      "text/plain": [
       "array([ 0.3502,  0.7190,  0.0000,  3.2754,  23.0619,  225.4854,\n",
       "        3608.4118,  89588.0324,  3205165.3986,  156215235.2676])"
      ]
     },
     "execution_count": 228,
     "metadata": {},
     "output_type": "execute_result"
    }
   ],
   "source": [
    "alpha"
   ]
  },
  {
   "cell_type": "code",
   "execution_count": 229,
   "id": "c0b8a4c4",
   "metadata": {},
   "outputs": [
    {
     "data": {
      "text/plain": [
       "array([ 0.0392,  0.0000,  1.6846,  10.0163,  74.3784,  908.8731,\n",
       "        18050.7222,  537538.5906,  22436169.9188,  1249721896.0021])"
      ]
     },
     "execution_count": 229,
     "metadata": {},
     "output_type": "execute_result"
    }
   ],
   "source": [
    "beta"
   ]
  },
  {
   "cell_type": "code",
   "execution_count": null,
   "id": "bfc773c9",
   "metadata": {},
   "outputs": [],
   "source": []
  },
  {
   "cell_type": "code",
   "execution_count": null,
   "id": "ac784717",
   "metadata": {},
   "outputs": [],
   "source": []
  }
 ],
 "metadata": {
  "kernelspec": {
   "display_name": "Python 3 (ipykernel)",
   "language": "python",
   "name": "python3"
  },
  "language_info": {
   "codemirror_mode": {
    "name": "ipython",
    "version": 3
   },
   "file_extension": ".py",
   "mimetype": "text/x-python",
   "name": "python",
   "nbconvert_exporter": "python",
   "pygments_lexer": "ipython3",
   "version": "3.12.4"
  }
 },
 "nbformat": 4,
 "nbformat_minor": 5
}
