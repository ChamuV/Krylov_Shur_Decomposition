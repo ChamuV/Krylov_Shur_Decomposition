{
 "cells": [
  {
   "cell_type": "code",
   "execution_count": 53,
   "id": "f135139f-4010-4f46-83dd-b3367fd3f3cb",
   "metadata": {},
   "outputs": [],
   "source": [
    "import numpy as np\n",
    "import scipy.linalg as sln\n",
    "import matplotlib.pyplot as plt\n",
    "import warnings\n",
    "np.set_printoptions(formatter={'float': '{: 0.4f}'.format})"
   ]
  },
  {
   "cell_type": "markdown",
   "id": "bfa71706-9b71-46b4-94d2-c55e4222513d",
   "metadata": {},
   "source": [
    "Points\n",
    "<br># -> Doc(Main)\n",
    "<br>## -> My Notes\n",
    "<br>### -> Missing, Corrections to do"
   ]
  },
  {
   "cell_type": "code",
   "execution_count": 54,
   "id": "1f0bd4df-648e-4ac0-816e-714bdb26b722",
   "metadata": {},
   "outputs": [],
   "source": [
    "def mv(A, v, transp_flag):\n",
    "    if transp_flag == 0:\n",
    "        return A @ v\n",
    "    else:\n",
    "        return A.T @ v"
   ]
  },
  {
   "cell_type": "code",
   "execution_count": 55,
   "id": "f562c0e4-d71a-4cb4-81c9-b53c477cdd3a",
   "metadata": {},
   "outputs": [],
   "source": [
    "def unv(j, n):\n",
    "    e = np.zeros(n)\n",
    "    e[j] = 1\n",
    "    return e"
   ]
  },
  {
   "cell_type": "code",
   "execution_count": 56,
   "id": "b36ec8d5",
   "metadata": {},
   "outputs": [],
   "source": [
    "def element(A, i=None, j=None):\n",
    "    # Handling default arguments\n",
    "    if i is None:\n",
    "        i = slice(None)  # Selecting all rows\n",
    "    if j is None:\n",
    "        j = slice(None)  # Selecting all columns\n",
    "\n",
    "    if isinstance(A, np.ndarray):  # Matrix\n",
    "        if min(A.shape) > 1:  # Check if A is not a vector\n",
    "            if isinstance(i, list) and isinstance(j, list):\n",
    "                e = A[np.ix_(i, j)]\n",
    "            else:\n",
    "                e = A[i, j]\n",
    "        else:\n",
    "            e = A[i] if isinstance(i, list) else A[i]\n",
    "    \n",
    "    return e"
   ]
  },
  {
   "cell_type": "code",
   "execution_count": 57,
   "id": "90ffb30e",
   "metadata": {},
   "outputs": [],
   "source": [
    "def krylov_ata(A, v1=None, k=10, full=1, reortho=2):\n",
    "    if v1 is None:\n",
    "        v1 = np.random.randn(A.shape[1])\n",
    "\n",
    "    k = min(k, min(A.shape))\n",
    "\n",
    "    alpha = np.zeros(k)\n",
    "    beta = np.zeros(k if full else k-1)\n",
    "\n",
    "    len_v1 = len(v1)\n",
    "    if reortho:\n",
    "        V = np.zeros((len_v1, k + 1))\n",
    "        V[:, 0] = v1 / np.linalg.norm(v1)\n",
    "        #U = np.zeros((A.shape[0], k))\n",
    "    else:\n",
    "        v = v1 / np.linalg.norm(v1)\n",
    "\n",
    "    for j in range(k):\n",
    "        if reortho:\n",
    "            r = A @ V[:, j]\n",
    "            if j == 0 and reortho == 2:\n",
    "                U = np.zeros((len(r), k))\n",
    "        else:\n",
    "            r = A @ v\n",
    "\n",
    "        if j > 0:\n",
    "            if reortho == 2:\n",
    "                r -= beta[j-1] * U[:, j-1]\n",
    "                r -= U[:, :j] @ (U[:, :j].T @ r)\n",
    "            else:\n",
    "                r -= beta[j-1] * u\n",
    "        alpha[j] = np.linalg.norm(r)\n",
    "        if alpha[j] == 0:\n",
    "            break\n",
    "\n",
    "        if reortho == 2:\n",
    "            U[:, j] = r / alpha[j]\n",
    "            r = A.T @ U[:, j]\n",
    "        else:\n",
    "            u = r / alpha[j]\n",
    "            r = A.T @ u\n",
    "\n",
    "        if reortho:\n",
    "            r -= alpha[j] * V[:, j]\n",
    "            r -= V[:, :j+1] @ (V[:, :j+1].T @ r)\n",
    "        else:\n",
    "            r -= alpha[j] * v\n",
    "\n",
    "        if j < k - 1 or full:\n",
    "            beta[j] = np.linalg.norm(r)\n",
    "            if beta[j] == 0:\n",
    "                break\n",
    "\n",
    "            if reortho:\n",
    "                V[:, j+1] = r / beta[j]\n",
    "            else:\n",
    "                v = r / beta[j]\n",
    "\n",
    "    if not reortho:\n",
    "        V = v\n",
    "    if reortho < 2:\n",
    "        U = u\n",
    "    \n",
    "    return V, U, alpha, beta"
   ]
  },
  {
   "cell_type": "code",
   "execution_count": 58,
   "id": "4062d5d6",
   "metadata": {},
   "outputs": [],
   "source": [
    "def krylov_ata_expand(A, V, U, c, k=10):\n",
    "    m = V.shape[1]\n",
    "    V = np.concatenate((V, np.zeros((V.shape[0], k))), axis=1)\n",
    "    U = np.concatenate((U, np.zeros((U.shape[0], k))), axis=1)\n",
    "    alpha = np.zeros(k)\n",
    "    beta = np.zeros(k)\n",
    "    \n",
    "\n",
    "    for j in range(m, k + m):\n",
    "        if j == m:\n",
    "            r = A @ V[:, j - 1] - (U[:, :j - 1] @ c.T)\n",
    "        else:\n",
    "            r = A @ V[:, j - 1] - beta[j - m - 1] * U[:, j - 2]\n",
    "\n",
    "        r -= - U[:, :j - 1] @ (U[:, :j - 1].T @ r)\n",
    "        alpha[j - m] = np.linalg.norm(r)\n",
    "        if alpha[j - m] == 0:\n",
    "            break\n",
    "        U[:, j - 1] = r / alpha[j - m]\n",
    "        r = A.T @ U[:, j - 1] - alpha[j - m] * V[:, j - 1]\n",
    "        r -= V[:, :j] @ (V[:, :j].T @ r)\n",
    "        beta[j - m] = np.linalg.norm(r)\n",
    "        if beta[j - m] == 0:\n",
    "            break\n",
    "        V[:, j] = r / beta[j - m]\n",
    "\n",
    "    return V, U, alpha, beta"
   ]
  },
  {
   "cell_type": "code",
   "execution_count": 59,
   "id": "72ad252d",
   "metadata": {},
   "outputs": [],
   "source": [
    "def krylov_schur_svd(A, v1 = None, nr = 1, tol = 1e-6, absrel = 'rel', mindim = 10, maxdim = 20, maxit = 1000, target = np.inf, info = 1):\n",
    "    if v1 is None:\n",
    "        v1 = np.random.rand(A.shape[1])\n",
    "    if mindim < nr:\n",
    "        mindim = nr\n",
    "    if maxdim < 2 * mindim:\n",
    "        maxdim = 2 * mindim\n",
    "    if absrel == 'rel':\n",
    "        tol *= np.linalg.norm(A, 1)\n",
    "\n",
    "    B = np.zeros((maxdim, maxdim + 1))\n",
    "    print(1)\n",
    "    # Slow Here\n",
    "    V, U, alpha, beta = krylov_ata(A, v1, mindim)\n",
    "    print(2)\n",
    "    # Bidiagonal Form for the first mindim rows and cols\n",
    "    B[:mindim + 1, :mindim + 1] = np.diag(np.append(alpha, [0])) + np.diag(beta, 1)\n",
    "    hist = np.zeros(maxit, dtype=np.float64)    \n",
    "    np.set_printoptions(precision=12) \n",
    "    # Modified MATLAB code ordering\n",
    "    print(3)\n",
    "    # Slow Here\n",
    "    v, u, a, b = krylov_ata_expand(A, V, U, B[:mindim, mindim], maxdim - mindim)\n",
    "    print(4)\n",
    "    for k in range(maxit):\n",
    "        V, U, alpha, beta = v.copy(), u.copy(), a.copy(), b.copy()\n",
    "        print(5)\n",
    "        B[mindim: maxdim, mindim: maxdim] = np.diag(alpha) + np.diag(beta[:maxdim - mindim - 1], 1)        \n",
    "        B[maxdim - 1, maxdim] = beta[maxdim - mindim - 1]\n",
    "        X, sigma, Y = np.linalg.svd(B[:maxdim, :maxdim])\n",
    "        # Restart of Lanczos algorithm\n",
    "        V = np.concatenate((element(V[:, :maxdim] @ Y, list(range(V.shape[0])), list(range(mindim))), V[:, maxdim:maxdim + 1]), axis=1)\n",
    "        U = element(U[:, :maxdim] @ X, list(range(U.shape[0])), list(range(mindim)))    \n",
    "        c = B[:, maxdim]\n",
    "        e = (c @ X)[:mindim]\n",
    "        B[:mindim, :mindim + 1] = np.concatenate((np.diag(sigma[:mindim]), e.reshape(-1, 1)), axis=1)\n",
    "        err = np.linalg.norm(e[:nr])\n",
    "        hist[k] = err\n",
    "        \n",
    "        if info:\n",
    "            print(str(k) + \": \" + str(hist[k]))\n",
    "        if err < tol:\n",
    "            sigma = sigma[:nr]\n",
    "            V = V[:, :nr]\n",
    "            U = U[:, :nr]\n",
    "            mvs = np.arange(1, k + 1) * (maxdim - mindim) + mindim\n",
    "            print(f\"Found after {k + 1} iteration(s) with residual = {err}\")\n",
    "            return sigma, V, U, hist[:k+1], mvs\n",
    "    \n",
    "    mvs = 2 * (np.arange(1, k + 1) * (maxdim - mindim) + mindim)\n",
    "    if info:\n",
    "        print(f\"Quit after max {k + 1} iterations with residual = {err}\")\n",
    "    sigma = sigma[:mindim]\n",
    "    V = V[:, :mindim]\n",
    "    return sigma, V, U, hist, mvs"
   ]
  },
  {
   "cell_type": "markdown",
   "id": "84335914-76b8-475c-a2da-3071e4588f17",
   "metadata": {},
   "source": [
    "Tests"
   ]
  },
  {
   "cell_type": "code",
   "execution_count": 60,
   "id": "f5961111",
   "metadata": {},
   "outputs": [
    {
     "data": {
      "text/plain": [
       "array([[ 0.7774,  0.2966,  0.2683, ...,  0.9407,  0.4727,  0.3139],\n",
       "       [ 0.7048,  0.3883,  0.5921, ...,  0.0556,  0.7865,  0.2805],\n",
       "       [ 0.0492,  0.1804,  0.7754, ...,  0.7167,  0.0782,  0.2551],\n",
       "       ...,\n",
       "       [ 0.6480,  0.2975,  0.5128, ...,  0.4523,  0.0063,  0.8240],\n",
       "       [ 0.0193,  0.2992,  0.0612, ...,  0.0792,  0.6428,  0.4421],\n",
       "       [ 0.6451,  0.4405,  0.2483, ...,  0.9495,  0.7469,  0.6620]])"
      ]
     },
     "execution_count": 60,
     "metadata": {},
     "output_type": "execute_result"
    }
   ],
   "source": [
    "A = np.random.rand(200,100)\n",
    "A"
   ]
  },
  {
   "cell_type": "code",
   "execution_count": 61,
   "id": "3b95bfee",
   "metadata": {},
   "outputs": [
    {
     "name": "stdout",
     "output_type": "stream",
     "text": [
      "1\n",
      "2\n",
      "3\n",
      "4\n",
      "5\n",
      "0: 0.032879947673891075\n",
      "5\n",
      "1: 0.004548104020152201\n",
      "5\n",
      "2: 0.0003375504022586548\n",
      "5\n",
      "3: 2.2701340659420908e-05\n",
      "5\n",
      "4: 1.353327271910905e-06\n",
      "5\n",
      "5: 7.748206487214467e-08\n",
      "5\n",
      "6: 4.425950559940474e-09\n",
      "Quit after max 7 iterations with residual = 4.425950559940474e-09\n"
     ]
    }
   ],
   "source": [
    "sigma, V, U, hist, mvs = krylov_schur_svd(A, info=2,tol=1e-200,maxit= 7,nr= 3)"
   ]
  },
  {
   "cell_type": "code",
   "execution_count": 62,
   "id": "e2d4dc5e",
   "metadata": {},
   "outputs": [
    {
     "data": {
      "text/plain": [
       "array([3.287994767389e-02, 4.548104020152e-03, 3.375504022587e-04,\n",
       "       2.270134065942e-05, 1.353327271911e-06, 7.748206487214e-08,\n",
       "       4.425950559940e-09])"
      ]
     },
     "execution_count": 62,
     "metadata": {},
     "output_type": "execute_result"
    }
   ],
   "source": [
    "hist"
   ]
  },
  {
   "cell_type": "code",
   "execution_count": 63,
   "id": "747fbeb5",
   "metadata": {},
   "outputs": [
    {
     "data": {
      "text/plain": [
       "array([ 40,  60,  80, 100, 120, 140])"
      ]
     },
     "execution_count": 63,
     "metadata": {},
     "output_type": "execute_result"
    }
   ],
   "source": [
    "mvs"
   ]
  },
  {
   "cell_type": "code",
   "execution_count": null,
   "id": "9a2719e5",
   "metadata": {},
   "outputs": [],
   "source": []
  }
 ],
 "metadata": {
  "kernelspec": {
   "display_name": "Python 3 (ipykernel)",
   "language": "python",
   "name": "python3"
  },
  "language_info": {
   "codemirror_mode": {
    "name": "ipython",
    "version": 3
   },
   "file_extension": ".py",
   "mimetype": "text/x-python",
   "name": "python",
   "nbconvert_exporter": "python",
   "pygments_lexer": "ipython3",
   "version": "3.12.4"
  }
 },
 "nbformat": 4,
 "nbformat_minor": 5
}
