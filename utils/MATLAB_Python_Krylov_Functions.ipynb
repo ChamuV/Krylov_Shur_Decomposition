{
 "cells": [
  {
   "cell_type": "code",
   "execution_count": 24,
   "id": "f135139f-4010-4f46-83dd-b3367fd3f3cb",
   "metadata": {},
   "outputs": [],
   "source": [
    "import numpy as np\n",
    "import scipy.linalg as sln\n",
    "import matplotlib.pyplot as plt\n",
    "import warnings\n",
    "np.set_printoptions(formatter={'float': '{: 0.4f}'.format})"
   ]
  },
  {
   "cell_type": "markdown",
   "id": "bfa71706-9b71-46b4-94d2-c55e4222513d",
   "metadata": {},
   "source": [
    "Points\n",
    "<br># -> Doc(Main)\n",
    "<br>## -> My Notes\n",
    "<br>### -> Missing, Corrections to do"
   ]
  },
  {
   "cell_type": "code",
   "execution_count": 25,
   "id": "1f0bd4df-648e-4ac0-816e-714bdb26b722",
   "metadata": {},
   "outputs": [],
   "source": [
    "def mv(A, v, transp_flag):\n",
    "    if transp_flag == 0:\n",
    "        return A @ v\n",
    "    else:\n",
    "        return A.T @ v"
   ]
  },
  {
   "cell_type": "code",
   "execution_count": 26,
   "id": "f562c0e4-d71a-4cb4-81c9-b53c477cdd3a",
   "metadata": {},
   "outputs": [],
   "source": [
    "def unv(j, n):\n",
    "    e = np.zeros(n)\n",
    "    e[j] = 1\n",
    "    return e"
   ]
  },
  {
   "cell_type": "code",
   "execution_count": 27,
   "id": "8f33ff24-44a9-4337-8222-346b1f32a113",
   "metadata": {},
   "outputs": [],
   "source": [
    "###Get rid of function aspect\n",
    "def element(A, i=None, j=None, n=None):\n",
    "    # Handling default arguments\n",
    "    if i is None:\n",
    "        i = slice(None)  # Selecting all rows\n",
    "    if j is None:\n",
    "        j = slice(None)  # Selecting all columns\n",
    "\n",
    "    if isinstance(A, np.ndarray):  # Matrix\n",
    "        if min(A.shape) > 1:  # Check if A is not a vector\n",
    "            if isinstance(i, list) and isinstance(j, list):\n",
    "                e = A[np.ix_(i, j)]\n",
    "            else:\n",
    "                e = A[i, j]\n",
    "        else:\n",
    "            e = A[i] if isinstance(i, list) else A[i]\n",
    "    else:  # Function\n",
    "        if j is None:\n",
    "            raise ValueError(\"j has to be nonempty when A is a function\")\n",
    "        e = mv(A, unv(j, n), 0)\n",
    "        if i is not None:\n",
    "            e = e[i]\n",
    "\n",
    "    return e"
   ]
  },
  {
   "cell_type": "code",
   "execution_count": 28,
   "id": "418bdf4f-196b-4920-a3d5-4c2f8dfd6897",
   "metadata": {},
   "outputs": [],
   "source": [
    "def krylov_ata(A, v1=None, k=10, full=1, reortho=2):\n",
    "    if v1 is None:\n",
    "        v1 = np.random.randn(A.shape[1])\n",
    "\n",
    "    k = min(k, min(A.shape))\n",
    "\n",
    "    alpha = np.zeros(k)\n",
    "    beta = np.zeros(k if full else k-1)\n",
    "\n",
    "    len_v1 = len(v1)\n",
    "    if reortho:\n",
    "        V = np.zeros((len_v1, k + 1))\n",
    "        V[:, 0] = v1 / np.linalg.norm(v1)\n",
    "        #U = np.zeros((A.shape[0], k))\n",
    "    else:\n",
    "        v = v1 / np.linalg.norm(v1)\n",
    "\n",
    "    for j in range(k):\n",
    "        if reortho:\n",
    "            r = mv(A, V[:, j], 0)\n",
    "            if j == 0 and reortho == 2:\n",
    "                U = np.zeros((len(r), k))\n",
    "        else:\n",
    "            r = mv(A, v, 0)\n",
    "\n",
    "        if j > 0:\n",
    "            if reortho == 2:\n",
    "                r -= beta[j-1] * U[:, j-1]\n",
    "                r -= U[:, :j] @ (U[:, :j].T @ r)\n",
    "            else:\n",
    "                r -= beta[j-1] * u\n",
    "        alpha[j] = np.linalg.norm(r)\n",
    "        if alpha[j] == 0:\n",
    "            break\n",
    "\n",
    "        if reortho == 2:\n",
    "            U[:, j] = r / alpha[j]\n",
    "            r = mv(A, U[:, j], 1)\n",
    "        else:\n",
    "            u = r / alpha[j]\n",
    "            r = mv(A, u, 1)\n",
    "\n",
    "        if reortho:\n",
    "            r -= alpha[j] * V[:, j]\n",
    "            r -= V[:, :j+1] @ (V[:, :j+1].T @ r)\n",
    "        else:\n",
    "            r -= alpha[j] * v\n",
    "\n",
    "        if j < k - 1 or full:\n",
    "            beta[j] = np.linalg.norm(r)\n",
    "            if beta[j] == 0:\n",
    "                break\n",
    "\n",
    "            if reortho:\n",
    "                V[:, j+1] = r / beta[j]\n",
    "            else:\n",
    "                v = r / beta[j]\n",
    "\n",
    "    if not reortho:\n",
    "        V = v\n",
    "    if reortho < 2:\n",
    "        U = u\n",
    "\n",
    "    \n",
    "    return V, U, alpha, beta"
   ]
  },
  {
   "cell_type": "code",
   "execution_count": 29,
   "id": "4062d5d6",
   "metadata": {},
   "outputs": [],
   "source": [
    "def krylov_ata_expand(A, V, U, c, k=10):\n",
    "    m = V.shape[1]\n",
    "    V = np.concatenate((V, np.zeros((V.shape[0], k))), axis=1)\n",
    "    U = np.concatenate((U, np.zeros((U.shape[0], k))), axis=1)\n",
    "    alpha = np.zeros(k)\n",
    "    beta = np.zeros(k)\n",
    "    \n",
    "    for j in range(m, k + m):\n",
    "        if j == m:\n",
    "            r = mv(A, V[:, j - 1], 0) - (U[:, :j - 1] @ c.T)\n",
    "        else:\n",
    "            r = mv(A, V[:, j - 1], 0) - beta[j - m - 1] * U[:, j - 2]\n",
    "\n",
    "        r -= - U[:, :j - 1] @ (U[:, :j - 1].T @ r)\n",
    "        alpha[j - m] = np.linalg.norm(r)\n",
    "        if alpha[j - m] == 0:\n",
    "            break\n",
    "        U[:, j - 1] = r / alpha[j - m]\n",
    "        r = mv(A, U[:, j - 1], 1) - alpha[j - m] * V[:, j - 1]\n",
    "        r -= V[:, :j] @ (V[:, :j].T @ r)\n",
    "        beta[j - m] = np.linalg.norm(r)\n",
    "        if beta[j - m] == 0:\n",
    "            break\n",
    "        V[:, j] = r / beta[j - m]\n",
    "\n",
    "    return V, U, alpha, beta"
   ]
  },
  {
   "cell_type": "code",
   "execution_count": 34,
   "id": "4ab7e78b",
   "metadata": {},
   "outputs": [],
   "source": [
    "def krylov_schur_svd(A, **kwargs):\n",
    "    nr = kwargs.get('nr', 1)\n",
    "    v1 = kwargs.get('v1', None)\n",
    "    tol = kwargs.get('tol', 1e-6)\n",
    "    absrel = kwargs.get('absrel', 'rel')\n",
    "    mindim = kwargs.get('mindim', 10)\n",
    "    maxdim = kwargs.get('maxdim', 20)\n",
    "    maxit = kwargs.get('maxit', 1000)\n",
    "    target = kwargs.get('target', np.inf)\n",
    "    info = kwargs.get('info',1)\n",
    "\n",
    "    if v1 is None:\n",
    "        v1 = np.random.rand(A.shape[1])\n",
    "           \n",
    "    if mindim < nr:\n",
    "        mindim = nr\n",
    "    if maxdim < 2 * mindim:\n",
    "        maxdim = 2 * mindim\n",
    "    \n",
    "    if absrel == 'rel' and np.issubdtype(A.dtype, np.number):\n",
    "        tol = tol * np.linalg.norm(A, 1)\n",
    "\n",
    "    B = np.zeros((maxdim, maxdim + 1))\n",
    "    V, U, alpha, beta = krylov_ata(A, v1, mindim)\n",
    "    \n",
    "    # Bidiagonal Form for the first mindim rows and cols\n",
    "    B[:mindim + 1, :mindim + 1] = np.diag(np.append(alpha, [0])) + np.diag(beta, 1)\n",
    "\n",
    "    hist = np.zeros(maxit, dtype=np.float64)\n",
    "    np.set_printoptions(precision=8)\n",
    "    \n",
    "    for k in range(maxit):\n",
    "        V, U, alpha, beta = krylov_ata_expand(A, V, U, B[:mindim, mindim], maxdim - mindim)\n",
    "        B[mindim: maxdim, mindim: maxdim] = np.diag(alpha) + np.diag(beta[:maxdim - mindim - 1], 1)\n",
    "        \n",
    "        B[maxdim - 1, maxdim] = beta[maxdim - mindim - 1]\n",
    "        X, sigma, Y = np.linalg.svd(B[:maxdim, :maxdim])\n",
    "        \n",
    "        # Restart of Lanczos algorithm\n",
    "        V = np.concatenate((element(V[:, :maxdim] @ Y, list(range(V.shape[0])), list(range(mindim))), V[:, maxdim:maxdim + 1]), axis=1)\n",
    "        U = element(U[:, :maxdim] @ X, list(range(U.shape[0])), list(range(mindim)))\n",
    "        \n",
    "        c = B[:, maxdim]\n",
    "        e = (c @ X)[:mindim]\n",
    "\n",
    "        B[:mindim, :mindim + 1] = np.concatenate((np.diag(sigma[:mindim]), e.reshape(-1, 1)), axis=1)\n",
    "        err = np.linalg.norm(e[:nr])\n",
    "        hist[k] = err\n",
    "        \n",
    "        if info:\n",
    "            print(str(k) + \": \" + str(hist[k]))\n",
    "        \n",
    "        if hist[k] < tol:\n",
    "            sigma = sigma[:nr]\n",
    "            V = V[:, :nr]\n",
    "            U = U[:, :nr]\n",
    "            mvs = np.arange(1, k + 1) * (maxdim - mindim) + mindim\n",
    "            print(f\"Found after {k} iterations with residual = {hist[k]}\")\n",
    "            return sigma, V, U, hist[:k+1], mvs\n",
    "    \n",
    "    mvs = 2 * (np.arange(1, k + 1) * (maxdim - mindim) + mindim)\n",
    "    if info:\n",
    "        print(f\"Quit after max {k} iterations with residual = {err}\")\n",
    "    sigma = sigma[:mindim]\n",
    "    V = V[:, :mindim]\n",
    "    return sigma, V, U, hist, mvs"
   ]
  },
  {
   "cell_type": "markdown",
   "id": "84335914-76b8-475c-a2da-3071e4588f17",
   "metadata": {},
   "source": [
    "Tests"
   ]
  },
  {
   "cell_type": "code",
   "execution_count": 32,
   "id": "f5961111",
   "metadata": {},
   "outputs": [
    {
     "data": {
      "text/plain": [
       "array([[ 0.4189,  0.2883,  0.8791, ...,  0.2089,  0.1330,  0.9720],\n",
       "       [ 0.8940,  0.8177,  0.9402, ...,  0.6509,  0.1549,  0.9568],\n",
       "       [ 0.9516,  0.6285,  0.6579, ...,  0.0546,  0.4450,  0.4294],\n",
       "       ...,\n",
       "       [ 0.4985,  0.7463,  0.6161, ...,  0.3733,  0.4859,  0.5512],\n",
       "       [ 0.7652,  0.7560,  0.1963, ...,  0.7100,  0.8250,  0.6307],\n",
       "       [ 0.3147,  0.1564,  0.4410, ...,  0.4126,  0.0246,  0.7984]])"
      ]
     },
     "execution_count": 32,
     "metadata": {},
     "output_type": "execute_result"
    }
   ],
   "source": [
    "A = np.random.rand(200,100)\n",
    "A"
   ]
  },
  {
   "cell_type": "code",
   "execution_count": 35,
   "id": "3b95bfee",
   "metadata": {},
   "outputs": [
    {
     "name": "stdout",
     "output_type": "stream",
     "text": [
      "0: 0.028980390099821597\n",
      "1: 0.0008192285864678848\n",
      "2: 1.695346194602129e-07\n",
      "3: 8.557581065326106e-12\n",
      "4: 1.3922364584763386e-15\n",
      "5: 0.0\n",
      "Found after 5 iterations with residual = 0.0\n"
     ]
    }
   ],
   "source": [
    "sigma, V, U, hist, mvs = krylov_schur_svd(A, **{'info' : 2, 'tol' : 1e-200, 'maxit': 7, 'nr' : 3})"
   ]
  },
  {
   "cell_type": "code",
   "execution_count": 23,
   "id": "57b2be31",
   "metadata": {},
   "outputs": [
    {
     "data": {
      "text/plain": [
       "array([1.08308967e-01, 4.95101308e-04, 2.53482434e-08, 2.39907808e-12,\n",
       "       3.44234363e-16, 0.00000000e+00])"
      ]
     },
     "execution_count": 23,
     "metadata": {},
     "output_type": "execute_result"
    }
   ],
   "source": [
    "hist"
   ]
  },
  {
   "cell_type": "code",
   "execution_count": 260,
   "id": "7d6bf7bb",
   "metadata": {},
   "outputs": [
    {
     "data": {
      "text/plain": [
       "np.float64(2.0017916254222134)"
      ]
     },
     "execution_count": 260,
     "metadata": {},
     "output_type": "execute_result"
    }
   ],
   "source": [
    "np.linalg.norm(A)"
   ]
  },
  {
   "cell_type": "code",
   "execution_count": 265,
   "id": "f605afa4",
   "metadata": {},
   "outputs": [],
   "source": [
    "v = [ 0.0000,  0.6388,  0.6530,  0.7064,  1.1590,  1.6503,  1.8708,  2.3015,  2.5898,\n",
    "  2.8051]"
   ]
  },
  {
   "cell_type": "code",
   "execution_count": 266,
   "id": "aa858cbe",
   "metadata": {},
   "outputs": [
    {
     "data": {
      "text/plain": [
       "[0.0, 0.6388, 0.653]"
      ]
     },
     "execution_count": 266,
     "metadata": {},
     "output_type": "execute_result"
    }
   ],
   "source": [
    "v[:3]"
   ]
  },
  {
   "cell_type": "code",
   "execution_count": 267,
   "id": "6bf74d81",
   "metadata": {},
   "outputs": [
    {
     "data": {
      "text/plain": [
       "np.float64(0.9134957252226198)"
      ]
     },
     "execution_count": 267,
     "metadata": {},
     "output_type": "execute_result"
    }
   ],
   "source": [
    "np.linalg.norm(v[:3])"
   ]
  },
  {
   "cell_type": "markdown",
   "id": "569987a8",
   "metadata": {},
   "source": [
    "# Mega Tester for finding ATA_Expand Error"
   ]
  },
  {
   "cell_type": "code",
   "execution_count": 148,
   "id": "5e69a33b",
   "metadata": {},
   "outputs": [],
   "source": [
    "B = np.random.rand(10,7)"
   ]
  },
  {
   "cell_type": "code",
   "execution_count": 270,
   "id": "b757387e",
   "metadata": {},
   "outputs": [],
   "source": [
    "def tester(A, **kwargs):\n",
    "    nr = kwargs.get('nr', 1)\n",
    "    v1 = kwargs.get('v1', None)\n",
    "    tol = kwargs.get('tol', 1e-6)\n",
    "    absrel = kwargs.get('absrel', 'rel')\n",
    "    mindim = kwargs.get('mindim', 10)\n",
    "    maxdim = kwargs.get('maxdim', 20)\n",
    "    maxit = kwargs.get('maxit', 1000)\n",
    "    target = kwargs.get('target', np.inf)\n",
    "    info = kwargs.get('info',1)\n",
    "\n",
    "    if v1 is None:\n",
    "        v1 = np.random.rand(A.shape[1])\n",
    "    \n",
    "    if mindim < nr:\n",
    "        mindim = nr\n",
    "    if maxdim < 2 * mindim:\n",
    "        maxdim = 2 * mindim\n",
    "    \n",
    "    if absrel == 'rel' and np.issubdtype(A.dtype, np.number):\n",
    "        tol = tol * np.linalg.norm(A, 1)\n",
    "\n",
    "    B = np.zeros((maxdim, maxdim + 1))\n",
    "    V, U, alpha, beta = krylov_ata(A, v1, mindim)\n",
    "    #print(alpha)\n",
    "    #print(beta)\n",
    "    \n",
    "    # Bidiagonal Form\n",
    "    B[:mindim + 1, :mindim + 1] = np.diag(np.append(alpha, [0])) + np.diag(beta, 1)\n",
    "    print(1)\n",
    "    #print(B)\n",
    "    \n",
    "    hist = np.zeros(maxit)\n",
    "    \n",
    "    print(1)\n",
    "    print(A)\n",
    "    print(2)\n",
    "    print(V)\n",
    "    print(3)\n",
    "    print(U)\n",
    "    print(4)\n",
    "    print(B[:mindim, mindim])\n",
    "    print(5)\n",
    "    print(maxdim - mindim)\n",
    "    #V, U, alpha, beta = krylov_ata_expand(A, V, U, B[:mindim, mindim], maxdim - mindim)\n",
    "    #B[mindim: maxdim, mindim: maxdim] = np.diag(alpha) + np.diag(beta[:maxdim - mindim - 1], 1)\n",
    "    print()    \n",
    "    return A,V,U,B[:mindim, mindim], maxdim - mindim     "
   ]
  },
  {
   "cell_type": "code",
   "execution_count": 271,
   "id": "23737344",
   "metadata": {},
   "outputs": [
    {
     "name": "stdout",
     "output_type": "stream",
     "text": [
      "1\n",
      "1\n",
      "[[ 0.6276  0.0101  0.2266  0.5146  0.8531  0.6498  0.3278]\n",
      " [ 0.6545  0.8964  0.6144  0.9838  0.0234  0.0572  0.9396]\n",
      " [ 0.1042  0.4513  0.2136  0.5894  0.0550  0.5751  0.7596]\n",
      " [ 0.5582  0.3725  0.8571  0.4183  0.7060  0.8153  0.9578]\n",
      " [ 0.3397  0.3533  0.6166  0.6457  0.0439  0.7034  0.2721]\n",
      " [ 0.8103  0.0991  0.5226  0.5397  0.2915  0.4921  0.6187]\n",
      " [ 0.8362  0.0212  0.2194  0.7007  0.8103  0.9069  0.3109]\n",
      " [ 0.0126  0.8889  0.5931  0.6955  0.6427  0.1970  0.4673]\n",
      " [ 0.7118  0.0275  0.2076  0.1468  0.4754  0.8085  0.8875]\n",
      " [ 0.8360  0.9918  0.5109  0.6168  0.7391  0.0533  0.4362]]\n",
      "2\n",
      "[[ 0.4863 -0.0840  0.3608  0.1116 -0.0500 -0.4357]\n",
      " [ 0.4435 -0.2001 -0.4965 -0.3421  0.2707 -0.4732]\n",
      " [ 0.4248 -0.1065  0.2396 -0.5761  0.1214  0.6321]\n",
      " [ 0.2472  0.4810 -0.6063  0.2591  0.1640  0.3079]\n",
      " [ 0.5034 -0.2596  0.0977  0.6496 -0.1027  0.2380]\n",
      " [ 0.1005  0.6296  0.4344  0.0496  0.5356 -0.1515]\n",
      " [ 0.2484  0.4965 -0.0001 -0.2167 -0.7650 -0.1107]]\n",
      "3\n",
      "[[ 0.2794  0.0192  0.2689  0.4817 -0.0697]\n",
      " [ 0.3704  0.0087 -0.5383 -0.1306 -0.3488]\n",
      " [ 0.1918  0.4973 -0.4527  0.1743 -0.1471]\n",
      " [ 0.3977  0.0775  0.2918 -0.4914  0.0240]\n",
      " [ 0.2276  0.2797 -0.1303 -0.2118  0.8084]\n",
      " [ 0.2879  0.1316  0.1731 -0.2029 -0.0749]\n",
      " [ 0.3170  0.1725  0.2444  0.5833  0.1797]\n",
      " [ 0.3233 -0.2689 -0.3444  0.1636  0.1046]\n",
      " [ 0.2578  0.3193  0.3472 -0.1575 -0.3846]\n",
      " [ 0.4285 -0.6683  0.0448 -0.0343  0.0310]]\n",
      "4\n",
      "[ 0.0000  0.0000  0.0000  0.0000  0.2901]\n",
      "5\n",
      "10\n",
      "\n"
     ]
    }
   ],
   "source": [
    "a,v,u,b,d = tester(B, **{'info' : 2, 'tol' : 1e-200, 'maxit': 7, 'nr' : 1,'maxdim': 15, 'mindim': 5})"
   ]
  },
  {
   "cell_type": "code",
   "execution_count": 222,
   "id": "710685f8",
   "metadata": {},
   "outputs": [],
   "source": [
    "def krylov_ata_expand(A, V, U, c, k=10):\n",
    "    m = V.shape[1]\n",
    "    V = np.concatenate((V, np.zeros((V.shape[0], k))), axis=1)\n",
    "    U = np.concatenate((U, np.zeros((U.shape[0], k))), axis=1)\n",
    "    alpha = np.zeros(k)\n",
    "    beta = np.zeros(k)\n",
    "    \n",
    "    for j in range(m , k + m):\n",
    "        print(A.shape)\n",
    "        print(V[:, j - 1].shape)\n",
    "        print((A @ V[:, j - 1]).shape)\n",
    "        print(U[:, : j - 1].shape)\n",
    "        print(c.shape)\n",
    "        if j == m:\n",
    "            \n",
    "            ###Either c or c.T\n",
    "            r = mv(A, V[:, j - 1], 0) - (U[:, : j - 1] @ c)\n",
    "        else:\n",
    "            r = mv(A, V[:, j - 1], 0) - beta[j - m - 1] * U[:, j - 2]\n",
    "        \n",
    "        print(j)\n",
    "        print(r)\n",
    "        print('######')\n",
    "        \n",
    "        r = r - U[:, : j - 1] @ (U[:, : j - 1].T @ r)\n",
    "        alpha[j - m] = np.linalg.norm(r)\n",
    "        if alpha[j - m] == 0:\n",
    "            break\n",
    "        U[:, j - 1] = r / alpha[j - m]\n",
    "        r = mv(A, U[:, j - 1], 1) - alpha[j - m] * V[:, j - 1]\n",
    "        r = r - V[:, : j] @ (V[:, :j].T @ r)\n",
    "        beta[j - m] = np.linalg.norm(r)\n",
    "        if beta[j - m] == 0:\n",
    "            break\n",
    "        V[:, j] = r / beta[j - m]\n",
    "\n",
    "    return V, U, alpha, beta"
   ]
  },
  {
   "cell_type": "code",
   "execution_count": 223,
   "id": "f54d3c49",
   "metadata": {},
   "outputs": [
    {
     "name": "stdout",
     "output_type": "stream",
     "text": [
      "(10, 7)\n",
      "(7,)\n",
      "(10,)\n",
      "(10, 5)\n",
      "(5,)\n",
      "6\n",
      "[ 0.1260  0.1113  0.0360  0.0123 -0.1926  0.0613  0.0068  0.0976 -0.0745\n",
      " -0.1923]\n",
      "######\n",
      "(10, 7)\n",
      "(7,)\n",
      "(10,)\n",
      "(10, 6)\n",
      "(5,)\n",
      "7\n",
      "[-0.0853 -0.1211 -0.0468  0.3407 -0.3765 -0.0952 -0.3029  0.0816  0.3300\n",
      "  0.1366]\n",
      "######\n",
      "(10, 7)\n",
      "(7,)\n",
      "(10,)\n",
      "(10, 7)\n",
      "(5,)\n",
      "8\n",
      "[-0.3642 -1.1516 -0.7048 -0.7886 -0.9251 -0.7490 -0.6399 -0.5717 -0.5663\n",
      " -0.8537]\n",
      "######\n",
      "(10, 7)\n",
      "(7,)\n",
      "(10,)\n",
      "(10, 8)\n",
      "(5,)\n",
      "9\n",
      "[-0.5670 -1.9628 -1.5160 -1.1942 -0.9251 -1.1546 -1.4511 -0.9772 -0.9719\n",
      " -0.4481]\n",
      "######\n",
      "(10, 7)\n",
      "(7,)\n",
      "(10,)\n",
      "(10, 9)\n",
      "(5,)\n",
      "10\n",
      "[-2.5500 -5.9764 -5.8826 -3.0223 -1.2282 -3.3312 -4.7288 -2.8785 -3.0765\n",
      "  1.4634]\n",
      "######\n",
      "(10, 7)\n",
      "(7,)\n",
      "(10,)\n",
      "(10, 10)\n",
      "(5,)\n",
      "11\n",
      "[-16.1907 -36.9962 -39.0232 -17.4580 -3.0493 -19.8612 -31.3265 -17.7540\n",
      " -19.1743  16.4009]\n",
      "######\n",
      "(10, 7)\n",
      "(7,)\n",
      "(10,)\n",
      "(10, 11)\n",
      "(5,)\n",
      "12\n",
      "[-199.0360 -438.9395 -470.6434 -203.4000 -28.5324 -235.1074 -371.3925\n",
      " -209.8497 -228.3725  209.3639]\n",
      "######\n",
      "(10, 7)\n",
      "(7,)\n",
      "(10,)\n",
      "(10, 12)\n",
      "(5,)\n",
      "13\n",
      "[-3930.4026 -8696.5451 -9328.9129 -4028.0007 -544.3138 -4652.8273\n",
      " -7376.5949 -4159.0007 -4523.6804  4176.0696]\n",
      "######\n",
      "(10, 7)\n",
      "(7,)\n",
      "(10,)\n",
      "(10, 13)\n",
      "(5,)\n",
      "14\n",
      "[-117143.8564 -258939.4890 -277823.7445 -119905.9290 -16216.9436\n",
      " -138553.3911 -219563.7802 -123821.5390 -134704.6100  124372.0298]\n",
      "######\n",
      "(10, 7)\n",
      "(7,)\n",
      "(10,)\n",
      "(10, 14)\n",
      "(5,)\n",
      "15\n",
      "[-4888715.0011 -10807785.0873 -11595751.3564 -5004832.4030 -676616.4565\n",
      " -5782901.8535 -9164849.2421 -5168220.5879 -5622318.3909  5191247.9400]\n",
      "######\n"
     ]
    }
   ],
   "source": [
    "V, U, alpha, beta = krylov_ata_expand(a,v,u,b,d)"
   ]
  },
  {
   "cell_type": "code",
   "execution_count": 224,
   "id": "76abc391",
   "metadata": {},
   "outputs": [
    {
     "data": {
      "text/plain": [
       "array([ 0.3502,  0.7190,  0.0000,  3.2754,  23.0619,  225.4854,\n",
       "        3608.4118,  89588.0324,  3205165.3986,  156215235.2676])"
      ]
     },
     "execution_count": 224,
     "metadata": {},
     "output_type": "execute_result"
    }
   ],
   "source": [
    "alpha"
   ]
  },
  {
   "cell_type": "code",
   "execution_count": 225,
   "id": "49ec1e67",
   "metadata": {},
   "outputs": [
    {
     "data": {
      "text/plain": [
       "array([ 0.0392,  0.0000,  1.6846,  10.0163,  74.3784,  908.8731,\n",
       "        18050.7222,  537538.5906,  22436169.9188,  1249721896.0021])"
      ]
     },
     "execution_count": 225,
     "metadata": {},
     "output_type": "execute_result"
    }
   ],
   "source": [
    "beta"
   ]
  },
  {
   "cell_type": "code",
   "execution_count": 226,
   "id": "1e0f18dc",
   "metadata": {},
   "outputs": [],
   "source": [
    "def krylov_ata_expand(A, V, U, c, k=10):\n",
    "    m = V.shape[1]\n",
    "    V = np.concatenate((V, np.zeros((V.shape[0], k))), axis=1)\n",
    "    U = np.concatenate((U, np.zeros((U.shape[0], k))), axis=1)\n",
    "    alpha = np.zeros(k)\n",
    "    beta = np.zeros(k)\n",
    "    \n",
    "    for j in range(m, k + m):\n",
    "        if j == m:\n",
    "            r = mv(A, V[:, j - 1], 0) - (U[:, :j - 1] @ c.T)\n",
    "        else:\n",
    "            r = mv(A, V[:, j - 1], 0) - beta[j - m - 1] * U[:, j - 2]\n",
    "\n",
    "        r = r - U[:, :j - 1] @ (U[:, :j - 1].T @ r)\n",
    "        alpha[j - m] = np.linalg.norm(r)\n",
    "        if alpha[j - m] == 0:\n",
    "            break\n",
    "        U[:, j - 1] = r / alpha[j - m]\n",
    "        r = mv(A, U[:, j - 1], 1) - alpha[j - m] * V[:, j - 1]\n",
    "        r = r - V[:, :j] @ (V[:, :j].T @ r)\n",
    "        beta[j - m] = np.linalg.norm(r)\n",
    "        if beta[j - m] == 0:\n",
    "            break\n",
    "        V[:, j] = r / beta[j - m]\n",
    "\n",
    "    return V, U, alpha, beta"
   ]
  },
  {
   "cell_type": "code",
   "execution_count": 227,
   "id": "62c18817",
   "metadata": {},
   "outputs": [],
   "source": [
    "V, U, alpha, beta = krylov_ata_expand(a,v,u,b,d)"
   ]
  },
  {
   "cell_type": "code",
   "execution_count": 228,
   "id": "97c0ebc3",
   "metadata": {},
   "outputs": [
    {
     "data": {
      "text/plain": [
       "array([ 0.3502,  0.7190,  0.0000,  3.2754,  23.0619,  225.4854,\n",
       "        3608.4118,  89588.0324,  3205165.3986,  156215235.2676])"
      ]
     },
     "execution_count": 228,
     "metadata": {},
     "output_type": "execute_result"
    }
   ],
   "source": [
    "alpha"
   ]
  },
  {
   "cell_type": "code",
   "execution_count": 229,
   "id": "c0b8a4c4",
   "metadata": {},
   "outputs": [
    {
     "data": {
      "text/plain": [
       "array([ 0.0392,  0.0000,  1.6846,  10.0163,  74.3784,  908.8731,\n",
       "        18050.7222,  537538.5906,  22436169.9188,  1249721896.0021])"
      ]
     },
     "execution_count": 229,
     "metadata": {},
     "output_type": "execute_result"
    }
   ],
   "source": [
    "beta"
   ]
  },
  {
   "cell_type": "code",
   "execution_count": null,
   "id": "bfc773c9",
   "metadata": {},
   "outputs": [],
   "source": []
  },
  {
   "cell_type": "code",
   "execution_count": null,
   "id": "ac784717",
   "metadata": {},
   "outputs": [],
   "source": []
  }
 ],
 "metadata": {
  "kernelspec": {
   "display_name": "Python 3 (ipykernel)",
   "language": "python",
   "name": "python3"
  },
  "language_info": {
   "codemirror_mode": {
    "name": "ipython",
    "version": 3
   },
   "file_extension": ".py",
   "mimetype": "text/x-python",
   "name": "python",
   "nbconvert_exporter": "python",
   "pygments_lexer": "ipython3",
   "version": "3.12.4"
  }
 },
 "nbformat": 4,
 "nbformat_minor": 5
}
